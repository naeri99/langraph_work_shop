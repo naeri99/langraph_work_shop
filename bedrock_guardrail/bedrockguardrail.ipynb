{
 "cells": [
  {
   "cell_type": "code",
   "execution_count": 1,
   "id": "41b30f8e-6597-408f-b795-e80544305f47",
   "metadata": {},
   "outputs": [],
   "source": [
    "from langchain_aws import ChatBedrockConverse\n",
    "from langchain.schema import HumanMessage, SystemMessage\n",
    "import boto3\n",
    "from langchain_core.output_parsers import StrOutputParser\n",
    "from langchain_core.prompts import ChatPromptTemplate\n",
    "from opensearchpy import OpenSearch, RequestsHttpConnection\n",
    "import os\n",
    "import boto3\n",
    "import json\n",
    "import sys\n",
    "from langchain.schema import BaseRetriever, Document\n",
    "from typing import List, Optional, Dict, Tuple\n",
    "from guardrail import apply_guardrail"
   ]
  },
  {
   "cell_type": "code",
   "execution_count": 2,
   "id": "881e6cfe-9839-4824-8317-7a4b24f755fa",
   "metadata": {},
   "outputs": [],
   "source": [
    "async def extract_text(chain, topic):\n",
    "    collected_text = []\n",
    "    async for event in chain.astream_events({\"topic\": topic}):\n",
    "        if event[\"event\"] == \"on_chat_model_stream\":\n",
    "            chunk = event[\"data\"][\"chunk\"]\n",
    "            if chunk.content:\n",
    "                for content_item in chunk.content:\n",
    "                    if text := content_item.get('text'):\n",
    "                        collected_text.append(text)\n",
    "                        print(text, end=\"\", flush=True)\n",
    "    return \"\".join(collected_text)\n",
    "\n"
   ]
  },
  {
   "cell_type": "code",
   "execution_count": 3,
   "id": "75381b35-3148-440b-9c3e-e97490d2e650",
   "metadata": {},
   "outputs": [],
   "source": [
    "def guardrail_application(text):\n",
    "    condition, violations, filtered_text, response = apply_guardrail(text ,\n",
    "                                                                  \"OUTPUT\", \n",
    "                                                                  'us-east-1', \n",
    "                                                                  \"f6563px1taqw\", \n",
    "                                                                  \"DRAFT\"\n",
    "                                                                )\n",
    "    return condition, violations, filtered_text, response\n",
    "    "
   ]
  },
  {
   "cell_type": "code",
   "execution_count": 4,
   "id": "ebb36b38-16ab-4df1-bbfd-39f0d477669b",
   "metadata": {},
   "outputs": [],
   "source": [
    "bedrock_client = boto3.client(\n",
    "    service_name='bedrock-runtime',\n",
    "    region_name='us-east-1'  # replace with your region\n",
    ")"
   ]
  },
  {
   "cell_type": "code",
   "execution_count": 5,
   "id": "1420ed61-4035-443e-9a39-5fd3eb94f6d5",
   "metadata": {},
   "outputs": [],
   "source": [
    "# Another way to initialize with streaming\n",
    "chat = ChatBedrockConverse(\n",
    "    model_id=\"anthropic.claude-3-sonnet-20240229-v1:0\",\n",
    "    client=bedrock_client,\n",
    "    temperature=0.7,\n",
    "    max_tokens=2000\n",
    ")\n"
   ]
  },
  {
   "cell_type": "code",
   "execution_count": 6,
   "id": "74cdeda8-ead0-4d4d-9e26-7a264f72c6a9",
   "metadata": {},
   "outputs": [],
   "source": [
    "prompt = ChatPromptTemplate.from_messages([\n",
    "    (\"system\", \"You are a helpful assistant.\"),\n",
    "    (\"human\", \"{topic}\")\n",
    "])\n"
   ]
  },
  {
   "cell_type": "code",
   "execution_count": 7,
   "id": "72d0c10b-50af-4a35-b28c-280f69e60b92",
   "metadata": {},
   "outputs": [],
   "source": [
    "parser = StrOutputParser()\n",
    "chain = prompt | chat | parser\n"
   ]
  },
  {
   "cell_type": "code",
   "execution_count": 9,
   "id": "85b7bd9c-450e-4ed5-b15b-85ff217d8f27",
   "metadata": {},
   "outputs": [
    {
     "name": "stdout",
     "output_type": "stream",
     "text": [
      "세계에서 가장 유명한 CEO 10명과 그들에 대한 간략한 설명은 다음과 같습니다.\n",
      "\n",
      ". 일론 머스크 (Elon Musk) - 테슬라, SpaceX, 뉴럴링크 등의 CEO로 전기차와 우주 탐사 분야에서 혁신적인 업적을 이뤘습니다.\n",
      "\n",
      ".팀 쿡 (Tim Cook) - 애플의 CEO로 스티브 잡스 이후 회사를 이끌며 아이폰, 아이패드 등 혁신 제품을 지속 출시했습니다. \n",
      "\n",
      ".제프 베저스 (Jeff Bezos) - 아마존의 설립자이자 전 CEO로 전자상거래 혁명을 이끌었고 블루 오리진을 통해 우주 사업에도 진출했습니다.\n",
      "\n",
      ".사티아 나델라 (Satya Nadella) - 마이크로소프트의 CEO로 클라우드 컴퓨팅과 AI 분야에서 회사를 성장시켰습니다.\n",
      "\n",
      ".메리 바라 (Mary Barra) - 제너럴모터스의 CEO로 자동차 업계의 성공적인 여성 CEO 중 한 명입니다.\n",
      "\n",
      ".진펭 (Ma Huateng) - 텐센트의 설립자 겸 CEO로 중국 최대 인터넷 기업을 이끌고 있습니다.\n",
      "\n",
      ".마크 저커버그 (Mark Zuckerberg) - 페이스북의 공동 창립자이자 CEO로 소셜 미디어 혁명을 주도했습니다.\n",
      "\n",
      ".리드 헤이스팅스 (Reed Hastings) - 넷플릭스의 공동 설립자 겸 CEO로 온라인 스트리밍 서비스를 선구적으로 이끌었습니다.\n",
      "\n",
      ".샐리 크루 (Salli Krawcheck) - 엘레벤 전 CEO로 금융 분야에서 여성 지도자로 활약했습니다.\n",
      "\n",
      ".아리아나 허플잉턴 (Arianna Huffington) - 허핑턴포스트의 공동 설립자이자 전 CEO로 온라인 저널리즘 혁신을 이끌었습니다."
     ]
    }
   ],
   "source": [
    "full_text = await extract_text(chain, \"세계에서 유명한 CEO 10명에 대한 이름과 자세한 설명을 같이 적어줘\")"
   ]
  },
  {
   "cell_type": "code",
   "execution_count": 21,
   "id": "3960ce94-79c6-404e-955c-e1fd55d75dd8",
   "metadata": {},
   "outputs": [],
   "source": [
    "from IPython.display import display, clear_output\n"
   ]
  },
  {
   "cell_type": "code",
   "execution_count": 22,
   "id": "a57abbb9-96c9-49c0-9414-8042da9bf3f6",
   "metadata": {},
   "outputs": [],
   "source": [
    "stream = chain.astream_events({\"topic\": \"세계에서 유명한 CEO 10명에 대한 이름과 자세한 설명을 같이 적어줘\"})"
   ]
  },
  {
   "cell_type": "code",
   "execution_count": 23,
   "id": "e7e494c4-cbdf-4544-a35d-cf5552d53556",
   "metadata": {},
   "outputs": [],
   "source": [
    "\n",
    "async def process_stream_display(stream):\n",
    "    collected_text = []\n",
    "    processed_count = 0\n",
    "    full_output = \"\"\n",
    "    \n",
    "    async for event in stream:\n",
    "        if event[\"event\"] == \"on_chat_model_stream\":\n",
    "            chunk = event[\"data\"][\"chunk\"]\n",
    "            if chunk.content:\n",
    "                for content_item in chunk.content:\n",
    "                    if text := content_item.get('text'):\n",
    "                        collected_text.append(text)\n",
    "                        \n",
    "                        # 길이가 100의 배수에 도달했는지 확인\n",
    "                        length_string = len(collected_text)\n",
    "                        print_point = length_string % 100\n",
    "                        if print_point == 0:\n",
    "                            # 새로운 배치 처리 (마지막 100개 항목)\n",
    "                            quotient = length_string // 100  \n",
    "                            end_p = quotient*100\n",
    "                            start_p = quotient*100 - 100\n",
    "                            \n",
    "                            current_batch = collected_text[start_p:end_p]\n",
    "                            batch_text = \"\".join(current_batch)\n",
    "                            condition, violations, filtered_text, response = guardrail_application(batch_text)\n",
    "                            \n",
    "                            # 출력에 추가\n",
    "                            full_output += filtered_text\n",
    "                            \n",
    "                            # 전체 출력 업데이트\n",
    "                            clear_output(wait=True)\n",
    "                            display(full_output)\n",
    "                            \n",
    "                            # 처리된 카운트 업데이트\n",
    "                            processed_count = len(collected_text)\n",
    "    \n",
    "    # 남은 텍스트 처리\n",
    "    if len(collected_text) > processed_count:\n",
    "        remaining_batch = collected_text[processed_count:]\n",
    "        remaining_text = \"\".join(remaining_batch)\n",
    "        condition, violations, filtered_text, response = guardrail_application(remaining_text)\n",
    "        \n",
    "        # 출력에 추가\n",
    "        full_output += filtered_text\n",
    "        \n",
    "        # 최종 출력 업데이트\n",
    "        clear_output(wait=True)\n",
    "        display(full_output)\n"
   ]
  },
  {
   "cell_type": "code",
   "execution_count": 24,
   "id": "4db4801e-9afd-4fc2-a8c4-beddfc91996f",
   "metadata": {},
   "outputs": [
    {
     "data": {
      "text/plain": [
       "'물론입니다. 세계에서 가장 유명한 CEO 10명과 그들에 대한 자세한 설명을 알려드리겠습니다.\\n\\n1. {NAME}) - 테{NAME}, 스{NAME}, {NAME} 등의 CEO로 전기차와 우주 탐사 분야에서 혁신적인 기술을 선보이고 있습니다. 비전과 추진력이 강한 리더로 평가받고 있습니다.\\n\\n2. {NAME} ({NAME}) - 애플의 CEO로 {NAME} 이후 회사를 이끌고 있습니다. 아이폰, 아이패드 등 혁신적인 제품을 지속적으로 출시하며 애플의 성장을 이끌고 있습니다.\\n\\n3. {NAME}{NAME}) - 아마존의 창업자이자 전 CEO로 전자상거래 혁명을 이끌었습니다. 우주 탐사 기업 블루 오리진도 운영하고 있습니다.\\n\\n4.{NAME}{NAME}) - 페이스북의 창업자이자 CEO로 소셜미디어 분야를 선도하고 있습니다. 메타버스에도 많은 투자를 하고 있습니다.\\n\\n5.{NAME}) - 마이크로소프트의 CEO로 클라우드 컴퓨팅과 인공지능 분야에서 적극적인 투자를 하고 있습니다.\\n\\n6.{NAME}) - 넷플릭스의 공동 창업자이자 CEO로 온라인 스트리밍 서비스를 선도하고 있습니다.\\n\\n7.{NAME}) - 마이크로소프트의 전 CEO로 기업 문화 혁신과 성장에 기여했습니다.\\n\\n8.{NAME} ({NAME}) - 제너럴모터스의 CEO로 자동차 산업에서 여성 CEO로는 드물게 성공을 거두고 있습니다. \\n\\n9.{NAME}{NAME}) - 스타벅스의 전 CEO로 커피 전문점 체인을 세계적인 브랜드로 성장시켰습니다.\\n\\n10. {NAME}) - 구글의 CEO로 인공지능과 클라우드 컴퓨팅 분야에서 혁신을 이끌고 있습니다.'"
      ]
     },
     "metadata": {},
     "output_type": "display_data"
    }
   ],
   "source": [
    "await process_stream_display(stream)\n"
   ]
  },
  {
   "cell_type": "code",
   "execution_count": null,
   "id": "fc523655-e4ff-4607-bdf7-252b58401a50",
   "metadata": {},
   "outputs": [],
   "source": []
  }
 ],
 "metadata": {
  "kernelspec": {
   "display_name": "Python 3 (ipykernel)",
   "language": "python",
   "name": "python3"
  },
  "language_info": {
   "codemirror_mode": {
    "name": "ipython",
    "version": 3
   },
   "file_extension": ".py",
   "mimetype": "text/x-python",
   "name": "python",
   "nbconvert_exporter": "python",
   "pygments_lexer": "ipython3",
   "version": "3.12.9"
  }
 },
 "nbformat": 4,
 "nbformat_minor": 5
}
