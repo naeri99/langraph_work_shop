{
 "cells": [
  {
   "cell_type": "code",
   "execution_count": 13,
   "id": "ed5bbcaa-b455-4020-81d1-00d0b203f440",
   "metadata": {},
   "outputs": [],
   "source": [
    "# Standard library imports\n",
    "import os\n",
    "import json\n",
    "import sys\n",
    "import re\n",
    "import concurrent.futures\n",
    "from typing import List, Dict, Any, Tuple, TypedDict, Annotated, Optional , Literal\n",
    "\n",
    "# Third-party imports\n",
    "import boto3\n",
    "import fitz\n",
    "import requests\n",
    "from bs4 import BeautifulSoup\n",
    "from opensearchpy import OpenSearch, RequestsHttpConnection\n",
    "from pydantic import BaseModel, Field, ValidationError\n",
    "from IPython.display import Image\n",
    "\n",
    "# LangChain core imports\n",
    "from langchain_core.documents import Document\n",
    "from langchain_core.messages import HumanMessage, AIMessage, ToolMessage, SystemMessage\n",
    "from langchain_core.output_parsers import StrOutputParser\n",
    "from langchain_core.prompts import ChatPromptTemplate, PromptTemplate\n",
    "from langchain_core.runnables import RunnableParallel, RunnablePassthrough, RunnableLambda\n",
    "from langchain_core.runnables.graph import CurveStyle, MermaidDrawMethod, NodeStyles\n",
    "from langchain_core.tools import tool\n",
    "from langchain.schema import BaseRetriever, Document\n",
    "\n",
    "# LangGraph imports\n",
    "from langgraph.graph import StateGraph, add_messages, START, END\n",
    "from langgraph.prebuilt import ToolNode, tools_condition\n",
    "\n",
    "# LangChain AWS imports\n",
    "from langchain_aws import ChatBedrockConverse, BedrockEmbeddings\n",
    "\n",
    "# LangChain experimental imports\n",
    "from langchain_experimental.tools.python.tool import PythonAstREPLTool\n",
    "\n",
    "# LangChain community imports\n",
    "from langchain_community.tools.tavily_search import TavilySearchResults\n",
    "\n",
    "# Operator imports\n",
    "from operator import itemgetter\n",
    "\n",
    "from langchain_core.messages import HumanMessage, AIMessage, SystemMessage\n"
   ]
  },
  {
   "cell_type": "code",
   "execution_count": 14,
   "id": "ce97c483-5c0c-41f4-be8f-e3155dde091c",
   "metadata": {},
   "outputs": [],
   "source": [
    "def visualize(graph):\n",
    "    display(\n",
    "    Image(\n",
    "        graph.get_graph().draw_mermaid_png(\n",
    "            draw_method=MermaidDrawMethod.API,\n",
    "        )\n",
    "    )\n",
    "    )"
   ]
  },
  {
   "cell_type": "code",
   "execution_count": 15,
   "id": "74e46cdf-e2dd-48c7-8a16-92da4ecdce3a",
   "metadata": {},
   "outputs": [],
   "source": [
    "bedrock_client = boto3.client(\n",
    "    service_name='bedrock-runtime',\n",
    "    region_name='us-east-1'  # replace with your region\n",
    ")\n",
    "llm = ChatBedrockConverse(\n",
    "    model_id=\"anthropic.claude-3-sonnet-20240229-v1:0\",\n",
    "    client=bedrock_client,\n",
    "    temperature=0.7,\n",
    "    max_tokens=2000\n",
    ")"
   ]
  },
  {
   "cell_type": "code",
   "execution_count": 16,
   "id": "507f82d7-47b5-4873-b43f-170c3a5ef3b9",
   "metadata": {},
   "outputs": [],
   "source": [
    "from typing import TypedDict, Annotated\n",
    "from langgraph.graph import StateGraph, START, END\n",
    "from langgraph.graph.message import add_messages\n",
    "from langchain_core.messages import HumanMessage, AIMessage\n",
    "\n",
    "# state생성\n",
    "class SubState(TypedDict):\n",
    "    messages: Annotated[list, add_messages]\n",
    "    num_add: int  # Add this field to track a counter\n",
    "\n",
    "# 노드 1 생성\n",
    "def subgraph_n1(state: SubState):\n",
    "    # Access the current messages and num_add\n",
    "    current_messages = state[\"messages\"]\n",
    "    current_num = state[\"num_add\"]\n",
    "    print(\"checone-> Current messages:\", current_messages)\n",
    "    \n",
    "    print(f\"subgraph_n1: Current num_add = {current_num}\")\n",
    "    \n",
    "    # Return updated state\n",
    "    return {\n",
    "        \"messages\": [AIMessage(content=\"반갑습니다\")], \n",
    "        \"num_add\": current_num + 1\n",
    "    }\n",
    "\n",
    "# 노드 2 생성\n",
    "def subgraph_n2(state: SubState):\n",
    "    # Access the current messages and num_add\n",
    "    current_messages = state[\"messages\"]\n",
    "    current_num = state[\"num_add\"]\n",
    "    \n",
    "    print(f\"subgraph_n2: Current num_add = {current_num}\")\n",
    "    print(\"checktwo-> Current messages:\", current_messages)\n",
    "    \n",
    "    # Return updated state\n",
    "    return {\n",
    "        \"messages\": [AIMessage(content=\"무엇을 원하세요\")], \n",
    "        \"num_add\": current_num + 1\n",
    "    }\n",
    "\n",
    "subgraph_builder = StateGraph(SubState)\n",
    "subgraph_builder.add_node(\"subgraph_n1\", subgraph_n1)\n",
    "subgraph_builder.add_node(\"subgraph_n2\", subgraph_n2)\n",
    "subgraph_builder.add_edge(START, \"subgraph_n1\")\n",
    "subgraph_builder.add_edge(\"subgraph_n1\", \"subgraph_n2\")\n",
    "subgraph_builder.add_edge(\"subgraph_n2\", END)\n",
    "subgraph = subgraph_builder.compile()\n",
    "\n",
    "\n"
   ]
  },
  {
   "cell_type": "code",
   "execution_count": 17,
   "id": "2b31dccc-11f4-4211-84b3-00cd8563e5ec",
   "metadata": {},
   "outputs": [
    {
     "data": {
      "image/png": "[encoded data removed]",
      "text/plain": [
       "<IPython.core.display.Image object>"
      ]
     },
     "metadata": {},
     "output_type": "display_data"
    }
   ],
   "source": [
    "visualize(subgraph)"
   ]
  },
  {
   "cell_type": "code",
   "execution_count": 18,
   "id": "7e4006fc-0d11-4cfc-bad6-6333b4e45f10",
   "metadata": {},
   "outputs": [
    {
     "name": "stdout",
     "output_type": "stream",
     "text": [
      "checone-> Current messages: [HumanMessage(content='안녕하세요', additional_kwargs={}, response_metadata={}, id='757ca750-de29-4f66-9493-5aeda39dcbc0')]\n",
      "subgraph_n1: Current num_add = 0\n",
      "subgraph_n2: Current num_add = 1\n",
      "checktwo-> Current messages: [HumanMessage(content='안녕하세요', additional_kwargs={}, response_metadata={}, id='757ca750-de29-4f66-9493-5aeda39dcbc0'), AIMessage(content='반갑습니다', additional_kwargs={}, response_metadata={}, id='9d155da3-5062-4ae5-9260-10cf7b31c431')]\n",
      "\n",
      "Final state:\n",
      "num_add: 2\n",
      "Messages:\n",
      "human: 안녕하세요\n",
      "ai: 반갑습니다\n",
      "ai: 무엇을 원하세요\n"
     ]
    }
   ],
   "source": [
    "# Run the graph with ALL required fields in the initial state\n",
    "result = subgraph.invoke({\n",
    "    \"messages\": [HumanMessage(content=\"안녕하세요\")],\n",
    "    \"num_add\": 0  # Initialize num_add to 0\n",
    "})\n",
    "\n",
    "# 결과 출력\n",
    "print(\"\\nFinal state:\")\n",
    "print(f\"num_add: {result['num_add']}\")\n",
    "print(\"Messages:\")\n",
    "for msg in result[\"messages\"]:\n",
    "    print(f\"{msg.type}: {msg.content}\")\n"
   ]
  },
  {
   "cell_type": "code",
   "execution_count": 19,
   "id": "268c3f4f-a5d8-499a-8df2-1acb89384009",
   "metadata": {},
   "outputs": [],
   "source": [
    "class ParentState(TypedDict):\n",
    "    messages_top: Annotated[list, add_messages]\n",
    "    num_add: int\n",
    "\n",
    "\n",
    "# 부모 그래프의 첫 번째 노드, name 키의 값을 수정하여 새로운 상태 생성\n",
    "def node_1(state: ParentState):\n",
    "    current_messages = state[\"messages_top\"]\n",
    "    current_num = state[\"num_add\"]\n",
    "    return {\n",
    "        \"messages_top\": [AIMessage(content=\"빅뱅의 거짓말입니다\")], \n",
    "        \"num_add\": current_num + 1\n",
    "    }\n",
    "\n",
    "\n",
    "# 부모 그래프 구조 정의 및 서브그래프를 포함한 노드 간 연결 관계 설정\n",
    "builder = StateGraph(ParentState)\n",
    "builder.add_node(\"node_1\", node_1)\n",
    "# 컴파일된 서브그래프를 부모 그래프의 노드로 추가\n",
    "builder.add_node(\"node_2\", subgraph)\n",
    "builder.add_edge(START, \"node_1\")\n",
    "builder.add_edge(\"node_1\", \"node_2\")\n",
    "builder.add_edge(\"node_2\", END)\n",
    "graph = builder.compile()"
   ]
  },
  {
   "cell_type": "code",
   "execution_count": 20,
   "id": "c1f029cb-2245-428d-b182-7558d6d0686d",
   "metadata": {},
   "outputs": [
    {
     "data": {
      "image/png": "[encoded data removed]",
      "text/plain": [
       "<IPython.core.display.Image object>"
      ]
     },
     "metadata": {},
     "output_type": "display_data"
    }
   ],
   "source": [
    "visualize(graph)"
   ]
  },
  {
   "cell_type": "code",
   "execution_count": 21,
   "id": "f7e0ff24-e9de-4527-abcb-850707614b11",
   "metadata": {},
   "outputs": [
    {
     "name": "stdout",
     "output_type": "stream",
     "text": [
      "{'node_1': {'messages_top': [AIMessage(content='빅뱅의 거짓말입니다', additional_kwargs={}, response_metadata={}, id='41c33f53-916d-4745-aac4-5292207298c7')], 'num_add': 1}}\n",
      "checone-> Current messages: []\n",
      "subgraph_n1: Current num_add = 1\n",
      "subgraph_n2: Current num_add = 2\n",
      "checktwo-> Current messages: [AIMessage(content='반갑습니다', additional_kwargs={}, response_metadata={}, id='89dafd47-3c97-483e-a6b7-90e929d5e391')]\n",
      "{'node_2': {'num_add': 3}}\n"
     ]
    }
   ],
   "source": [
    "for chunk in graph.stream({\"messages_higher\": \"좋아하는 음악은 무엇인가요?\", \"num_add\": 0 }):\n",
    "    print(chunk)\n"
   ]
  },
  {
   "cell_type": "code",
   "execution_count": 22,
   "id": "2f4b59be-efe9-4c1b-90d1-7180fb65092c",
   "metadata": {},
   "outputs": [
    {
     "name": "stdout",
     "output_type": "stream",
     "text": [
      "checone-> Current messages: []\n",
      "subgraph_n1: Current num_add = 1\n",
      "subgraph_n2: Current num_add = 2\n",
      "checktwo-> Current messages: [AIMessage(content='반갑습니다', additional_kwargs={}, response_metadata={}, id='4e1001e4-359d-4120-aa71-91d2ff786bd8')]\n"
     ]
    }
   ],
   "source": [
    "result = graph.invoke({\"messages_higher\": \"좋아하는 음악은 무엇인가요?\", \"num_add\": 0 })"
   ]
  },
  {
   "cell_type": "code",
   "execution_count": 23,
   "id": "bffee806-88d6-4ee0-b2f9-6feff99a3486",
   "metadata": {},
   "outputs": [
    {
     "data": {
      "text/plain": [
       "{'messages_top': [AIMessage(content='빅뱅의 거짓말입니다', additional_kwargs={}, response_metadata={}, id='b40e4398-dfd8-418b-8440-c4727cfdd836')],\n",
       " 'num_add': 3}"
      ]
     },
     "execution_count": 23,
     "metadata": {},
     "output_type": "execute_result"
    }
   ],
   "source": [
    "result"
   ]
  },
  {
   "cell_type": "code",
   "execution_count": null,
   "id": "0cdaadc5-4afd-4585-a853-0ebe38deb860",
   "metadata": {},
   "outputs": [],
   "source": []
  },
  {
   "cell_type": "code",
   "execution_count": null,
   "id": "61c60cff-ce41-40f5-97f3-7bef3522a51b",
   "metadata": {},
   "outputs": [],
   "source": []
  },
  {
   "cell_type": "code",
   "execution_count": null,
   "id": "83dde7bd-fcd4-41ef-ac50-25f26a721163",
   "metadata": {},
   "outputs": [],
   "source": []
  },
  {
   "cell_type": "code",
   "execution_count": null,
   "id": "deec0076-cef2-4ba6-9ce7-aee3890a0e36",
   "metadata": {},
   "outputs": [],
   "source": []
  }
 ],
 "metadata": {
  "kernelspec": {
   "display_name": "Python 3 (ipykernel)",
   "language": "python",
   "name": "python3"
  },
  "language_info": {
   "codemirror_mode": {
    "name": "ipython",
    "version": 3
   },
   "file_extension": ".py",
   "mimetype": "text/x-python",
   "name": "python",
   "nbconvert_exporter": "python",
   "pygments_lexer": "ipython3",
   "version": "3.12.9"
  }
 },
 "nbformat": 4,
 "nbformat_minor": 5
}
