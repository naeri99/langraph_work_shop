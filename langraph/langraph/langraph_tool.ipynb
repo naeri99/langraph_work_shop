{
 "cells": [
  {
   "cell_type": "code",
   "execution_count": 1,
   "id": "3b07852c-7a4d-4970-8d99-f2354ed825bd",
   "metadata": {},
   "outputs": [],
   "source": [
    "# Standard library imports\n",
    "import os\n",
    "import json\n",
    "import sys\n",
    "import re\n",
    "import concurrent.futures\n",
    "from typing import List, Dict, Any, Tuple, TypedDict, Annotated, Optional\n",
    "\n",
    "# Third-party imports\n",
    "import boto3\n",
    "import fitz\n",
    "import requests\n",
    "from bs4 import BeautifulSoup\n",
    "from opensearchpy import OpenSearch, RequestsHttpConnection\n",
    "from pydantic import BaseModel, Field, ValidationError\n",
    "from IPython.display import Image\n",
    "\n",
    "# LangChain core imports\n",
    "from langchain_core.documents import Document\n",
    "from langchain_core.messages import HumanMessage, AIMessage, ToolMessage, SystemMessage\n",
    "from langchain_core.output_parsers import StrOutputParser\n",
    "from langchain_core.prompts import ChatPromptTemplate, PromptTemplate\n",
    "from langchain_core.runnables import RunnableParallel, RunnablePassthrough, RunnableLambda\n",
    "from langchain_core.runnables.graph import CurveStyle, MermaidDrawMethod, NodeStyles\n",
    "from langchain_core.tools import tool\n",
    "from langchain.schema import BaseRetriever, Document\n",
    "\n",
    "# LangGraph imports\n",
    "from langgraph.graph import StateGraph, add_messages, START, END\n",
    "from langgraph.prebuilt import ToolNode, tools_condition\n",
    "\n",
    "# LangChain AWS imports\n",
    "from langchain_aws import ChatBedrockConverse, BedrockEmbeddings\n",
    "\n",
    "# LangChain experimental imports\n",
    "from langchain_experimental.tools.python.tool import PythonAstREPLTool\n",
    "\n",
    "# LangChain community imports\n",
    "from langchain_community.tools.tavily_search import TavilySearchResults\n",
    "\n",
    "# Operator imports\n",
    "from operator import itemgetter\n",
    "\n"
   ]
  },
  {
   "cell_type": "code",
   "execution_count": 2,
   "id": "770c32a6-37e1-4bc1-8bd1-12ed7d865b26",
   "metadata": {},
   "outputs": [],
   "source": [
    "def visualize(graph):\n",
    "    display(\n",
    "    Image(\n",
    "        graph.get_graph().draw_mermaid_png(\n",
    "            draw_method=MermaidDrawMethod.API,\n",
    "        )\n",
    "    )\n",
    "    )"
   ]
  },
  {
   "cell_type": "code",
   "execution_count": 3,
   "id": "6dc99e64-9bcd-4278-8f9d-e9d762abafad",
   "metadata": {},
   "outputs": [],
   "source": [
    "class State(TypedDict):\n",
    "    messages: Annotated[List, add_messages]\n",
    "    tools: List[Dict[str, Any]]\n"
   ]
  },
  {
   "cell_type": "code",
   "execution_count": 4,
   "id": "32be38e8-ff65-4729-abed-33fbbd124427",
   "metadata": {},
   "outputs": [],
   "source": [
    "bedrock_client = boto3.client(\n",
    "    service_name='bedrock-runtime',\n",
    "    region_name='us-east-1'  # replace with your region\n",
    ")\n",
    "llm = ChatBedrockConverse(\n",
    "    model_id=\"anthropic.claude-3-sonnet-20240229-v1:0\",\n",
    "    client=bedrock_client,\n",
    "    temperature=0.7,\n",
    "    max_tokens=2000\n",
    ")"
   ]
  },
  {
   "cell_type": "code",
   "execution_count": 5,
   "id": "92ef9dc6-be1c-4eb2-84ea-0cc869bcfd98",
   "metadata": {},
   "outputs": [],
   "source": [
    "# Define your state\n",
    "class State(TypedDict):\n",
    "    messages: Annotated[List, add_messages]\n",
    "    tools_list: List  # Store the tools\n",
    "\n",
    "# Set up API key\n",
    "os.environ[\"TAVILY_API_KEY\"] = \"xxxx\"\n",
    "search_tool = TavilySearchResults()\n",
    "\n",
    "\n",
    "@tool\n",
    "def python_code_interpreter(code: str):\n",
    "    \"\"\"Call to execute python code.\"\"\"\n",
    "    return PythonAstREPLTool().invoke(code)\n",
    "\n",
    "@tool\n",
    "def search_func(question: str):\n",
    "    \"\"\"Search the web for information using Tavily search engine\"\"\"\n",
    "    # Use the tool to search\n",
    "    search_results = search_tool.invoke(question)\n",
    "    return search_results\n",
    "\n",
    "# Create a list of tools\n",
    "tools = [search_func, python_code_interpreter]\n",
    "\n",
    "\n",
    "\n",
    "# Create the tool node\n",
    "tool_node = ToolNode(tools)\n",
    "\n"
   ]
  },
  {
   "cell_type": "code",
   "execution_count": 6,
   "id": "635d0eea-0fd0-4d6a-9aa3-90cfb3d6720a",
   "metadata": {},
   "outputs": [],
   "source": [
    "model_with_tools = llm.bind_tools(tools)\n"
   ]
  },
  {
   "cell_type": "code",
   "execution_count": 7,
   "id": "6f57f533-35e4-44d3-b60c-9928f36eb946",
   "metadata": {},
   "outputs": [
    {
     "data": {
      "text/plain": [
       "[{'name': 'python_code_interpreter',\n",
       "  'args': {'code': 'def is_prime(n):\\n    if n < 2:\\n        return False\\n    for i in range(2, int(n**0.5) + 1):\\n        if n % i == 0:\\n            return False\\n    return True\\n\\nprimes = []\\nn = 2\\nwhile len(primes) < 5:\\n    if is_prime(n):\\n        primes.append(n)\\n    n += 1\\n\\nprint(primes)'},\n",
       "  'id': 'tooluse_mQf2NHdXQ8-aCOt1sNOm4Q',\n",
       "  'type': 'tool_call'}]"
      ]
     },
     "execution_count": 7,
     "metadata": {},
     "output_type": "execute_result"
    }
   ],
   "source": [
    "model_with_tools.invoke(\"처음 5개의 소수를 출력하는 python code 를 작성해줘\").tool_calls\n"
   ]
  },
  {
   "cell_type": "code",
   "execution_count": 8,
   "id": "36521b33-6166-454b-bfb6-d84b56b7d1c6",
   "metadata": {},
   "outputs": [
    {
     "data": {
      "text/plain": [
       "{'messages': [ToolMessage(content='[{\"title\": \"Large language model - Wikipedia\", \"url\": \"https://en.wikipedia.org/wiki/Large_language_model\", \"content\": \"A large language model (LLM) is a type of machine learning model designed for natural language processing tasks such as language generation. LLMs are language models with many parameters, and are trained with self-supervised learning on a vast amount of text.\", \"score\": 0.95176035}, {\"title\": \"What are Large Language Models? | A Comprehensive LLMs Guide\", \"url\": \"https://www.elastic.co/what-is/large-language-models\", \"content\": \"What are large language models (LLMs)?\\\\nExperiment with RAG using AI Playground\\\\nLarge language model definition\\\\nA large language model (LLM) is a deep learning algorithm that can perform a variety of natural language processing (NLP) tasks. Large language models use transformer models and are trained using massive datasets — hence, large. This enables them to recognize, translate, predict, or generate text or other content. [...] Key components of large language models\\\\nLarge language models are composed of multiple neural network layers. Recurrent layers, feedforward layers, embedding layers, and attention layers work in tandem to process the input text and generate output content.\\\\nThe embedding layer creates embeddings from the input text. This part of the large language model captures the semantic and syntactic meaning of the input, so the model can understand context. [...] How do large language models work?\\\\nA large language model is based on a transformer model and works by receiving an input, encoding it, and then decoding it to produce an output prediction. But before a large language model can receive text input and generate an output prediction, it requires training, so that it can fulfill general functions, and fine-tuning, which enables it to perform specific tasks.\", \"score\": 0.94475573}, {\"title\": \"What are Large Language Models (LLMs)? - TechTarget\", \"url\": \"https://www.techtarget.com/whatis/definition/large-language-model-LLM\", \"content\": \"A large language model is a type of artificial intelligence algorithm that uses\\xa0deep learning\\xa0techniques and massively large data sets to understand, summarize, generate and predict new content. The term\\xa0generative AI\\xa0also is closely connected with LLMs, which are, in fact, a type of generative AI that has been specifically architected to help generate text-based content. [...] An LLM is the evolution of the language model concept in AI that dramatically expands the data used for training and inference. In turn, it provides a massive increase in the capabilities of the AI model. While there isn\\'t a universally accepted figure for how large the data set for training needs to be, an LLM typically has at least one billion or more parameters. Parameters\\xa0are a\\xa0machine learning\\xa0term for the variables present in the model on which it was trained that can be used to infer new\", \"score\": 0.9387167}, {\"title\": \"What is an LLM (large language model)? - Cloudflare\", \"url\": \"https://www.cloudflare.com/learning/ai/what-is-large-language-model/\", \"content\": \"A large language model (LLM) is a type of artificial intelligence (AI) program that can recognize and generate text, among other tasks. LLMs are trained on huge sets of data — hence the name \\\\\"large.\\\\\" LLMs are built on machine learning: specifically, a type of neural network called a transformer model. [...] Log in\\\\nSolutionsProductsPricingResourcesPartnersWhy Cloudflare\\\\nSupport\\\\nSign up\\\\nWhat is a large language model (LLM)?\\\\nLarge language models (LLMs) are machine learning models that can comprehend and generate human language text. They work by analyzing massive data sets of language.\\\\nLearning Center\\\\n\\\\n\\\\nWhat is artificial intelligence (AI)?\\\\n\\\\n\\\\nWhat is a large language model (LLM)?\\\\n\\\\n\\\\nMachine learning\\\\n\\\\nGlossary\\\\n\\\\nLearning Objectives\\\\nAfter reading this article you will be able to:\", \"score\": 0.9365236}, {\"title\": \"What are Large Language Models? | NVIDIA\", \"url\": \"https://www.nvidia.com/en-us/glossary/large-language-models/\", \"content\": \"Large Language Models Explained\\\\nLarge language models (LLMs) are deep learning algorithms that can recognize, summarize, translate, predict, and generate content using very large datasets.\\\\nWhat are Large Language Models?\\\\nLarge language models largely represent a class of deep learning architectures called transformer networks. A transformer model is a neural network that learns context and meaning by tracking relationships in sequential data, like the words in this sentence. [...] However, large language models, which are trained on internet-scale datasets with hundreds of billions of parameters, have now unlocked an AI model’s ability to generate human-like content.\\\\nModels can read, write, code, draw, and create in a credible fashion and augment human creativity and improve productivity across industries to solve the world’s toughest problems.\", \"score\": 0.9336793}]', name='search_func', tool_call_id='tooluse_1MgBzgX0TaOFs3Ov4hj2zQ')]}"
      ]
     },
     "execution_count": 8,
     "metadata": {},
     "output_type": "execute_result"
    }
   ],
   "source": [
    "tool_node.invoke(\n",
    "    {\n",
    "        \"messages\": [\n",
    "            model_with_tools.invoke(\n",
    "                \"llm에 대하여 서치해줘\"\n",
    "            )\n",
    "        ]\n",
    "    }\n",
    ")\n"
   ]
  },
  {
   "cell_type": "code",
   "execution_count": 9,
   "id": "f258f1d6-efce-41d8-9ae2-e4e8050f0ccb",
   "metadata": {},
   "outputs": [],
   "source": [
    "from langgraph.graph import StateGraph, MessagesState, START, END\n",
    "\n",
    "\n",
    "# LLM 모델을 사용하여 메시지 처리 및 응답 생성, 도구 호출이 포함된 응답 반환\n",
    "def call_model(state: MessagesState):\n",
    "    messages = state[\"messages\"]\n",
    "    response = model_with_tools.invoke(messages)\n",
    "    return {\"messages\": [response]}\n"
   ]
  },
  {
   "cell_type": "code",
   "execution_count": 10,
   "id": "1f4ef0c1-0869-49f9-bfbd-1e03db0cc93c",
   "metadata": {},
   "outputs": [
    {
     "data": {
      "text/plain": [
       "<langgraph.graph.state.StateGraph at 0x7f4bd2b5c980>"
      ]
     },
     "execution_count": 10,
     "metadata": {},
     "output_type": "execute_result"
    }
   ],
   "source": [
    "workflow = StateGraph(MessagesState)\n",
    "\n",
    "# 에이전트와 도구 노드 정의 및 워크플로우 그래프에 추가\n",
    "workflow.add_node(\"agent\", call_model)\n",
    "workflow.add_node(\"tools\", tool_node)"
   ]
  },
  {
   "cell_type": "code",
   "execution_count": 11,
   "id": "38922392-099a-4df7-a9c7-e415a9e1e9e3",
   "metadata": {},
   "outputs": [
    {
     "data": {
      "text/plain": [
       "<langgraph.graph.state.StateGraph at 0x7f4bd2b5c980>"
      ]
     },
     "execution_count": 11,
     "metadata": {},
     "output_type": "execute_result"
    }
   ],
   "source": [
    "workflow.add_edge(START, \"agent\")\n",
    "\n",
    "# 에이전트 노드에서 조건부 분기 설정, 도구 노드 또는 종료 지점으로 연결\n",
    "workflow.add_conditional_edges(\"agent\", tools_condition)\n"
   ]
  },
  {
   "cell_type": "code",
   "execution_count": 12,
   "id": "e510fe34-5385-45d8-b258-007f194ded8c",
   "metadata": {},
   "outputs": [
    {
     "data": {
      "text/plain": [
       "<langgraph.graph.state.StateGraph at 0x7f4bd2b5c980>"
      ]
     },
     "execution_count": 12,
     "metadata": {},
     "output_type": "execute_result"
    }
   ],
   "source": [
    "workflow.add_edge(\"tools\", \"agent\")\n",
    "\n",
    "# 에이전트 노드에서 종료 지점으로 연결\n",
    "workflow.add_edge(\"agent\", END)"
   ]
  },
  {
   "cell_type": "code",
   "execution_count": 13,
   "id": "0048ee38-a974-4790-9318-4094bd626b38",
   "metadata": {},
   "outputs": [],
   "source": [
    "app = workflow.compile()\n"
   ]
  },
  {
   "cell_type": "code",
   "execution_count": 14,
   "id": "97c863bc-8eb8-42d2-b7ca-318116ed37e9",
   "metadata": {},
   "outputs": [
    {
     "data": {
      "image/png": "[encoded data removed]",
      "text/plain": [
       "<IPython.core.display.Image object>"
      ]
     },
     "metadata": {},
     "output_type": "display_data"
    }
   ],
   "source": [
    "visualize(app)\n"
   ]
  },
  {
   "cell_type": "code",
   "execution_count": 15,
   "id": "f3203cef-110a-4888-89c5-9ed0df96df6a",
   "metadata": {},
   "outputs": [
    {
     "name": "stdout",
     "output_type": "stream",
     "text": [
      "================================\u001b[1m Human Message \u001b[0m=================================\n",
      "\n",
      "처음 5개의 소수를 출력하는 python code 를 작성해줘\n",
      "==================================\u001b[1m Ai Message \u001b[0m==================================\n",
      "\n",
      "[{'type': 'text', 'text': '여기 처음 5개의 소수를 출력하는 Python 코드입니다:'}, {'type': 'tool_use', 'name': 'python_code_interpreter', 'input': {'code': 'def is_prime(n):\\n    if n < 2:\\n        return False\\n    for i in range(2, int(n**0.5) + 1):\\n        if n % i == 0:\\n            return False\\n    return True\\n\\nprimes = []\\nnum = 2\\nwhile len(primes) < 5:\\n    if is_prime(num):\\n        primes.append(num)\\n    num += 1\\n\\nprint(primes)'}, 'id': 'tooluse_WeN0lJ8fSquYn62BXCFqPQ'}]\n",
      "Tool Calls:\n",
      "  python_code_interpreter (tooluse_WeN0lJ8fSquYn62BXCFqPQ)\n",
      " Call ID: tooluse_WeN0lJ8fSquYn62BXCFqPQ\n",
      "  Args:\n",
      "    code: def is_prime(n):\n",
      "    if n < 2:\n",
      "        return False\n",
      "    for i in range(2, int(n**0.5) + 1):\n",
      "        if n % i == 0:\n",
      "            return False\n",
      "    return True\n",
      "\n",
      "primes = []\n",
      "num = 2\n",
      "while len(primes) < 5:\n",
      "    if is_prime(num):\n",
      "        primes.append(num)\n",
      "    num += 1\n",
      "\n",
      "print(primes)\n",
      "=================================\u001b[1m Tool Message \u001b[0m=================================\n",
      "Name: python_code_interpreter\n",
      "\n",
      "[2, 3, 5, 7, 11]\n",
      "\n",
      "==================================\u001b[1m Ai Message \u001b[0m==================================\n",
      "\n",
      "이 코드에서는 먼저 is_prime 함수를 정의하여 주어진 수가 소수인지 판별합니다. 그 다음 빈 리스트 primes를 생성하고 2부터 시작하여 소수를 찾아 primes 리스트에 추가합니다. 5개의 소수를 찾으면 반복문을 벗어나고 primes 리스트를 출력합니다.\n",
      "\n",
      "이렇게 하면 처음 5개의 소수인 2, 3, 5, 7, 11이 출력됩니다.\n"
     ]
    }
   ],
   "source": [
    "for chunk in app.stream(\n",
    "    {\"messages\": [(\"human\", \"처음 5개의 소수를 출력하는 python code 를 작성해줘\")]},\n",
    "    stream_mode=\"values\",\n",
    "):\n",
    "    # 마지막 메시지 출력\n",
    "    chunk[\"messages\"][-1].pretty_print()\n"
   ]
  },
  {
   "cell_type": "code",
   "execution_count": null,
   "id": "caf125ed-2f65-4dd3-87ec-09cfa5bdeda6",
   "metadata": {},
   "outputs": [
    {
     "name": "stdout",
     "output_type": "stream",
     "text": [
      "================================\u001b[1m Human Message \u001b[0m=================================\n",
      "\n",
      "ai에 대해 조사해줘\n",
      "==================================\u001b[1m Ai Message \u001b[0m==================================\n",
      "\n",
      "[{'type': 'text', 'text': '알겠습니다. AI에 대한 정보를 찾아보겠습니다.'}, {'type': 'tool_use', 'name': 'search_func', 'input': {'question': 'What is AI?'}, 'id': 'tooluse_PTvm2-YyTU-LEIB-_prbXw'}]\n",
      "Tool Calls:\n",
      "  search_func (tooluse_PTvm2-YyTU-LEIB-_prbXw)\n",
      " Call ID: tooluse_PTvm2-YyTU-LEIB-_prbXw\n",
      "  Args:\n",
      "    question: What is AI?\n",
      "=================================\u001b[1m Tool Message \u001b[0m=================================\n",
      "Name: search_func\n",
      "\n",
      "[{\"title\": \"What Is Artificial Intelligence (AI)? | Google Cloud\", \"url\": \"https://cloud.google.com/learn/what-is-artificial-intelligence\", \"content\": \"What is Artificial Intelligence (AI)?\\nArtificial intelligence (AI) is a set of technologies that enable computers to perform a variety of advanced functions, including the ability to see, understand and translate spoken and written language, analyze data, make recommendations, and more. [...] Artificial intelligence is a field of science concerned with building computers and machines that can reason, learn, and act in such a way that would normally require human intelligence or that involves data whose scale exceeds what humans can analyze.\\nAI is a broad field that encompasses many different disciplines, including computer science, data analytics and statistics, hardware and software engineering, linguistics, neuroscience, and even philosophy and psychology. [...] On an operational level for business use, AI is a set of technologies that are based primarily on machine learning and deep learning, used for data analytics, predictions and forecasting, object categorization, natural language processing, recommendations, intelligent data retrieval, and more.\\nHow does AI work?\", \"score\": 0.9049283}, {\"title\": \"What is AI? | College of Computing | Michigan Tech\", \"url\": \"https://www.mtu.edu/computing/ai/\", \"content\": \"What is AI?\\nArtificial intelligence (AI) encompasses the fields of computer and data science focused on building machines with human intelligence to perform tasks like learning, reasoning, problem-solving, perception, and language understanding. Instead of relying on explicit instructions from a programmer, AI systems learn from data that enables them to handle complex problems and simple repetitive tasks, improving how they respond over time. [...] Is AI Dangerous?\\nAI is a powerful and promising technology that can bring many benefits and opportunities to humanity. But even with its many benefits, the use of AI comes with various concerns. [...] AI handles many tasks faster with exceptional accuracy and reliability, freeing humans from repetitive and tedious chores. Businesses and organizations save time and money by automating and optimizing routine processes, using the technology to stay connected with customers and gain a competitive edge.\", \"score\": 0.9047265}, {\"title\": \"Artificial intelligence - Wikipedia\", \"url\": \"https://en.wikipedia.org/wiki/Artificial_intelligence\", \"content\": \"Artificial intelligence (AI) refers to the capability of computational systems to perform tasks typically associated with human intelligence, such as learning, reasoning, problem-solving, perception, and decision-making. It is a field of research in computer science that develops and studies methods and software that enable machines to perceive their environment and use learning and intelligence to take actions that maximize their chances of achieving defined goals.[1] Such machines may be\", \"score\": 0.89121616}, {\"title\": \"What is AI (artificial intelligence)? - McKinsey & Company\", \"url\": \"https://www.mckinsey.com/featured-insights/mckinsey-explainers/what-is-ai\", \"content\": \"AI is a machine’s ability to perform the cognitive functions we associate with human minds, such as perceiving, reasoning, learning, interacting with the environment, problem-solving, and even exercising creativity. You’ve probably interacted with AI even if you don’t realize it—voice assistants like Siri and Alexa are founded on AI technology, as are some customer service chatbots that pop up to help you navigate websites. [...] Please use UP and DOWN arrow keys to review autocomplete results. Press enter to select and open the results on a new page.\\nSearch\\n\\n\\n\\nSign In\\nSubscribe\\n\\n\\n\\n\\nWhat is AI (artificial intelligence)?\\nShare\\nPrint\\nDownload\\nSave\\nWhat is AI (artificial intelligence)?\\nApril 3, 2024 | Article\\nShare\\nPrint\\nDownload\\nSave\\nArtificial intelligence is a machine’s ability to perform some cognitive functions we usually associate with human minds. [...] The term “artificial intelligence” was coined in 1956 by computer scientist John McCarthy for a workshop at Dartmouth. But he wasn’t the first to write about the concepts we now describe as AI. Alan Turing introduced the concept of the “imitation game” in a 1950 paper. That’s the test of a machine’s ability to exhibit intelligent behavior, now known as the “Turing test.” He believed researchers should focus on areas that don’t require too much sensing and action, things like games and language\", \"score\": 0.8889231}, {\"title\": \"What Is Artificial Intelligence (AI)? - IBM\", \"url\": \"https://www.ibm.com/think/topics/artificial-intelligence\", \"content\": \"What Is Artificial Intelligence (AI)? | IBM\\nMy IBM Log in Subscribe   \\nWhat is artificial intelligence (AI)?\\nArtificial Intelligence\\n9 August 2024\\nLink copied\\nAuthors\\n#### Cole StrykerEditorial Lead, AI Models\\nGather\\n#### Eda KavlakogluProgram Manager\\nWhat is AI?\\nArtificial intelligence (AI) is technology that enables computers and machines to simulate human learning, comprehension, problem solving, decision making, creativity and autonomy. [...] Whether used for decision support or for fully automated decision-making, AI enables faster, more accurate predictions and reliable, data-driven decisions. Combined with automation, AI enables businesses to act on opportunities and respond to crises as they emerge, in real time and without human intervention.\\nFewer human errors [...] Directly underneath AI, we have machine learning, which involves creating models by training an algorithm to make predictions or decisions based on data. It encompasses a broad range of techniques that enable computers to learn from and make inferences based on data without being explicitly programmed for specific tasks.\", \"score\": 0.86713725}]\n"
     ]
    }
   ],
   "source": [
    "# 검색 질문 수행\n",
    "for chunk in app.stream(\n",
    "    {\"messages\": [(\"human\", \"ai에 대해 조사해줘\")]},\n",
    "    stream_mode=\"values\",\n",
    "):\n",
    "    chunk[\"messages\"][-1].pretty_print()\n"
   ]
  },
  {
   "cell_type": "code",
   "execution_count": null,
   "id": "dfe1a22f-acbe-44ab-90c7-510dc6e80d9e",
   "metadata": {},
   "outputs": [],
   "source": [
    "\n",
    "# 도구 호출이 필요 없는 질문 수행\n",
    "for chunk in app.stream(\n",
    "    {\"messages\": [(\"human\", \"안녕? 반가워\")]},\n",
    "    stream_mode=\"values\",\n",
    "):\n",
    "    chunk[\"messages\"][-1].pretty_print()\n"
   ]
  },
  {
   "cell_type": "code",
   "execution_count": null,
   "id": "56e94a27-442c-49da-bef3-f0361e5072db",
   "metadata": {},
   "outputs": [],
   "source": []
  }
 ],
 "metadata": {
  "kernelspec": {
   "display_name": "Python 3 (ipykernel)",
   "language": "python",
   "name": "python3"
  },
  "language_info": {
   "codemirror_mode": {
    "name": "ipython",
    "version": 3
   },
   "file_extension": ".py",
   "mimetype": "text/x-python",
   "name": "python",
   "nbconvert_exporter": "python",
   "pygments_lexer": "ipython3",
   "version": "3.12.9"
  }
 },
 "nbformat": 4,
 "nbformat_minor": 5
}
