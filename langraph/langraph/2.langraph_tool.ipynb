{
 "cells": [
  {
   "cell_type": "code",
   "execution_count": 1,
   "id": "3b07852c-7a4d-4970-8d99-f2354ed825bd",
   "metadata": {},
   "outputs": [],
   "source": [
    "# Standard library imports\n",
    "import os\n",
    "import json\n",
    "import sys\n",
    "import re\n",
    "import concurrent.futures\n",
    "from typing import List, Dict, Any, Tuple, TypedDict, Annotated, Optional\n",
    "\n",
    "# Third-party imports\n",
    "import boto3\n",
    "import fitz\n",
    "import requests\n",
    "from bs4 import BeautifulSoup\n",
    "from opensearchpy import OpenSearch, RequestsHttpConnection\n",
    "from pydantic import BaseModel, Field, ValidationError\n",
    "from IPython.display import Image\n",
    "\n",
    "# LangChain core imports\n",
    "from langchain_core.documents import Document\n",
    "from langchain_core.messages import HumanMessage, AIMessage, ToolMessage, SystemMessage\n",
    "from langchain_core.output_parsers import StrOutputParser\n",
    "from langchain_core.prompts import ChatPromptTemplate, PromptTemplate\n",
    "from langchain_core.runnables import RunnableParallel, RunnablePassthrough, RunnableLambda\n",
    "from langchain_core.runnables.graph import CurveStyle, MermaidDrawMethod, NodeStyles\n",
    "from langchain_core.tools import tool\n",
    "from langchain.schema import BaseRetriever, Document\n",
    "\n",
    "# LangGraph imports\n",
    "from langgraph.graph import StateGraph, add_messages, START, END\n",
    "from langgraph.prebuilt import ToolNode, tools_condition\n",
    "\n",
    "# LangChain AWS imports\n",
    "from langchain_aws import ChatBedrockConverse, BedrockEmbeddings\n",
    "\n",
    "# LangChain experimental imports\n",
    "from langchain_experimental.tools.python.tool import PythonAstREPLTool\n",
    "\n",
    "# LangChain community imports\n",
    "from langchain_community.tools.tavily_search import TavilySearchResults\n",
    "\n",
    "# Operator imports\n",
    "from operator import itemgetter\n",
    "\n"
   ]
  },
  {
   "cell_type": "code",
   "execution_count": 2,
   "id": "035d98b6-b6b7-4c09-b0a9-71d99025699a",
   "metadata": {},
   "outputs": [],
   "source": [
    "# https://app.tavily.com/sign-in (구글 아이디 필요)"
   ]
  },
  {
   "cell_type": "code",
   "execution_count": 3,
   "id": "770c32a6-37e1-4bc1-8bd1-12ed7d865b26",
   "metadata": {},
   "outputs": [],
   "source": [
    "def visualize(graph):\n",
    "    display(\n",
    "    Image(\n",
    "        graph.get_graph().draw_mermaid_png(\n",
    "            draw_method=MermaidDrawMethod.API,\n",
    "        )\n",
    "    )\n",
    "    )"
   ]
  },
  {
   "cell_type": "code",
   "execution_count": 4,
   "id": "6dc99e64-9bcd-4278-8f9d-e9d762abafad",
   "metadata": {},
   "outputs": [],
   "source": [
    "class State(TypedDict):\n",
    "    messages: Annotated[List, add_messages]\n",
    "    tools: List[Dict[str, Any]]\n"
   ]
  },
  {
   "cell_type": "code",
   "execution_count": 5,
   "id": "32be38e8-ff65-4729-abed-33fbbd124427",
   "metadata": {},
   "outputs": [],
   "source": [
    "bedrock_client = boto3.client(\n",
    "    service_name='bedrock-runtime',\n",
    "    region_name='us-east-1'  # replace with your region\n",
    ")\n",
    "llm = ChatBedrockConverse(\n",
    "    model_id=\"anthropic.claude-3-sonnet-20240229-v1:0\",\n",
    "    client=bedrock_client,\n",
    "    temperature=0.7,\n",
    "    max_tokens=2000\n",
    ")"
   ]
  },
  {
   "cell_type": "code",
   "execution_count": 6,
   "id": "92ef9dc6-be1c-4eb2-84ea-0cc869bcfd98",
   "metadata": {},
   "outputs": [],
   "source": [
    "# state를 정의한다\n",
    "class State(TypedDict):\n",
    "    messages: Annotated[List, add_messages]\n",
    "    tools_list: List  # Store the tools\n",
    "\n",
    "# Set up API key\n",
    "os.environ[\"TAVILY_API_KEY\"] = \"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\"\n",
    "search_tool = TavilySearchResults()\n",
    "\n",
    "\n",
    "@tool\n",
    "def python_code_interpreter(code: str):\n",
    "    \"\"\"Call to execute python code.\"\"\"\n",
    "    return PythonAstREPLTool().invoke(code)\n",
    "\n",
    "@tool\n",
    "def search_func(question: str):\n",
    "    \"\"\"Search the web for information using Tavily search engine\"\"\"\n",
    "    # Use the tool to search\n",
    "    search_results = search_tool.invoke(question)\n",
    "    return search_results\n",
    "\n",
    "# 사용할 함수를 정의한다\n",
    "tools = [search_func, python_code_interpreter]\n",
    "\n",
    "\n",
    "\n",
    "# 사용할 함수를 toolnode에  추가한다\n",
    "tool_node = ToolNode(tools)\n",
    "\n",
    "# llm도 사용할 함수를 알수 있도록 추가한다\n",
    "model_with_tools = llm.bind_tools(tools)\n",
    "\n",
    "\n"
   ]
  },
  {
   "cell_type": "code",
   "execution_count": 8,
   "id": "6f57f533-35e4-44d3-b60c-9928f36eb946",
   "metadata": {},
   "outputs": [
    {
     "data": {
      "text/plain": [
       "[{'name': 'python_code_interpreter',\n",
       "  'args': {'code': 'def is_prime(n):\\n    if n < 2:\\n        return False\\n    for i in range(2, int(n**0.5) + 1):\\n        if n % i == 0:\\n            return False\\n    return True\\n\\nprimes = []\\nn = 2\\nwhile len(primes) < 5:\\n    if is_prime(n):\\n        primes.append(n)\\n    n += 1\\n\\nprint(primes)'},\n",
       "  'id': 'tooluse_Z-OEl2KFT0aqi0x9t-wFog',\n",
       "  'type': 'tool_call'}]"
      ]
     },
     "execution_count": 8,
     "metadata": {},
     "output_type": "execute_result"
    }
   ],
   "source": [
    "#llm이 함수를 알고있는지 있는지 테스트\n",
    "model_with_tools.invoke(\"처음 5개의 소수를 출력하는 python code 를 작성해줘\").tool_calls\n"
   ]
  },
  {
   "cell_type": "code",
   "execution_count": 9,
   "id": "36521b33-6166-454b-bfb6-d84b56b7d1c6",
   "metadata": {},
   "outputs": [
    {
     "data": {
      "text/plain": [
       "{'messages': [ToolMessage(content='[{\"title\": \"Large language model - Wikipedia\", \"url\": \"https://en.wikipedia.org/wiki/Large_language_model\", \"content\": \"A large language model (LLM) is a type of machine learning model designed for natural language processing tasks such as language generation. LLMs are language models with many parameters, and are trained with self-supervised learning on a vast amount of text.\", \"score\": 0.9609261}, {\"title\": \"What is an LLM (large language model)? - Cloudflare\", \"url\": \"https://www.cloudflare.com/learning/ai/what-is-large-language-model/\", \"content\": \"A large language model (LLM) is a type of artificial intelligence (AI) program that can recognize and generate text, among other tasks. LLMs are trained on huge sets of data — hence the name \\\\\"large.\\\\\" LLMs are built on machine learning: specifically, a type of neural network called a transformer model. [...] Log in\\\\nSolutionsProductsPricingResourcesPartnersWhy Cloudflare\\\\nSupport\\\\nSign up\\\\nWhat is a large language model (LLM)?\\\\nLarge language models (LLMs) are machine learning models that can comprehend and generate human language text. They work by analyzing massive data sets of language.\\\\nLearning Center\\\\n\\\\n\\\\nWhat is artificial intelligence (AI)?\\\\n\\\\n\\\\nWhat is a large language model (LLM)?\\\\n\\\\n\\\\nMachine learning\\\\n\\\\nGlossary\\\\n\\\\nLearning Objectives\\\\nAfter reading this article you will be able to: [...] In simpler terms, an LLM is a computer program that has been fed enough examples to be able to recognize and interpret human language or other types of complex data. Many LLMs are trained on data that has been gathered from the Internet — thousands or millions of gigabytes\\' worth of text. But the quality of the samples impacts how well LLMs will learn natural language, so an LLM\\'s programmers may use a more curated data set.\", \"score\": 0.9486564}, {\"title\": \"What is LLM? - Large Language Models Explained - AWS\", \"url\": \"https://aws.amazon.com/what-is/large-language-model/\", \"content\": \"Large language models, also known as LLMs, are very large deep learning models that are pre-trained on vast amounts of data. The underlying transformer is a set of neural networks that consist of an encoder and a decoder with self-attention capabilities. The encoder and decoder extract meanings from a sequence of text and understand the relationships between words and phrases in it. [...] Large language models are incredibly flexible. One model can perform completely different tasks such as answering questions, summarizing documents, translating languages and completing sentences. LLMs have the potential to disrupt content creation and the way people use search engines and virtual assistants.\", \"score\": 0.94301796}, {\"title\": \"What are Large Language Models? | A Comprehensive LLMs Guide\", \"url\": \"https://www.elastic.co/what-is/large-language-models\", \"content\": \"What are large language models (LLMs)?\\\\nExperiment with RAG using AI Playground\\\\nLarge language model definition\\\\nA large language model (LLM) is a deep learning algorithm that can perform a variety of natural language processing (NLP) tasks. Large language models use transformer models and are trained using massive datasets — hence, large. This enables them to recognize, translate, predict, or generate text or other content. [...] Key components of large language models\\\\nLarge language models are composed of multiple neural network layers. Recurrent layers, feedforward layers, embedding layers, and attention layers work in tandem to process the input text and generate output content.\\\\nThe embedding layer creates embeddings from the input text. This part of the large language model captures the semantic and syntactic meaning of the input, so the model can understand context. [...] How do large language models work?\\\\nA large language model is based on a transformer model and works by receiving an input, encoding it, and then decoding it to produce an output prediction. But before a large language model can receive text input and generate an output prediction, it requires training, so that it can fulfill general functions, and fine-tuning, which enables it to perform specific tasks.\", \"score\": 0.942385}, {\"title\": \"What are Large Language Models? | NVIDIA\", \"url\": \"https://www.nvidia.com/en-us/glossary/large-language-models/\", \"content\": \"Large Language Models Explained\\\\nLarge language models (LLMs) are deep learning algorithms that can recognize, summarize, translate, predict, and generate content using very large datasets.\\\\nWhat are Large Language Models?\\\\nLarge language models largely represent a class of deep learning architectures called transformer networks. A transformer model is a neural network that learns context and meaning by tracking relationships in sequential data, like the words in this sentence. [...] However, large language models, which are trained on internet-scale datasets with hundreds of billions of parameters, have now unlocked an AI model’s ability to generate human-like content.\\\\nModels can read, write, code, draw, and create in a credible fashion and augment human creativity and improve productivity across industries to solve the world’s toughest problems. [...] Large language models are trained using unsupervised learning. With unsupervised learning, models can find previously unknown patterns in data using unlabelled datasets. This also eliminates the need for extensive data labeling, which is one of the biggest challenges in building AI models.\", \"score\": 0.9368016}]', name='search_func', tool_call_id='tooluse_5GZW4uNRTxqxrxECxFDszw')]}"
      ]
     },
     "execution_count": 9,
     "metadata": {},
     "output_type": "execute_result"
    }
   ],
   "source": [
    "#ToolNode에 명령어가 들어왔을때 이것을 이해하고 함수를 작동시키는지 확인\n",
    "tool_node.invoke(\n",
    "    {\n",
    "        \"messages\": [\n",
    "            model_with_tools.invoke(\n",
    "                \"llm에 대하여 서치해줘\"\n",
    "            )\n",
    "        ]\n",
    "    }\n",
    ")\n"
   ]
  },
  {
   "cell_type": "code",
   "execution_count": null,
   "id": "9b8c7b4a-e57e-44fb-b738-45229fff8a0b",
   "metadata": {},
   "outputs": [],
   "source": []
  },
  {
   "cell_type": "code",
   "execution_count": null,
   "id": "f3ff2bde-9e12-49c7-a39e-90470bd5287f",
   "metadata": {},
   "outputs": [],
   "source": []
  },
  {
   "cell_type": "code",
   "execution_count": null,
   "id": "f64b0f15-e0ed-4025-bc06-4f881b4db1ad",
   "metadata": {},
   "outputs": [],
   "source": []
  },
  {
   "cell_type": "code",
   "execution_count": null,
   "id": "3b4a5a1f-7cff-4682-b710-67a8a70892f6",
   "metadata": {},
   "outputs": [],
   "source": []
  },
  {
   "cell_type": "code",
   "execution_count": 12,
   "id": "f258f1d6-efce-41d8-9ae2-e4e8050f0ccb",
   "metadata": {},
   "outputs": [],
   "source": [
    "from langgraph.graph import StateGraph, MessagesState, START, END\n",
    "\n",
    "\n",
    "# LLM 모델을 사용하여 메시지 처리 및 응답 생성, 도구 호출이 포함된 응답 반환\n",
    "def call_model(state: MessagesState):\n",
    "    messages = state[\"messages\"]\n",
    "    response = model_with_tools.invoke(messages)\n",
    "    return {\"messages\": [response]}\n"
   ]
  },
  {
   "cell_type": "code",
   "execution_count": 13,
   "id": "1f4ef0c1-0869-49f9-bfbd-1e03db0cc93c",
   "metadata": {},
   "outputs": [
    {
     "data": {
      "text/plain": [
       "<langgraph.graph.state.StateGraph at 0x7fb147a507a0>"
      ]
     },
     "execution_count": 13,
     "metadata": {},
     "output_type": "execute_result"
    }
   ],
   "source": [
    "#그래프 생성\n",
    "\n",
    "workflow = StateGraph(MessagesState)\n",
    "\n",
    "# 에이전트와 도구 노드 정의 및 워크플로우 그래프에 추가\n",
    "workflow.add_node(\"agent\", call_model)\n",
    "workflow.add_node(\"tools\", tool_node)"
   ]
  },
  {
   "cell_type": "code",
   "execution_count": 14,
   "id": "38922392-099a-4df7-a9c7-e415a9e1e9e3",
   "metadata": {},
   "outputs": [
    {
     "data": {
      "text/plain": [
       "<langgraph.graph.state.StateGraph at 0x7fb147a507a0>"
      ]
     },
     "execution_count": 14,
     "metadata": {},
     "output_type": "execute_result"
    }
   ],
   "source": [
    "#시작에서 -> agent로\n",
    "workflow.add_edge(START, \"agent\")\n",
    "\n",
    "# 에이전트 노드에서 조건부 분기 설정, 도구 노드 또는 종료 지점으로 연결\n",
    "workflow.add_conditional_edges(\"agent\", tools_condition)\n",
    "\n",
    "#tool에서 다시 agent로\n",
    "workflow.add_edge(\"tools\", \"agent\")\n",
    "\n",
    "# 에이전트 노드에서 종료 지점으로 연결\n",
    "workflow.add_edge(\"agent\", END)\n"
   ]
  },
  {
   "cell_type": "code",
   "execution_count": 15,
   "id": "0048ee38-a974-4790-9318-4094bd626b38",
   "metadata": {},
   "outputs": [],
   "source": [
    "app = workflow.compile()\n"
   ]
  },
  {
   "cell_type": "code",
   "execution_count": 16,
   "id": "97c863bc-8eb8-42d2-b7ca-318116ed37e9",
   "metadata": {},
   "outputs": [
    {
     "data": {
      "image/png": "[encoded data removed]",
      "text/plain": [
       "<IPython.core.display.Image object>"
      ]
     },
     "metadata": {},
     "output_type": "display_data"
    }
   ],
   "source": [
    "visualize(app)\n"
   ]
  },
  {
   "cell_type": "code",
   "execution_count": 17,
   "id": "f3203cef-110a-4888-89c5-9ed0df96df6a",
   "metadata": {},
   "outputs": [
    {
     "name": "stdout",
     "output_type": "stream",
     "text": [
      "================================\u001b[1m Human Message \u001b[0m=================================\n",
      "\n",
      "처음 5개의 소수를 출력하는 python code 를 작성해줘\n",
      "==================================\u001b[1m Ai Message \u001b[0m==================================\n",
      "\n",
      "[{'type': 'text', 'text': '알겠습니다. 처음 5개의 소수를 출력하는 Python 코드는 다음과 같습니다:'}, {'type': 'tool_use', 'name': 'python_code_interpreter', 'input': {'code': 'def is_prime(n):\\n    if n < 2:\\n        return False\\n    for i in range(2, int(n**0.5) + 1):\\n        if n % i == 0:\\n            return False\\n    return True\\n\\nprimes = []\\nn = 2\\nwhile len(primes) < 5:\\n    if is_prime(n):\\n        primes.append(n)\\n    n += 1\\n\\nprint(primes)'}, 'id': 'tooluse_5zxDqs7CRMi5luqAhGmGuQ'}]\n",
      "Tool Calls:\n",
      "  python_code_interpreter (tooluse_5zxDqs7CRMi5luqAhGmGuQ)\n",
      " Call ID: tooluse_5zxDqs7CRMi5luqAhGmGuQ\n",
      "  Args:\n",
      "    code: def is_prime(n):\n",
      "    if n < 2:\n",
      "        return False\n",
      "    for i in range(2, int(n**0.5) + 1):\n",
      "        if n % i == 0:\n",
      "            return False\n",
      "    return True\n",
      "\n",
      "primes = []\n",
      "n = 2\n",
      "while len(primes) < 5:\n",
      "    if is_prime(n):\n",
      "        primes.append(n)\n",
      "    n += 1\n",
      "\n",
      "print(primes)\n",
      "=================================\u001b[1m Tool Message \u001b[0m=================================\n",
      "Name: python_code_interpreter\n",
      "\n",
      "[2, 3, 5, 7, 11]\n",
      "\n",
      "==================================\u001b[1m Ai Message \u001b[0m==================================\n",
      "\n",
      "이 코드에서는 먼저 is_prime 함수를 정의하여 주어진 수가 소수인지 판별합니다. 그 다음 빈 리스트 primes를 만들고, 2부터 시작하여 is_prime 함수를 사용해 소수인지 검사합니다. 소수이면 primes 리스트에 추가하고, 5개의 소수를 찾을 때까지 반복합니다. 마지막으로 primes 리스트를 출력하여 처음 5개의 소수를 얻습니다.\n"
     ]
    }
   ],
   "source": [
    "for chunk in app.stream(\n",
    "    {\"messages\": [(\"human\", \"처음 5개의 소수를 출력하는 python code 를 작성해줘\")]},\n",
    "    stream_mode=\"values\",\n",
    "):\n",
    "    # 마지막 메시지 출력\n",
    "    chunk[\"messages\"][-1].pretty_print()\n"
   ]
  },
  {
   "cell_type": "code",
   "execution_count": 18,
   "id": "caf125ed-2f65-4dd3-87ec-09cfa5bdeda6",
   "metadata": {},
   "outputs": [
    {
     "name": "stdout",
     "output_type": "stream",
     "text": [
      "================================\u001b[1m Human Message \u001b[0m=================================\n",
      "\n",
      "ai에 대해 조사해줘\n",
      "==================================\u001b[1m Ai Message \u001b[0m==================================\n",
      "\n",
      "[{'type': 'text', 'text': '알겠습니다. AI(인공지능)에 대한 정보를 찾아보겠습니다.'}, {'type': 'tool_use', 'name': 'search_func', 'input': {'question': 'AI 인공지능 정보'}, 'id': 'tooluse_GR03BFb7TtOC69pK6-be8Q'}]\n",
      "Tool Calls:\n",
      "  search_func (tooluse_GR03BFb7TtOC69pK6-be8Q)\n",
      " Call ID: tooluse_GR03BFb7TtOC69pK6-be8Q\n",
      "  Args:\n",
      "    question: AI 인공지능 정보\n",
      "=================================\u001b[1m Tool Message \u001b[0m=================================\n",
      "Name: search_func\n",
      "\n",
      "[{\"title\": \"인공지능 - 나무위키:대문\", \"url\": \"https://namu.wiki/w/%EC%9D%B8%EA%B3%B5%EC%A7%80%EB%8A%A5\", \"content\": \"人工智能 / Artificial Intelligence(A.I) 인공지능은 인간의 지능[1]이 가지는 학습, 추리, 적응, 논증 따위의 기능을 갖춘 컴퓨터 시스템을 의미한다.\", \"score\": 0.78944516}, {\"title\": \"인공지능 - 위키백과, 우리 모두의 백과사전\", \"url\": \"https://ko.wikipedia.org/wiki/%EC%9D%B8%EA%B3%B5%EC%A7%80%EB%8A%A5\", \"content\": \"목차\\n\\n인공지능\\n\\n시리즈\\n인공지능\\n\\n주요 목표지식 추론계획기계 학습자연어 처리컴퓨터 비전로봇공학인공 일반 지능\\n접근심볼릭딥 러닝베이즈 네트워크진화 알고리즘\\n철학윤리실존적 위험튜링 테스트중국어 방통제 문제친절한 AI\\n역사연표진행상황AI 겨울\\n기술애플리케이션프로젝트프로그래밍 언어\\n용어용어\\nvte\\n인공지능(人工智能, 영어: artificial intelligence, AI)은 인간의 학습능력, 추론능력, 지각능력을 인공적으로 구현하려는 컴퓨터 과학의 세부분야 중 하나이다. 정보공학 분야에 있어 하나의 인프라 기술이기도 하다.[1][2] 인간을 포함한 동물이 갖고 있는 지능 즉, 자연 지능(natural intelligence)과는 다른 개념이다. [...] 인간의 지능을 모방한 기능을 갖춘 컴퓨터 시스템이며, 인간의 지능을 기계 등에 인공적으로 시연(구현)한 것이다. 일반적으로 범용 컴퓨터에 적용한다고 가정한다. 이 용어는 또한 그와 같은 지능을 만들 수 있는 방법론이나 실현 가능성 등을 연구하는 과학 기술 분야를 지칭하기도 한다.[3][4][5]\\n\\n강인공지능과 약인공지능 [...] 강인공지능(strong AI) 또는 인공 일반 지능(artificial general intelligence, AGI)은 인간처럼 실제로 사고하여 문제를 해결할 수 있는 \\\"일반 지능\\\"을 인공적으로 구현하려는 시도이다. 오늘날 이 분야의 연구는 주로 미리 정의된 규칙의 모음을 이용해서 지능을 흉내내는 컴퓨터 프로그램을 개발하는 것에 맞추어져 있다. 강한 인공지능 분야의 발전은 여전히 미약하지만, 인간과 같은 지능이라는 목표를 어떻게 정의하는지에 따라 어느 정도 발전이 이루어지고 있다고도 볼 수 있다.\\n\\n강인공지능의 실현 가능성에 관한 논쟁\", \"score\": 0.78194773}, {\"title\": \"AI란 무엇인가요? - 인공 지능 설명 - AWS\", \"url\": \"https://aws.amazon.com/ko/what-is/artificial-intelligence/\", \"content\": \"인공 지능(AI)이란?\\n\\n인공 지능(AI)은 인간과 유사한 문제 해결 능력을 갖춘 기술입니다. 실제 AI는 이미지를 인식하고, 시를 쓰고, 데이터 기반 예측을 하는 등 인간의 지능을 시뮬레이션하는 것처럼 보입니다.\\n\\nAI의 정의\\n\\n인공 지능이라고도 하는 AI는 인간과 유사한 문제 해결 능력을 갖춘 기술입니다. 실제 AI는 이미지를 인식하고, 시를 쓰고, 데이터 기반 예측을 하는 등 인간의 지능을 시뮬레이션하는 것처럼 보입니다.\\n\\n현대 조직은 스마트 센서, 사람이 생성한 콘텐츠, 모니터링 도구, 시스템 로그와 같은 다양한 소스에서 대량의 데이터를 수집합니다. 인공 지능 기술은 데이터를 분석하고 이를 사용하여 비즈니스 운영을 효과적으로 지원합니다. 예를 들어, AI 기술은 고객 지원 시 사람과의 대화에 응답하고, 마케팅을 위한 독창적인 이미지와 텍스트를 만들고, 분석을 위한 스마트한 제안을 할 수 있습니다. [...] 현재의 인공 지능 기술은 모두 사전 결정된 파라미터 세트 내에서 작동합니다. 예를 들어 이미지 인식 및 생성에 대해 학습한 AI 모델은 웹 사이트를 구축할 수 없습니다.\\n\\n인공 일반 지능(AGI)은 인간과 유사한 지능과 스스로 학습할 수 있는 능력을 갖춘 소프트웨어를 만들려는 이론적 AI 연구 분야입니다. 목표는 소프트웨어가 수행하도록 훈련되거나 개발되지 않은 작업까지 수행할 수 있도록 하는 것입니다.\\n\\nAGI는 자율적 자제력, 어느 정도 자기 이해, 새로운 기술 학습 능력을 갖춘 AI 시스템을 개발하기 위한 이론적 추구입니다. 제작 당시에는 학습하지 못했던 설정과 상황의 복잡한 문제를 해결할 수 있습니다. 인간의 능력을 갖춘 AGI는 이론적 개념이자 연구 목표로 남아 있습니다. 이는 AI의 가능한 미래 중 하나입니다.\\n\\n인공 일반 지능에 대해 자세히 알아보기 »\\n\\n오늘날 AI는 어떻게 사용되고 있나요? [...] 인공 지능 시스템은 다양한 기술을 사용하여 작동합니다. 세부적인 방식은 서로 다르지만 핵심 원칙은 동일합니다. 즉, 텍스트, 이미지, 비디오, 오디오 등 모든 데이터 유형을 수치 표현으로 변환하고 이들 간의 패턴과 관계를 수학적으로 식별합니다. 따라서 인공 지능 기술에는 훈련이 필요합니다. 즉, 인공 지능은 인간이 기존 지식 아카이브에서 학습하는 것과 같은 방식으로 ‘학습’하기 위해 대량의 기존 데이터세트에 노출됩니다. 인공 지능의 기반이 되는 몇 가지 기술은 다음과 같습니다.\\n\\n신경망\\n\\n인공 지능 기술의 핵심은 인공 신경망입니다. 이 딥 러닝 신경망은 인간의 뇌에서 일어나는 처리 과정을 반영합니다. 뇌에는 정보를 처리하고 분석하는 수백만 개의 뉴런이 있습니다. 인공 신경망은 정보를 함께 처리하는 인공 뉴런을 사용합니다. 각 인공 뉴런 또는 노드는 수학적 계산을 사용하여 정보를 처리하고 복잡한 문제를 해결합니다.\\n\\n신경망에 대해 알아보기 »\\n\\n자연어 처리\", \"score\": 0.6407488}, {\"title\": \"Intelligence 인공 지능(AI)이란 무엇인가요? - OpenText\", \"url\": \"https://www.opentext.com/ko-kr/what-is/artificial-intelligence\", \"content\": \"Artificial intelligence (AI) is the ability of a machine or computer to imitate the capabilities of the human mind. AI taps into multiple technologies to equip machines in planning, acting, comprehending, learning, and sensing with human-like intelligence. AI systems may perceive environments, recognize objects, make decisions, solve problems, learn from experience, and imitate examples. These abilities are combined to accomplish actions that would otherwise require humans to do, such as [...] AI technology, and especially machine learning, relies on the availability of vast volumes of information. The proliferation of the Internet, the expansion of cloud computing, the rise of smartphones, and the growth of the Internet of Things have created an enormous quantity of data that grows every day. This treasure trove of information combined with the huge gains made in computing power has made the rapid and accurate processing of enormous data possible. [...] AI technology, and especially machine learning, relies on the availability of vast volumes of information. The proliferation of the Internet, the expansion of cloud computing, the rise of smartphones, and the growth of the Internet of Things have created an enormous quantity of data that grows every day. This treasure trove of information combined with the huge gains made in computing power has made the rapid and accurate processing of enormous data possible.\", \"score\": 0.6241337}, {\"title\": \"AI(인공 지능)란 무엇입니까? - 인텔\", \"url\": \"https://www.intel.co.kr/content/www/kr/ko/learn/what-is-artificial-intelligence.html\", \"content\": \"AI(인공 지능)는 일반적으로 인간 지능이 필요하며 학습, 적응, 의사결정을 수반하는 작업을 수행하도록 설계된 기술입니다. AI는 개인 컴퓨팅, 자동차, 의료, 소매, 뱅킹\", \"score\": 0.5463757}]\n",
      "==================================\u001b[1m Ai Message \u001b[0m==================================\n",
      "\n",
      "검색 결과를 보면 인공지능(AI)은 인간의 지능을 모방하여 학습, 추론, 적응, 문제 해결 등의 기능을 컴퓨터 시스템에 구현하려는 기술 분야입니다. \n",
      "\n",
      "주요 내용을 정리하면:\n",
      "\n",
      "- 인간의 지능적 능력(학습, 추론, 지각 등)을 인공적으로 구현하는 컴퓨터 과학 분야\n",
      "- 머신러닝, 딥러닝, 자연어 처리 등의 기술을 활용\n",
      "- 데이터를 학습하여 문제 해결, 예측, 의사결정 등을 수행\n",
      "- 약인공지능(특정 영역)과 강인공지능(인간 수준의 일반지능)으로 구분\n",
      "- 다양한 산업에서 AI 기술을 활용 중 (의료, 금융, 제조 등)\n",
      "\n",
      "인공지능은 빅데이터와 컴퓨팅 파워의 발전으로 최근 비약적으로 발전하고 있으며, 미래에는 더욱 지능적인 AI 시스템이 등장할 것으로 전망됩니다. 아직 인간 수준의 완전한 인공지능은 구현되지 않았지만 활발한 연구가 진행 중입니다.\n"
     ]
    }
   ],
   "source": [
    "# 검색 질문 수행\n",
    "for chunk in app.stream(\n",
    "    {\"messages\": [(\"human\", \"ai에 대해 조사해줘\")]},\n",
    "    stream_mode=\"values\",\n",
    "):\n",
    "    chunk[\"messages\"][-1].pretty_print()\n"
   ]
  },
  {
   "cell_type": "code",
   "execution_count": 19,
   "id": "dfe1a22f-acbe-44ab-90c7-510dc6e80d9e",
   "metadata": {},
   "outputs": [
    {
     "name": "stdout",
     "output_type": "stream",
     "text": [
      "================================\u001b[1m Human Message \u001b[0m=================================\n",
      "\n",
      "안녕? 반가워\n",
      "==================================\u001b[1m Ai Message \u001b[0m==================================\n",
      "\n",
      "안녕하세요! 저도 반갑습니다. 오늘 하루 잘 보내셨나요? 무엇을 도와드릴까요?\n"
     ]
    }
   ],
   "source": [
    "\n",
    "# 도구 호출이 필요 없는 질문 수행\n",
    "for chunk in app.stream(\n",
    "    {\"messages\": [(\"human\", \"안녕? 반가워\")]},\n",
    "    stream_mode=\"values\",\n",
    "):\n",
    "    chunk[\"messages\"][-1].pretty_print()\n"
   ]
  },
  {
   "cell_type": "code",
   "execution_count": null,
   "id": "56e94a27-442c-49da-bef3-f0361e5072db",
   "metadata": {},
   "outputs": [],
   "source": []
  }
 ],
 "metadata": {
  "kernelspec": {
   "display_name": "Python 3 (ipykernel)",
   "language": "python",
   "name": "python3"
  },
  "language_info": {
   "codemirror_mode": {
    "name": "ipython",
    "version": 3
   },
   "file_extension": ".py",
   "mimetype": "text/x-python",
   "name": "python",
   "nbconvert_exporter": "python",
   "pygments_lexer": "ipython3",
   "version": "3.12.9"
  }
 },
 "nbformat": 4,
 "nbformat_minor": 5
}
