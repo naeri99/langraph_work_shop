{
 "cells": [
  {
   "cell_type": "code",
   "execution_count": 1,
   "id": "564224b6-e00a-4231-bfaf-6d3c11652869",
   "metadata": {},
   "outputs": [],
   "source": [
    "from langchain_aws import ChatBedrockConverse\n",
    "from langchain.schema import HumanMessage, SystemMessage\n",
    "import boto3\n",
    "from langchain_core.output_parsers import StrOutputParser\n",
    "from langchain_core.prompts import ChatPromptTemplate\n",
    "from opensearchpy import OpenSearch, RequestsHttpConnection\n",
    "import os\n",
    "import boto3\n",
    "import json\n",
    "import sys\n",
    "from langchain.schema import BaseRetriever, Document\n",
    "from typing import List, Optional, Dict, Tuple , TypedDict ,Annotated\n",
    "from langchain_core.documents import Document\n",
    "import fitz\n",
    "import concurrent.futures\n",
    "from langchain_aws import BedrockEmbeddings\n",
    "from langchain_core.runnables import RunnableParallel, RunnablePassthrough\n",
    "from langchain_core.prompts import ChatPromptTemplate\n",
    "from langchain.prompts.prompt import PromptTemplate\n",
    "from operator import itemgetter\n",
    "from langchain_core.runnables import RunnableLambda\n",
    "from pydantic import BaseModel, Field ,ValidationError\n",
    "\n",
    "import re\n",
    "import requests\n",
    "from bs4 import BeautifulSoup\n",
    "from langchain.agents import tool\n",
    "from IPython.display import Image, display\n",
    "from langchain_core.runnables.graph import CurveStyle, MermaidDrawMethod, NodeStyles\n"
   ]
  },
  {
   "cell_type": "code",
   "execution_count": 2,
   "id": "baead0eb-ed8c-4edf-91dd-3377410dfffb",
   "metadata": {},
   "outputs": [],
   "source": [
    "#https://app.tavily.com/sign-in"
   ]
  },
  {
   "cell_type": "code",
   "execution_count": 3,
   "id": "86ba5a93-d1fa-4ce1-824d-b44ff27a6303",
   "metadata": {},
   "outputs": [],
   "source": [
    "bedrock_client = boto3.client(\n",
    "    service_name='bedrock-runtime',\n",
    "    region_name='us-east-1'  # replace with your region\n",
    ")\n",
    "llm = ChatBedrockConverse(\n",
    "    model_id=\"anthropic.claude-3-sonnet-20240229-v1:0\",\n",
    "    client=bedrock_client,\n",
    "    temperature=0.7,\n",
    "    max_tokens=2000\n",
    ")"
   ]
  },
  {
   "cell_type": "code",
   "execution_count": 4,
   "id": "a8d9b6c5-fd2d-4b57-9398-02bc45600452",
   "metadata": {},
   "outputs": [],
   "source": [
    "def visualize(graph):\n",
    "    display(\n",
    "    Image(\n",
    "        graph.get_graph().draw_mermaid_png(\n",
    "            draw_method=MermaidDrawMethod.API,\n",
    "        )\n",
    "    )\n",
    "    )"
   ]
  },
  {
   "cell_type": "code",
   "execution_count": 5,
   "id": "587e39a1-090e-4ae9-a8b8-8932d2a0a6f6",
   "metadata": {},
   "outputs": [],
   "source": [
    "class Employee(BaseModel):\n",
    "    id: Annotated[int, Field(..., description=\"직원 ID\")]\n",
    "    name: Annotated[str, Field(..., min_length=3, max_length=50, description=\"이름\")]\n",
    "    age: Annotated[int, Field(gt=18, lt=65, description=\"나이 (19-64세)\")]\n",
    "    salary: Annotated[\n",
    "        float, Field(gt=0, lt=10000, description=\"연봉 (단위: 만원, 최대 10억)\")\n",
    "    ]\n",
    "    skills: Annotated[\n",
    "        List[str], Field(min_items=1, max_items=10, description=\"보유 기술 (1-10개)\")\n",
    "    ]"
   ]
  },
  {
   "cell_type": "code",
   "execution_count": 6,
   "id": "1731bc5c-9d2d-4f85-b23d-0e155d0d31c8",
   "metadata": {},
   "outputs": [
    {
     "name": "stdout",
     "output_type": "stream",
     "text": [
      "유효한 직원 데이터: id=1 name='테디노트' age=30 salary=1000.0 skills=['Python', 'LangChain']\n"
     ]
    }
   ],
   "source": [
    "try:\n",
    "    valid_employee = Employee(\n",
    "        id=1, name=\"테디노트\", age=30, salary=1000, skills=[\"Python\", \"LangChain\"]\n",
    "    )\n",
    "    print(\"유효한 직원 데이터:\", valid_employee)\n",
    "except ValidationError as e:\n",
    "    print(\"유효성 검사 오류:\", e)"
   ]
  },
  {
   "cell_type": "code",
   "execution_count": 7,
   "id": "03ff1431-d887-4533-836e-1f9ee6d567e5",
   "metadata": {},
   "outputs": [
    {
     "name": "stdout",
     "output_type": "stream",
     "text": [
      "유효성 검사 오류:\n",
      "- id: Field required\n",
      "- name: String should have at least 3 characters\n",
      "- age: Input should be greater than 18\n",
      "- salary: Input should be less than 10000\n",
      "- skills: Input should be a valid list\n"
     ]
    }
   ],
   "source": [
    "try:\n",
    "    invalid_employee = Employee(\n",
    "        name=\"테디\",  # 이름이 너무 짧음\n",
    "        age=17,  # 나이가 범위를 벗어남\n",
    "        salary=20000,  # 급여가 범위를 벗어남\n",
    "        skills=\"Python\",  # 리스트가 아님\n",
    "    )\n",
    "except ValidationError as e:\n",
    "    print(\"유효성 검사 오류:\")\n",
    "    for error in e.errors():\n",
    "        print(f\"- {error['loc'][0]}: {error['msg']}\")\n"
   ]
  },
  {
   "cell_type": "code",
   "execution_count": null,
   "id": "c7a58bbf-1d5c-4f92-81c2-1fbf78cf59f8",
   "metadata": {},
   "outputs": [],
   "source": []
  },
  {
   "cell_type": "code",
   "execution_count": 8,
   "id": "0d58a5b9-4d98-4c4d-81ac-4ac6c829d2f6",
   "metadata": {},
   "outputs": [],
   "source": [
    "\n",
    "from langchain_core.messages import AIMessage, HumanMessage\n",
    "from typing import Annotated, TypedDict\n",
    "from langgraph.graph import StateGraph, START, END\n",
    "from langgraph.graph.message import add_messages"
   ]
  },
  {
   "cell_type": "code",
   "execution_count": 9,
   "id": "bb1efed0-0b5b-40d0-83c2-6f63590fe58f",
   "metadata": {},
   "outputs": [
    {
     "name": "stdout",
     "output_type": "stream",
     "text": [
      "[HumanMessage(content='안녕하세요?', additional_kwargs={}, response_metadata={}, id='1'), AIMessage(content='반갑습니다~', additional_kwargs={}, response_metadata={}, id='2')]\n"
     ]
    }
   ],
   "source": [
    "msgs1 = [HumanMessage(content=\"안녕하세요?\", id=\"1\")]\n",
    "msgs2 = [AIMessage(content=\"반갑습니다~\", id=\"2\")]\n",
    "\n",
    "result1 = add_messages(msgs1, msgs2)\n",
    "print(result1)\n"
   ]
  },
  {
   "cell_type": "code",
   "execution_count": 10,
   "id": "2166f4df-c263-42f0-9e20-a0abe4be0899",
   "metadata": {},
   "outputs": [],
   "source": [
    "\n",
    "\n",
    "class State(TypedDict):\n",
    "    # 메시지 정의(list type 이며 add_messages 함수를 사용하여 메시지를 추가)\n",
    "    messages: Annotated[list, add_messages]"
   ]
  },
  {
   "cell_type": "code",
   "execution_count": 11,
   "id": "32ccc864-cd42-4cd0-9bec-bed137affcdd",
   "metadata": {},
   "outputs": [],
   "source": [
    "# def chatbot(state: State):\n",
    "#     print(\"check_point -> \",state[\"messages\"])\n",
    "#     # 메시지 호출 및 반환\n",
    "#     return {\"messages\": [llm.invoke(state[\"messages\"])]}\n",
    "\n",
    "def chatbot(state: State) -> State:\n",
    "    messages = state[\"messages\"]\n",
    "    \n",
    "    # Convert to format LLM expects if needed\n",
    "    formatted_messages = []\n",
    "    for msg in messages:\n",
    "        if isinstance(msg, tuple):\n",
    "            role, content = msg\n",
    "            if role == \"user\":\n",
    "                formatted_messages.append(HumanMessage(content=content))\n",
    "            else:\n",
    "                formatted_messages.append(AIMessage(content=content))\n",
    "        else:\n",
    "            formatted_messages.append(msg)\n",
    "    \n",
    "    response = llm.invoke(formatted_messages)\n",
    "    \n",
    "    # Return in tuple format\n",
    "    return {\"messages\": [(\"assistant\", response.content)]}\n",
    "\n"
   ]
  },
  {
   "cell_type": "code",
   "execution_count": 12,
   "id": "3130a144-6591-47a0-96de-5ac65abf4755",
   "metadata": {},
   "outputs": [],
   "source": [
    "# def chatbottwo(state: State) -> State:\n",
    "#     print(\"check_point_2 -> \", state[\"messages\"])\n",
    "#     # Get the last assistant message which should contain the top 10 list\n",
    "#     last_message = None\n",
    "#     for content in state[\"messages\"]:\n",
    "#         last_message = content\n",
    "    \n",
    "#     if not last_message:\n",
    "#         return {\"messages\": [(\"assistant\", \"I don't have any recommendations to filter.\")]}\n",
    "    \n",
    "#     # Create a prompt to select top 3\n",
    "#     prompt_select_three = ChatPromptTemplate.from_template(\"\"\"\n",
    "#     {information}\n",
    "    \n",
    "#     이 정보를 바탕으로 10개의 리스트 중 가장 유명한 세개만 알려주세요\n",
    "#     \"\"\")\n",
    "    \n",
    "#     # Create a chain\n",
    "#     chaintest = prompt_select_three | llm | StrOutputParser()\n",
    "    \n",
    "#     # Get the top 3 recommendations\n",
    "#     top_three = chaintest.invoke({\"information\": last_message})\n",
    "    \n",
    "#     # Return as a message\n",
    "#     return {\"messages\": [(\"assistant\", top_three)]}\n",
    "\n",
    "def chatbottwo(state: State) -> State:\n",
    "    print(\"check_point_2 -> \", state[\"messages\"])\n",
    "    \n",
    "    # Get the last assistant message which should contain the top 10 list\n",
    "    last_message = None\n",
    "    for message in state[\"messages\"]:\n",
    "        # Check if it's a LangChain message object\n",
    "        if hasattr(message, 'content') and hasattr(message, '__class__') and message.__class__.__name__ == 'AIMessage':\n",
    "            last_message = message.content\n",
    "        # Check if it's a tuple with role and content\n",
    "        elif isinstance(message, tuple) and len(message) == 2 and message[0] == \"assistant\":\n",
    "            last_message = message[1]\n",
    "    \n",
    "    if not last_message:\n",
    "        return {\"messages\": [(\"assistant\", \"I don't have any recommendations to filter.\")]}\n",
    "    \n",
    "    # Create a prompt to select top 3\n",
    "    prompt_select_three = ChatPromptTemplate.from_template(\"\"\"\n",
    "    {information}\n",
    "    \n",
    "    이 정보를 바탕으로 10개의 리스트 중 가장 유명한 세개만 알려주세요\n",
    "    \"\"\")\n",
    "    \n",
    "    # Create a chain\n",
    "    chaintest = prompt_select_three | llm | StrOutputParser()\n",
    "    \n",
    "    # Get the top 3 recommendations\n",
    "    top_three = chaintest.invoke({\"information\": last_message})\n",
    "    \n",
    "    # Return as a message - use the same format as your input\n",
    "    # If you're using tuples when invoking the graph:\n",
    "    return {\"messages\": [(\"assistant\", top_three)]}"
   ]
  },
  {
   "cell_type": "code",
   "execution_count": 13,
   "id": "de01c4d4-fe3b-404e-9aaf-2b7d21e7f58c",
   "metadata": {},
   "outputs": [
    {
     "data": {
      "text/plain": [
       "<langgraph.graph.state.StateGraph at 0x7f23e7970890>"
      ]
     },
     "execution_count": 13,
     "metadata": {},
     "output_type": "execute_result"
    }
   ],
   "source": [
    "graph_builder = StateGraph(State)\n",
    "\n",
    "\n",
    "graph_builder.add_node(\"chatbot\", chatbot)\n",
    "graph_builder.add_node(\"chatbottwo\", chatbottwo)\n"
   ]
  },
  {
   "cell_type": "code",
   "execution_count": 14,
   "id": "c5389989-62d2-41dc-b09e-eda0904c3f2f",
   "metadata": {},
   "outputs": [
    {
     "data": {
      "text/plain": [
       "<langgraph.graph.state.StateGraph at 0x7f23e7970890>"
      ]
     },
     "execution_count": 14,
     "metadata": {},
     "output_type": "execute_result"
    }
   ],
   "source": [
    "graph_builder.add_edge(START, \"chatbot\")\n",
    "graph_builder.add_edge(\"chatbot\", \"chatbottwo\")\n",
    "graph_builder.add_edge(\"chatbottwo\", END)\n"
   ]
  },
  {
   "cell_type": "code",
   "execution_count": 15,
   "id": "709f8b49-d4ce-4509-aecf-56235aafb4b0",
   "metadata": {},
   "outputs": [
    {
     "data": {
      "image/png": "[encoded data removed]",
      "text/plain": [
       "<IPython.core.display.Image object>"
      ]
     },
     "metadata": {},
     "output_type": "display_data"
    }
   ],
   "source": [
    "graph = graph_builder.compile()\n",
    "\n",
    "visualize(graph)"
   ]
  },
  {
   "cell_type": "code",
   "execution_count": 16,
   "id": "022357ac-e2cf-4bd9-83cb-39dcfd3324d9",
   "metadata": {},
   "outputs": [
    {
     "name": "stdout",
     "output_type": "stream",
     "text": [
      "check_point_2 ->  [HumanMessage(content='서울의 유명한 맛집 TOP 10 추천해줘', additional_kwargs={}, response_metadata={}, id='37280f62-1036-4f48-981c-7760a785d05e'), AIMessage(content='서울에는 정말 다양한 맛집들이 있습니다. 여기 제가 추천하는 서울의 유명 맛집 TOP 10을 소개해 드리겠습니다.\\n\\n1. 빈나박\\n2. 구이구이\\n3. 봉피양\\n4. 장수촌\\n5. 한남동 맛나분식\\n6. 산정동 순두부\\n7. 해물탕 하우스\\n8. 온가족 숯불갈비\\n9. 마마무 족발\\n10. 서울바스타\\n\\n이 맛집들은 서울 사람들 사이에서 오랫동안 유명했고, 많은 사람들이 추천하는 곳들입니다. 한식, 중식, 일식, 분식 등 다양한 종류의 맛집들이 포함되어 있습니다. 취향에 맞게 골라보시면 좋을 것 같네요. 서울 여행 오셨을 때 꼭 들러보시기 바랍니다!', additional_kwargs={}, response_metadata={}, id='2fa884ab-5471-4ca7-8aba-1ac23cc38dd3')]\n"
     ]
    }
   ],
   "source": [
    "\n",
    "question = \"서울의 유명한 맛집 TOP 10 추천해줘\"\n",
    "\n",
    "# # 그래프 이벤트 스트리밍\n",
    "# for event in graph.stream({\"messages\": [(\"user\", question)]}):\n",
    "#     # 이벤트 값 출력\n",
    "#     for value in event.values():\n",
    "#         print(\"Assistant:\", value[\"messages\"][-1].content)\n",
    "\n",
    "response=graph.invoke({\"messages\": [(\"user\", question)]})\n"
   ]
  },
  {
   "cell_type": "code",
   "execution_count": 17,
   "id": "23608e3f-ca0c-4a4d-8899-c5c2340c32ad",
   "metadata": {},
   "outputs": [
    {
     "data": {
      "text/plain": [
       "{'messages': [HumanMessage(content='서울의 유명한 맛집 TOP 10 추천해줘', additional_kwargs={}, response_metadata={}, id='37280f62-1036-4f48-981c-7760a785d05e'),\n",
       "  AIMessage(content='서울에는 정말 다양한 맛집들이 있습니다. 여기 제가 추천하는 서울의 유명 맛집 TOP 10을 소개해 드리겠습니다.\\n\\n1. 빈나박\\n2. 구이구이\\n3. 봉피양\\n4. 장수촌\\n5. 한남동 맛나분식\\n6. 산정동 순두부\\n7. 해물탕 하우스\\n8. 온가족 숯불갈비\\n9. 마마무 족발\\n10. 서울바스타\\n\\n이 맛집들은 서울 사람들 사이에서 오랫동안 유명했고, 많은 사람들이 추천하는 곳들입니다. 한식, 중식, 일식, 분식 등 다양한 종류의 맛집들이 포함되어 있습니다. 취향에 맞게 골라보시면 좋을 것 같네요. 서울 여행 오셨을 때 꼭 들러보시기 바랍니다!', additional_kwargs={}, response_metadata={}, id='2fa884ab-5471-4ca7-8aba-1ac23cc38dd3'),\n",
       "  AIMessage(content='제가 제공한 서울 유명 맛집 10곳 중에서 가장 유명한 세 곳은 다음과 같습니다:\\n\\n1. 빈나박\\n2. 구이구이  \\n3. 봉피양\\n\\n빈나박은 서울에서 가장 유명한 북경식 민가집으로, 오랜 전통과 맛으로 많은 사람들에게 사랑받고 있습니다. \\n\\n구이구이는 서울 대표 삼겹살 구이 전문점으로, 맛과 서비스 모두 뛰어납니다.\\n\\n봉피양은 서울에서 가장 유명한 중식당 중 하나로, 특히 소갈비탕과 잡채가 유명합니다.\\n\\n이렇게 오랜 역사와 전통을 자랑하며 많은 사람들에게 인정받고 있는 맛집들이 서울에서 가장 유명한 곳이라고 할 수 있겠습니다.', additional_kwargs={}, response_metadata={}, id='d08738d9-928d-4880-aa51-b7de94a33925')]}"
      ]
     },
     "execution_count": 17,
     "metadata": {},
     "output_type": "execute_result"
    }
   ],
   "source": [
    "response"
   ]
  },
  {
   "cell_type": "code",
   "execution_count": 19,
   "id": "d6ecc2ed-a5db-40e0-bcf4-47c52ef2ad80",
   "metadata": {},
   "outputs": [
    {
     "name": "stdout",
     "output_type": "stream",
     "text": [
      "Node: chatbot\n",
      "--------------------------------------------------\n",
      "assistant: 서울에는 오랜 역사와 현대적인 매력이 공존하는 다양한 관광명소가 있습니다. 여기 서울 관광의 꽃이라고 할 수 있는 유명 관광지 10곳을 추천해 드리겠습니다.\n",
      "\n",
      "1. 경복궁 - 조선시대 왕궁으로 아름다운 건축물과 정원이 있습니다.\n",
      "\n",
      "2. 남산 서울타워 - 서울의 상징적인 곳으로 전망대에서 서울 시내를 한눈에 내려다 볼 수 있습니다. \n",
      "\n",
      "3. 인사동 - 전통 한국문화를 체험할 수 있는 거리로 갤러리, 공방, 전통차집 등이 있습니다.\n",
      "\n",
      "4. 동대문디자인플라자(DDP) - 현대적 건축미가 돋보이는 복합문화공간입니다.\n",
      "\n",
      "5. 북촌한옥마을 - 조선시대 가옥들이 잘 보존된 전통마을입니다.\n",
      "\n",
      "6. 광화문광장 - 서울의 관문으로 세종대왕 동상, 광화문 등 볼거리가 많습니다.\n",
      "\n",
      "7. 이태원 거리 - 다양한 외국 문화를 체험할 수 있는 활기찬 거리입니다.  \n",
      "\n",
      "8. 청계천 - 도심 속 생태하천으로 산책하기 좋은 공간입니다.\n",
      "\n",
      "9. 홍대 앞 거리 - 젊음의 거리로 다양한 클럽, 공연장, 상점들이 있습니다.\n",
      "\n",
      "10. 여의도 한강공원 - 한강을 조망할 수 있는 넓은 공원입니다.\n",
      "\n",
      "이 곳들을 둘러보면 서울의 전통과 현대를 고루 느낄 수 있을 것입니다.\n",
      "--------------------------------------------------\n",
      "\n",
      "check_point_2 ->  [HumanMessage(content='서울의 유명한 관광명소 TOP 10 추천해줘', additional_kwargs={}, response_metadata={}, id='e0edeaf3-43af-4140-8908-7382b6adf9f5'), AIMessage(content='서울에는 오랜 역사와 현대적인 매력이 공존하는 다양한 관광명소가 있습니다. 여기 서울 관광의 꽃이라고 할 수 있는 유명 관광지 10곳을 추천해 드리겠습니다.\\n\\n1. 경복궁 - 조선시대 왕궁으로 아름다운 건축물과 정원이 있습니다.\\n\\n2. 남산 서울타워 - 서울의 상징적인 곳으로 전망대에서 서울 시내를 한눈에 내려다 볼 수 있습니다. \\n\\n3. 인사동 - 전통 한국문화를 체험할 수 있는 거리로 갤러리, 공방, 전통차집 등이 있습니다.\\n\\n4. 동대문디자인플라자(DDP) - 현대적 건축미가 돋보이는 복합문화공간입니다.\\n\\n5. 북촌한옥마을 - 조선시대 가옥들이 잘 보존된 전통마을입니다.\\n\\n6. 광화문광장 - 서울의 관문으로 세종대왕 동상, 광화문 등 볼거리가 많습니다.\\n\\n7. 이태원 거리 - 다양한 외국 문화를 체험할 수 있는 활기찬 거리입니다.  \\n\\n8. 청계천 - 도심 속 생태하천으로 산책하기 좋은 공간입니다.\\n\\n9. 홍대 앞 거리 - 젊음의 거리로 다양한 클럽, 공연장, 상점들이 있습니다.\\n\\n10. 여의도 한강공원 - 한강을 조망할 수 있는 넓은 공원입니다.\\n\\n이 곳들을 둘러보면 서울의 전통과 현대를 고루 느낄 수 있을 것입니다.', additional_kwargs={}, response_metadata={}, id='4b01ed5d-761e-4b18-8232-f5f95a6486b2')]\n",
      "Node: chatbottwo\n",
      "--------------------------------------------------\n",
      "assistant: 서울의 유명한 관광지 10곳 중에서 가장 유명한 세 곳은 다음과 같습니다:\n",
      "\n",
      "1. 경복궁\n",
      "2. 남산 서울타워  \n",
      "3. 인사동\n",
      "\n",
      "경복궁은 조선시대 왕궁으로 아름다운 건축물과 정원이 있어 한국의 전통문화를 대표하는 곳입니다. 남산 서울타워는 서울의 상징적인 랜드마크로 전망대에서 서울 시내를 한눈에 내려다볼 수 있습니다. 인사동은 한국 전통문화를 체험할 수 있는 거리로 갤러리, 공방, 전통찻집 등이 모여 있어 많은 관광객들이 찾는 명소입니다.\n",
      "--------------------------------------------------\n",
      "\n"
     ]
    }
   ],
   "source": [
    "question = \"서울의 유명한 관광명소 TOP 10 추천해줘\"\n",
    "\n",
    "# # Stream the graph execution\n",
    "# for event in graph.stream({\"messages\": [(\"user\", question)]}):\n",
    "#     # Get the node name and state\n",
    "#     node_name = list(event.keys())[0]\n",
    "#     state = list(event.values())[0]\n",
    "    \n",
    "#     print(f\"Node: {node_name}\")\n",
    "#     print(\"-\" * 50)\n",
    "    \n",
    "#     # Display the last message from this node\n",
    "#     if state[\"messages\"] and len(state[\"messages\"]) > 0:\n",
    "#         last_message = state[\"messages\"][-1]\n",
    "        \n",
    "#         # Check the type of message and extract content accordingly\n",
    "#         if hasattr(last_message, 'content'):\n",
    "#             # It's a LangChain message object\n",
    "#             role = last_message.__class__.__name__.replace('Message', '')\n",
    "#             content = last_message.content\n",
    "#         elif isinstance(last_message, tuple) and len(last_message) == 2:\n",
    "#             # It's a tuple of (role, content)\n",
    "#             role, content = last_message\n",
    "#         else:\n",
    "#             # Unknown format, just print the message\n",
    "#             print(f\"Message: {last_message}\")\n",
    "#             continue\n",
    "        \n",
    "#         # Print the full content\n",
    "#         print(f\"{role}: {content}\")\n",
    "    \n",
    "#     print(\"-\" * 50)\n",
    "#     print()  # Add an extra line for better readability\n",
    "\n",
    "\n",
    "# Stream the graph execution using tuples\n",
    "for event in graph.stream({\"messages\": [(\"user\", question)]}):\n",
    "    # Get the node name and state\n",
    "    node_name = list(event.keys())[0]\n",
    "    state = list(event.values())[0]\n",
    "    \n",
    "    print(f\"Node: {node_name}\")\n",
    "    print(\"-\" * 50)\n",
    "    \n",
    "    # Display the last message from this node\n",
    "    if state[\"messages\"] and len(state[\"messages\"]) > 0:\n",
    "        last_message = state[\"messages\"][-1]\n",
    "        \n",
    "        # Handle different message formats\n",
    "        if hasattr(last_message, 'content'):\n",
    "            # It's a LangChain message object\n",
    "            role = last_message.__class__.__name__.replace('Message', '')\n",
    "            content = last_message.content\n",
    "        elif isinstance(last_message, tuple) and len(last_message) == 2:\n",
    "            # It's a tuple of (role, content)\n",
    "            role, content = last_message\n",
    "        else:\n",
    "            # Unknown format, just print the message\n",
    "            print(f\"Message: {last_message}\")\n",
    "            continue\n",
    "        \n",
    "        # Print the full content\n",
    "        print(f\"{role}: {content}\")\n",
    "    \n",
    "    print(\"-\" * 50)\n",
    "    print()  # Add an extra line for better readability\n"
   ]
  },
  {
   "cell_type": "code",
   "execution_count": null,
   "id": "8ce245bb-69d9-4cc2-9abb-44c2dff09ac5",
   "metadata": {},
   "outputs": [],
   "source": []
  },
  {
   "cell_type": "code",
   "execution_count": null,
   "id": "4a74e6c9-4026-49de-a6d7-ba5349ff2129",
   "metadata": {},
   "outputs": [],
   "source": []
  },
  {
   "cell_type": "code",
   "execution_count": null,
   "id": "b46ac67e-56af-4479-b9e7-da689a070787",
   "metadata": {},
   "outputs": [],
   "source": []
  },
  {
   "cell_type": "code",
   "execution_count": null,
   "id": "4ad6fb5c-5159-4e2e-83f2-3a218b76cabb",
   "metadata": {},
   "outputs": [],
   "source": []
  },
  {
   "cell_type": "code",
   "execution_count": null,
   "id": "a51ccdf6-7181-4bbf-acba-2eaeff2e02fc",
   "metadata": {},
   "outputs": [],
   "source": []
  },
  {
   "cell_type": "code",
   "execution_count": 25,
   "id": "45c2f196-d678-4c90-a681-1c8365d7f434",
   "metadata": {},
   "outputs": [],
   "source": [
    "graph_builder = StateGraph(State)\n"
   ]
  },
  {
   "cell_type": "code",
   "execution_count": 26,
   "id": "43ac0481-00fd-4a53-88aa-247a21087bab",
   "metadata": {},
   "outputs": [],
   "source": [
    "class State(TypedDict):\n",
    "    # list 타입에 add_messages 적용(list 에 message 추가)\n",
    "    messages: Annotated[list, add_messages]"
   ]
  },
  {
   "cell_type": "code",
   "execution_count": 27,
   "id": "7d8e63ab-ba76-4838-9c8c-f718d80f4055",
   "metadata": {},
   "outputs": [
    {
     "data": {
      "text/plain": [
       "StructuredTool(name='search_tavily', description='Search the web for information using Tavily search engine', args_schema=<class 'langchain_core.utils.pydantic.search_tavily'>, func=<function search_tavily at 0x7fb6c28027a0>)"
      ]
     },
     "execution_count": 27,
     "metadata": {},
     "output_type": "execute_result"
    }
   ],
   "source": [
    "# Try this first\n",
    "from langchain_community.tools.tavily_search import TavilySearchResults\n",
    "# Import the Tool class from langchain\n",
    "from langchain.tools import tool  # Note: lowercase 'tool' for the decorator\n",
    "\n",
    "os.environ[\"TAVILY_API_KEY\"] = \"XXXXX\"\n",
    "search_tool = TavilySearchResults()\n",
    "\n",
    "@tool(\n",
    "    description=\"Search the web for information using Tavily search engine\"\n",
    ")\n",
    "def search_tavily(question):\n",
    "    # Use the tool to search\n",
    "    search_results = search_tool.invoke(question)\n",
    "    return search_results\n",
    "\n",
    "\n",
    "tools = [search_tavily]\n",
    "\n",
    "\n",
    "search_tavily"
   ]
  },
  {
   "cell_type": "code",
   "execution_count": 28,
   "id": "d4714029-9d45-4b6a-95ec-5e1236213c51",
   "metadata": {},
   "outputs": [],
   "source": [
    "llm_with_tools = llm.bind_tools(tools)\n"
   ]
  },
  {
   "cell_type": "code",
   "execution_count": 29,
   "id": "b0d7872a-1489-4c3f-984d-b9c989be4398",
   "metadata": {},
   "outputs": [],
   "source": [
    "def chatbot(state: State):\n",
    "    answer = llm_with_tools.invoke(state[\"messages\"])\n",
    "    # 메시지 목록 반환\n",
    "    return {\"messages\": [answer]}  # 자동으로 add_messages 적용"
   ]
  },
  {
   "cell_type": "code",
   "execution_count": 30,
   "id": "a4e2f024-0ff7-413f-9d28-5bc406455882",
   "metadata": {},
   "outputs": [
    {
     "data": {
      "text/plain": [
       "<langgraph.graph.state.StateGraph at 0x7fb6c26556a0>"
      ]
     },
     "execution_count": 30,
     "metadata": {},
     "output_type": "execute_result"
    }
   ],
   "source": [
    "graph_builder.add_node(\"chatbot\", chatbot)\n"
   ]
  },
  {
   "cell_type": "code",
   "execution_count": 32,
   "id": "dc1c134e-f73f-4e57-855b-905e11d83286",
   "metadata": {},
   "outputs": [
    {
     "data": {
      "text/plain": [
       "<langgraph.graph.state.StateGraph at 0x7fb6c26556a0>"
      ]
     },
     "execution_count": 32,
     "metadata": {},
     "output_type": "execute_result"
    }
   ],
   "source": [
    "import json\n",
    "from langchain_core.messages import ToolMessage\n",
    "\n",
    "\n",
    "class BasicToolNode:\n",
    "    \"\"\"Run tools requested in the last AIMessage node\"\"\"\n",
    "\n",
    "    def __init__(self, tools: list) -> None:\n",
    "        # 도구 리스트\n",
    "        self.tools_list = {tool.name: tool for tool in tools}\n",
    "\n",
    "    def __call__(self, inputs: dict):\n",
    "        print(\"simple check -> \",inputs)\n",
    "        print()\n",
    "        # 메시지가 존재할 경우 가장 최근 메시지 1개 추출\n",
    "        if messages := inputs.get(\"messages\", []):\n",
    "            message = messages[-1]\n",
    "        else:\n",
    "            raise ValueError(\"No message found in input\")\n",
    "\n",
    "        # 도구 호출 결과\n",
    "        outputs = []\n",
    "        for tool_call in message.tool_calls:\n",
    "            # 도구 호출 후 결과 저장\n",
    "            tool_result = self.tools_list[tool_call[\"name\"]].invoke(tool_call[\"args\"])\n",
    "            outputs.append(\n",
    "                # 도구 호출 결과를 메시지로 저장\n",
    "                ToolMessage(\n",
    "                    content=json.dumps(\n",
    "                        tool_result, ensure_ascii=False\n",
    "                    ),  # 도구 호출 결과를 문자열로 변환\n",
    "                    name=tool_call[\"name\"],\n",
    "                    tool_call_id=tool_call[\"id\"],\n",
    "                )\n",
    "            )\n",
    "\n",
    "        return {\"messages\": outputs}\n",
    "\n",
    "\n",
    "tool_node = BasicToolNode(tools=[search_tavily])\n",
    "\n",
    "\n",
    "graph_builder.add_node(\"tools\", tool_node)\n",
    "\n"
   ]
  },
  {
   "cell_type": "code",
   "execution_count": 33,
   "id": "6d785ae9-0207-4a2f-88f7-c51b01ab7402",
   "metadata": {},
   "outputs": [],
   "source": [
    "from langgraph.graph import START, END\n",
    "\n",
    "\n",
    "def route_tools(\n",
    "    state: State,\n",
    "):\n",
    "    if messages := state.get(\"messages\", []):\n",
    "        # 가장 최근 AI 메시지 추출\n",
    "        ai_message = messages[-1]\n",
    "    else:\n",
    "        # 입력 상태에 메시지가 없는 경우 예외 발생\n",
    "        raise ValueError(f\"No messages found in input state to tool_edge: {state}\")\n",
    "\n",
    "    # AI 메시지에 도구 호출이 있는 경우 \"tools\" 반환\n",
    "    if hasattr(ai_message, \"tool_calls\") and len(ai_message.tool_calls) > 0:\n",
    "        # 도구 호출이 있는 경우 \"tools\" 반환\n",
    "        return \"tools\"\n",
    "    # 도구 호출이 없는 경우 \"END\" 반환\n",
    "    return END\n",
    "\n",
    "\n",
    "# `tools_condition` 함수는 챗봇이 도구 사용을 요청하면 \"tools\"를 반환하고, 직접 응답이 가능한 경우 \"END\"를 반환\n",
    "graph_builder.add_conditional_edges(\n",
    "    source=\"chatbot\",\n",
    "    path=route_tools,\n",
    "    # route_tools 의 반환값이 \"tools\" 인 경우 \"tools\" 노드로, 그렇지 않으면 END 노드로 라우팅\n",
    "    path_map={\"tools\": \"tools\", END: END},\n",
    ")\n",
    "\n",
    "# tools > chatbot\n",
    "graph_builder.add_edge(\"tools\", \"chatbot\")\n",
    "\n",
    "# START > chatbot\n",
    "graph_builder.add_edge(START, \"chatbot\")\n",
    "\n",
    "# 그래프 컴파일\n",
    "graph = graph_builder.compile()\n",
    "\n"
   ]
  },
  {
   "cell_type": "code",
   "execution_count": 34,
   "id": "29364a9b-9c8d-4f84-b091-60741e2d4578",
   "metadata": {},
   "outputs": [
    {
     "data": {
      "image/png": "[encoded data removed]",
      "text/plain": [
       "<IPython.core.display.Image object>"
      ]
     },
     "metadata": {},
     "output_type": "display_data"
    }
   ],
   "source": [
    "visualize(graph)"
   ]
  },
  {
   "cell_type": "code",
   "execution_count": 35,
   "id": "d01e8d38-e70a-4ad3-a488-c3ebdd82d33f",
   "metadata": {},
   "outputs": [
    {
     "name": "stdout",
     "output_type": "stream",
     "text": [
      "\n",
      "==============\n",
      "STEP: messages\n",
      "==============\n",
      "\n",
      "content='테디노트 YouTube 채널에 대해서 검색해 줘' additional_kwargs={} response_metadata={} id='74d42445-57be-44f2-b89e-8fe9d24c2f9a'\n",
      "\n",
      "==============\n",
      "STEP: messages\n",
      "==============\n",
      "\n",
      "content=[{'type': 'text', 'text': '물론입니다. 테디노트 YouTube 채널에 대한 정보를 찾아보겠습니다.'}, {'type': 'tool_use', 'name': 'search_tavily', 'input': {'question': '테디노트 YouTube 채널'}, 'id': 'tooluse_P-EV_I5YSw6SMh7TBdjbzQ'}] additional_kwargs={} response_metadata={'ResponseMetadata': {'RequestId': 'b1aa0623-358a-4234-b8a4-7dcb6c5c2e94', 'HTTPStatusCode': 200, 'HTTPHeaders': {'date': 'Sun, 04 May 2025 08:36:21 GMT', 'content-type': 'application/json', 'content-length': '404', 'connection': 'keep-alive', 'x-amzn-requestid': 'b1aa0623-358a-4234-b8a4-7dcb6c5c2e94'}, 'RetryAttempts': 0}, 'stopReason': 'tool_use', 'metrics': {'latencyMs': [1487]}, 'model_name': 'anthropic.claude-3-sonnet-20240229-v1:0'} id='run--7247c268-fcae-48b1-8986-2b76592bb683-0' tool_calls=[{'name': 'search_tavily', 'args': {'question': '테디노트 YouTube 채널'}, 'id': 'tooluse_P-EV_I5YSw6SMh7TBdjbzQ', 'type': 'tool_call'}] usage_metadata={'input_tokens': 243, 'output_tokens': 99, 'total_tokens': 342, 'input_token_details': {'cache_creation': 0, 'cache_read': 0}}\n",
      "simple check ->  {'messages': [HumanMessage(content='테디노트 YouTube 채널에 대해서 검색해 줘', additional_kwargs={}, response_metadata={}, id='74d42445-57be-44f2-b89e-8fe9d24c2f9a'), AIMessage(content=[{'type': 'text', 'text': '물론입니다. 테디노트 YouTube 채널에 대한 정보를 찾아보겠습니다.'}, {'type': 'tool_use', 'name': 'search_tavily', 'input': {'question': '테디노트 YouTube 채널'}, 'id': 'tooluse_P-EV_I5YSw6SMh7TBdjbzQ'}], additional_kwargs={}, response_metadata={'ResponseMetadata': {'RequestId': 'b1aa0623-358a-4234-b8a4-7dcb6c5c2e94', 'HTTPStatusCode': 200, 'HTTPHeaders': {'date': 'Sun, 04 May 2025 08:36:21 GMT', 'content-type': 'application/json', 'content-length': '404', 'connection': 'keep-alive', 'x-amzn-requestid': 'b1aa0623-358a-4234-b8a4-7dcb6c5c2e94'}, 'RetryAttempts': 0}, 'stopReason': 'tool_use', 'metrics': {'latencyMs': [1487]}, 'model_name': 'anthropic.claude-3-sonnet-20240229-v1:0'}, id='run--7247c268-fcae-48b1-8986-2b76592bb683-0', tool_calls=[{'name': 'search_tavily', 'args': {'question': '테디노트 YouTube 채널'}, 'id': 'tooluse_P-EV_I5YSw6SMh7TBdjbzQ', 'type': 'tool_call'}], usage_metadata={'input_tokens': 243, 'output_tokens': 99, 'total_tokens': 342, 'input_token_details': {'cache_creation': 0, 'cache_read': 0}})]}\n",
      "\n",
      "\n",
      "==============\n",
      "STEP: messages\n",
      "==============\n",
      "\n",
      "content='[{\"title\": \"테디노트 TeddyNote - YouTube\", \"url\": \"https://www.youtube.com/channel/UCt2wAAXgm87ACiQnDHQEW6Q\", \"content\": \"Warning: Target URL returned error 403: Forbidden\\\\n테디노트 TeddyNote - YouTube\\\\n•\\\\nNaN / NaN\\\\nBack \\\\nSkip navigation\\\\nSearch\\\\nSearch with your voice\\\\nSign in\\\\n\\\\nHome HomeShorts\\\\nShorts\\\\nSubscriptions SubscriptionsYou YouHistory History\\\\n\\\\n\\\\n테디노트 TeddyNote\\\\n@teddynote\\\\n•\\\\n35K subscribers•234 videos\\\\n데이터 분석, 머신러닝, 딥러닝, LLM 에 대한 내용을 다룹니다. 연구보다는 개발에 관심이 많습니다 🙇\\u200d♂️ ...more...morefastcampus.co.kr/data_online_teddyand 2 more links\\\\nSubscribe\\\\nJoin\\\\nHome\\\\nVideos\\\\nShorts\\\\nLive\\\\nPlaylists\\\\nPosts\\\\nSearch [...] Our members Thank you, channel members!\\\\n       \\\\nJoin [...] 0:00\\\\n/ •Watch full videoLive\\\\n•\\\\n•\\\\nScroll for details\\\\n\\\\n…\\\\nNaN / NaN\", \"score\": 0.7598145}, {\"title\": \"테디노트 TeddyNote - YouTube\", \"url\": \"https://www.youtube.com/@teddynote/community\", \"content\": \"안녕하세요?! 테디노트 입니다. 현재 테디노트LAB 이라는 개발팀이 인하우스로 있습니다. 그리고, 다양한 기업에서 개발 과제를 받아 열심히 최선을\", \"score\": 0.75049835}, {\"title\": \"- YouTube\", \"url\": \"https://www.youtube.com/channel/UCcbPAIfCa4q0x7x8yFXmBag/community?lb=UgkxA96tlPWvBviDuiubAtRz-3X7GMXVRIFO\", \"content\": \"오늘 처음으로 타채널에 출연합니다! 테디노트님 채널에서 \\\\\"Attention과 Self-Attention\\\\\" 에 대해서 깊게 공부해 보는 시간을 가질 예정입니다.\", \"score\": 0.7208996}, {\"title\": \"골치 아픈 #PDF !! 어떻게 처리할까요? 유튜브 라이브 Q&A 편집본\", \"url\": \"https://www.youtube.com/watch?v=pzvAN4W1ojM\", \"content\": \"자료: https://link.teddynote.com/qOzO9e 디스코드 채널 https://discord.gg/q3RvQZ5CfK 랭체인 튜토리얼 ... 테디노트 TeddyNote•7.3K views.\", \"score\": 0.6972179}, {\"title\": \"테디노트 TeddyNote - YouTube\", \"url\": \"https://www.youtube.com/channel/UCt2wAAXgm87ACiQnDHQEW6Q/videos\", \"content\": \"데이터 분석, 머신러닝, 딥러닝, LLM 에 대한 내용을 다룹니다. 연구보다는 개발에 관심이 많습니다 \\u200d♂️ ...more ...more fastcampus.co.kr/data_online_teddyand 2\", \"score\": 0.6205532}]' name='search_tavily' id='da1c5d7e-293c-4048-b58c-c9a69eb36171' tool_call_id='tooluse_P-EV_I5YSw6SMh7TBdjbzQ'\n",
      "\n",
      "==============\n",
      "STEP: messages\n",
      "==============\n",
      "\n",
      "content=\"검색 결과를 보면 '테디노트 TeddyNote'는 데이터 분석, 머신러닝, 딥러닝, LLM(대규모 언어모델) 등의 주제를 다루는 유튜브 채널입니다. 채널 소개에 따르면 연구보다는 개발에 더 관심이 많다고 합니다. 현재 약 3만 5천명의 구독자를 보유하고 있으며, 234개의 동영상이 업로드되어 있습니다. \\n\\n이 채널은 관련 분야의 개념과 기술을 설명하는 동영상을 주로 제공하는 것으로 보입니다. 또한 라이브 방송을 통해 Q&A 세션을 진행하기도 합니다. 채널 링크와 커뮤니티 링크를 통해 더 자세한 정보를 확인할 수 있습니다.\" additional_kwargs={} response_metadata={'ResponseMetadata': {'RequestId': 'd8c8d410-045d-4825-b6ba-867b785521d1', 'HTTPStatusCode': 200, 'HTTPHeaders': {'date': 'Sun, 04 May 2025 08:36:29 GMT', 'content-type': 'application/json', 'content-length': '867', 'connection': 'keep-alive', 'x-amzn-requestid': 'd8c8d410-045d-4825-b6ba-867b785521d1'}, 'RetryAttempts': 0}, 'stopReason': 'end_turn', 'metrics': {'latencyMs': [5722]}, 'model_name': 'anthropic.claude-3-sonnet-20240229-v1:0'} id='run--5cc49f4c-9d0d-43c7-a962-91d817856912-0' usage_metadata={'input_tokens': 1337, 'output_tokens': 295, 'total_tokens': 1632, 'input_token_details': {'cache_creation': 0, 'cache_read': 0}}\n"
     ]
    }
   ],
   "source": [
    "inputs = {\"messages\": \"테디노트 YouTube 채널에 대해서 검색해 줘\"}\n",
    "\n",
    "for event in graph.stream(inputs, stream_mode=\"values\"):\n",
    "    for key, value in event.items():\n",
    "        print(f\"\\n==============\\nSTEP: {key}\\n==============\\n\")\n",
    "        # display_message_tree(value[\"messages\"][-1])\n",
    "        print(value[-1])\n"
   ]
  },
  {
   "cell_type": "code",
   "execution_count": null,
   "id": "a4c2a4b6-0933-4ebb-92f7-b61459bbc5c1",
   "metadata": {},
   "outputs": [],
   "source": []
  }
 ],
 "metadata": {
  "kernelspec": {
   "display_name": "Python 3 (ipykernel)",
   "language": "python",
   "name": "python3"
  },
  "language_info": {
   "codemirror_mode": {
    "name": "ipython",
    "version": 3
   },
   "file_extension": ".py",
   "mimetype": "text/x-python",
   "name": "python",
   "nbconvert_exporter": "python",
   "pygments_lexer": "ipython3",
   "version": "3.12.9"
  }
 },
 "nbformat": 4,
 "nbformat_minor": 5
}
