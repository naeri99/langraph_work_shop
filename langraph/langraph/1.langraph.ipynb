{
 "cells": [
  {
   "cell_type": "code",
   "execution_count": 1,
   "id": "564224b6-e00a-4231-bfaf-6d3c11652869",
   "metadata": {},
   "outputs": [],
   "source": [
    "from langchain_aws import ChatBedrockConverse\n",
    "from langchain.schema import HumanMessage, SystemMessage\n",
    "import boto3\n",
    "from langchain_core.output_parsers import StrOutputParser\n",
    "from langchain_core.prompts import ChatPromptTemplate\n",
    "from opensearchpy import OpenSearch, RequestsHttpConnection\n",
    "import os\n",
    "import boto3\n",
    "import json\n",
    "import sys\n",
    "from langchain.schema import BaseRetriever, Document\n",
    "from typing import List, Optional, Dict, Tuple , TypedDict ,Annotated\n",
    "from langchain_core.documents import Document\n",
    "import fitz\n",
    "import concurrent.futures\n",
    "from langchain_aws import BedrockEmbeddings\n",
    "from langchain_core.runnables import RunnableParallel, RunnablePassthrough\n",
    "from langchain_core.prompts import ChatPromptTemplate\n",
    "from langchain.prompts.prompt import PromptTemplate\n",
    "from operator import itemgetter\n",
    "from langchain_core.runnables import RunnableLambda\n",
    "from pydantic import BaseModel, Field ,ValidationError\n",
    "\n",
    "import re\n",
    "import requests\n",
    "from bs4 import BeautifulSoup\n",
    "from langchain.agents import tool\n",
    "from IPython.display import Image, display\n",
    "from langchain_core.runnables.graph import CurveStyle, MermaidDrawMethod, NodeStyles\n"
   ]
  },
  {
   "cell_type": "code",
   "execution_count": 2,
   "id": "baead0eb-ed8c-4edf-91dd-3377410dfffb",
   "metadata": {},
   "outputs": [],
   "source": [
    "#https://app.tavily.com/sign-in"
   ]
  },
  {
   "cell_type": "code",
   "execution_count": 3,
   "id": "86ba5a93-d1fa-4ce1-824d-b44ff27a6303",
   "metadata": {},
   "outputs": [],
   "source": [
    "bedrock_client = boto3.client(\n",
    "    service_name='bedrock-runtime',\n",
    "    region_name='us-east-1'  # replace with your region\n",
    ")\n",
    "llm = ChatBedrockConverse(\n",
    "    model_id=\"anthropic.claude-3-sonnet-20240229-v1:0\",\n",
    "    client=bedrock_client,\n",
    "    temperature=0.7,\n",
    "    max_tokens=2000\n",
    ")"
   ]
  },
  {
   "cell_type": "code",
   "execution_count": 4,
   "id": "a8d9b6c5-fd2d-4b57-9398-02bc45600452",
   "metadata": {},
   "outputs": [],
   "source": [
    "def visualize(graph):\n",
    "    display(\n",
    "    Image(\n",
    "        graph.get_graph().draw_mermaid_png(\n",
    "            draw_method=MermaidDrawMethod.API,\n",
    "        )\n",
    "    )\n",
    "    )"
   ]
  },
  {
   "cell_type": "code",
   "execution_count": 5,
   "id": "0d58a5b9-4d98-4c4d-81ac-4ac6c829d2f6",
   "metadata": {},
   "outputs": [],
   "source": [
    "from langchain_core.messages import AIMessage, HumanMessage\n",
    "from typing import Annotated, TypedDict\n",
    "from langgraph.graph import StateGraph, START, END\n",
    "from langgraph.graph.message import add_messages"
   ]
  },
  {
   "cell_type": "code",
   "execution_count": null,
   "id": "500353d7-4b77-48b4-a96e-fa54e20a4d68",
   "metadata": {},
   "outputs": [],
   "source": []
  },
  {
   "cell_type": "code",
   "execution_count": null,
   "id": "491d9071-cad2-4883-9b78-9802415fff12",
   "metadata": {},
   "outputs": [],
   "source": []
  },
  {
   "cell_type": "code",
   "execution_count": null,
   "id": "1af70601-2b5a-4f39-96ba-3164a5f44118",
   "metadata": {},
   "outputs": [],
   "source": []
  },
  {
   "cell_type": "code",
   "execution_count": null,
   "id": "383ff998-0968-424d-84be-0605705b9883",
   "metadata": {},
   "outputs": [],
   "source": []
  },
  {
   "cell_type": "code",
   "execution_count": null,
   "id": "868322a3-7e25-4de4-a008-3562781e945d",
   "metadata": {},
   "outputs": [],
   "source": []
  },
  {
   "cell_type": "code",
   "execution_count": null,
   "id": "1275183b-117c-4f42-b232-68a36f80655f",
   "metadata": {},
   "outputs": [],
   "source": []
  },
  {
   "cell_type": "code",
   "execution_count": null,
   "id": "ab576b52-9ce9-4fe1-835d-6b146d2b5a95",
   "metadata": {},
   "outputs": [],
   "source": []
  },
  {
   "cell_type": "code",
   "execution_count": 6,
   "id": "2166f4df-c263-42f0-9e20-a0abe4be0899",
   "metadata": {},
   "outputs": [],
   "source": [
    "#langraph의 핵심(state)\n",
    "class State(TypedDict):\n",
    "    # 메시지 정의(list type 이며 add_messages 함수를 사용하여 메시지를 추가)\n",
    "    messages: Annotated[list, add_messages]"
   ]
  },
  {
   "cell_type": "code",
   "execution_count": 15,
   "id": "32ccc864-cd42-4cd0-9bec-bed137affcdd",
   "metadata": {},
   "outputs": [],
   "source": [
    "def chatbot(state: State) -> State:\n",
    "    # print(\"check_point_1 -> \", state[\"messages\"])\n",
    "\n",
    "    messages = state[\"messages\"]\n",
    "    \n",
    "    # Convert to format LLM expects if needed\n",
    "    formatted_messages = []\n",
    "    for msg in messages:\n",
    "        if isinstance(msg, tuple):\n",
    "            role, content = msg\n",
    "            if role == \"user\":\n",
    "                formatted_messages.append(HumanMessage(content=content))\n",
    "            else:\n",
    "                formatted_messages.append(AIMessage(content=content))\n",
    "        else:\n",
    "            formatted_messages.append(msg)\n",
    "    \n",
    "    response = llm.invoke(formatted_messages)\n",
    "    \n",
    "    # Return in tuple format\n",
    "    return {\"messages\": [(\"assistant\", response.content)]}\n",
    "\n"
   ]
  },
  {
   "cell_type": "code",
   "execution_count": 16,
   "id": "3130a144-6591-47a0-96de-5ac65abf4755",
   "metadata": {},
   "outputs": [],
   "source": [
    "def chatbottwo(state: State) -> State:\n",
    "    # print(\"check_point_2 -> \", state[\"messages\"])\n",
    "    \n",
    "    # Get the last assistant message which should contain the top 10 list\n",
    "    last_message = None\n",
    "    for message in state[\"messages\"]:\n",
    "        # Check if it's a LangChain message object\n",
    "        if hasattr(message, 'content') and hasattr(message, '__class__') and message.__class__.__name__ == 'AIMessage':\n",
    "            last_message = message.content\n",
    "        # Check if it's a tuple with role and content\n",
    "        elif isinstance(message, tuple) and len(message) == 2 and message[0] == \"assistant\":\n",
    "            last_message = message[1]\n",
    "    \n",
    "    if not last_message:\n",
    "        return {\"messages\": [(\"assistant\", \"I don't have any recommendations to filter.\")]}\n",
    "    \n",
    "    # Create a prompt to select top 3\n",
    "    prompt_select_three = ChatPromptTemplate.from_template(\"\"\"\n",
    "    {information}\n",
    "    \n",
    "    이 정보를 바탕으로 10개의 리스트 중 가장 유명한 세개만 알려주세요\n",
    "    \"\"\")\n",
    "    \n",
    "    # Create a chain\n",
    "    chaintest = prompt_select_three | llm | StrOutputParser()\n",
    "    \n",
    "    # Get the top 3 recommendations\n",
    "    top_three = chaintest.invoke({\"information\": last_message})\n",
    "    \n",
    "    # Return as a message - use the same format as your input\n",
    "    # If you're using tuples when invoking the graph:\n",
    "    return {\"messages\": [(\"assistant\", top_three)]}"
   ]
  },
  {
   "cell_type": "code",
   "execution_count": 17,
   "id": "de01c4d4-fe3b-404e-9aaf-2b7d21e7f58c",
   "metadata": {},
   "outputs": [
    {
     "data": {
      "text/plain": [
       "<langgraph.graph.state.StateGraph at 0x7f9c7c14c470>"
      ]
     },
     "execution_count": 17,
     "metadata": {},
     "output_type": "execute_result"
    }
   ],
   "source": [
    "graph_builder = StateGraph(State)\n",
    "\n",
    "#node 등록\n",
    "graph_builder.add_node(\"chatbot\", chatbot)\n",
    "graph_builder.add_node(\"chatbottwo\", chatbottwo)\n"
   ]
  },
  {
   "cell_type": "code",
   "execution_count": 18,
   "id": "c5389989-62d2-41dc-b09e-eda0904c3f2f",
   "metadata": {},
   "outputs": [
    {
     "data": {
      "text/plain": [
       "<langgraph.graph.state.StateGraph at 0x7f9c7c14c470>"
      ]
     },
     "execution_count": 18,
     "metadata": {},
     "output_type": "execute_result"
    }
   ],
   "source": [
    "#node에서 어느 node로 갈지 등록 ( 예시 START -> chatbot -> chatbottwo -> end )\n",
    "graph_builder.add_edge(START, \"chatbot\")\n",
    "graph_builder.add_edge(\"chatbot\", \"chatbottwo\")\n",
    "graph_builder.add_edge(\"chatbottwo\", END)\n"
   ]
  },
  {
   "cell_type": "code",
   "execution_count": 19,
   "id": "709f8b49-d4ce-4509-aecf-56235aafb4b0",
   "metadata": {},
   "outputs": [
    {
     "data": {
      "image/png": "[encoded data removed]",
      "text/plain": [
       "<IPython.core.display.Image object>"
      ]
     },
     "metadata": {},
     "output_type": "display_data"
    }
   ],
   "source": [
    "graph = graph_builder.compile()\n",
    "\n",
    "visualize(graph)"
   ]
  },
  {
   "cell_type": "code",
   "execution_count": 20,
   "id": "022357ac-e2cf-4bd9-83cb-39dcfd3324d9",
   "metadata": {},
   "outputs": [],
   "source": [
    "\n",
    "question = \"서울의 유명한 맛집 TOP 10 추천해줘\"\n",
    "\n",
    "response=graph.invoke({\"messages\": [(\"user\", question)]})\n"
   ]
  },
  {
   "cell_type": "code",
   "execution_count": 21,
   "id": "23608e3f-ca0c-4a4d-8899-c5c2340c32ad",
   "metadata": {},
   "outputs": [
    {
     "data": {
      "text/plain": [
       "{'messages': [HumanMessage(content='서울의 유명한 맛집 TOP 10 추천해줘', additional_kwargs={}, response_metadata={}, id='44ed6d33-85d5-4e3c-8b3f-2e9c3bae1602'),\n",
       "  AIMessage(content='서울에는 정말 다양한 맛집들이 많습니다. 지역과 음식 종류를 고려해서 몇 가지 추천해드리겠습니다.\\n\\n1. 빈대떡 - 서래마을 옆 전통시장에 있는 유명한 핫플레이스. 빈대떡과 호떡이 맛있습니다.\\n\\n2. 한남동 교자바우 - 한남동에 위치한 맛있는 교자 전문점입니다. 직접 손으로 빚은 교자가 일품.\\n\\n3. 종로육고기 - 종로에 있는 60년 전통의 소고기 전문점. 육회비빔밥이 가장 유명합니다. \\n\\n4. 노량진 수산시장 - 활어회 전문점들이 많은 곳으로, 싱싱한 회를 맛볼 수 있습니다.\\n\\n5. 압구정 치치 - 이탈리아 출신 셰프의 정통 나폴리 피자를 맛볼 수 있습니다.\\n\\n6. 통인시장 순대골목 - 전통 있는 순대골목에서 싸고 맛있는 순대를 즐길 수 있죠.\\n\\n7. 낙산공원 호호식당 - 낙산공원 인근에 위치한 오래된 한식당으로 전복죽이 유명합니다.\\n\\n8. 을지로 맷돼지 - 을지로의 대표 맷돼지 전문점으로 직화구이 맛이 일품입니다.\\n\\n9. 동교동 존스토너 - 동교동에 위치한 미국 셰프의 정통 바베큐 전문점입니다.  \\n\\n10. 홍대입구 망치갈비 - 홍대 근처에서 젊은 사람들에게 인기 있는 갈비전문점입니다.\\n\\n다양한 분야의 맛집들을 추천해드렸는데 관심 있는 곳이 있다면 더 자세히 알려드릴게요.', additional_kwargs={}, response_metadata={}, id='af03db91-248f-4d10-a509-88b8bb54d901'),\n",
       "  AIMessage(content='제가 추천한 10개의 맛집 중에서 가장 유명한 세 곳은 다음과 같습니다:\\n\\n1. 빈대떡 - 서래마을 옆 전통시장에 있는 유명한 핫플레이스로, 빈대떡과 호떡이 매우 유명합니다.\\n\\n2. 종로육고기 - 종로에 있는 60년 전통의 소고기 전문점으로, 육회비빔밥이 가장 유명한 메뉴입니다.\\n\\n3. 노량진 수산시장 - 활어회 전문점들이 많은 곳으로, 싱싱한 회를 맛볼 수 있어 유명합니다.\\n\\n이 세 곳은 서울에서 오랜 전통과 명성을 자랑하는 대표적인 맛집들입니다. 빈대떡, 육회비빔밥, 활어회 등 각자의 대표 메뉴로 유명세를 떨치고 있죠.', additional_kwargs={}, response_metadata={}, id='8a4e10e9-ace1-4c29-b00b-946495073d41')]}"
      ]
     },
     "execution_count": 21,
     "metadata": {},
     "output_type": "execute_result"
    }
   ],
   "source": [
    "response"
   ]
  },
  {
   "cell_type": "code",
   "execution_count": 22,
   "id": "d6ecc2ed-a5db-40e0-bcf4-47c52ef2ad80",
   "metadata": {},
   "outputs": [
    {
     "name": "stdout",
     "output_type": "stream",
     "text": [
      "Node: chatbot\n",
      "--------------------------------------------------\n",
      "assistant: 서울은 역사와 문화가 살아 숨쉬는 매력적인 도시입니다. 서울의 대표 관광명소 TOP 10을 소개해 드리겠습니다.\n",
      "\n",
      "1. 경복궁 - 조선시대 왕궁으로 아름다운 궁궐 건축물과 정원을 감상할 수 있습니다.\n",
      "\n",
      "2. 남산 서울타워 - 서울의 상징적인 곳으로 전망대에서 서울 시내 전경을 한눈에 볼 수 있습니다. \n",
      "\n",
      "3. 인사동 - 전통 문화가 살아있는 거리로 갤러리, 공방, 전통 체험 등을 즐길 수 있습니다.\n",
      "\n",
      "4. 북촌한옥마을 - 고궁 근처에 자리한 한옥마을로 전통 가옥과 골목길 산책이 매력적입니다.\n",
      "\n",
      "5. 동대문디자인플라자(DDP) - 현대적인 건축물로 전시, 공연 등 다양한 문화행사가 열립니다.\n",
      "\n",
      "6. 청계천 - 서울 도심을 가로지르는 하천으로 산책로와 야경이 아름답습니다.\n",
      "\n",
      "7. 국립중앙박물관 - 한국의 역사와 문화를 한눈에 살펴볼 수 있는 대표 박물관입니다.  \n",
      "\n",
      "8. 남산공원 - 도심 속 자연 공원으로 산책로와 전망대가 인기 있습니다.\n",
      "\n",
      "9. 이태원 - 다양한 외국 문화를 체험할 수 있는 거리로 각국 음식과 상점이 있습니다.\n",
      "\n",
      "10. 홍대앞 거리 - 젊음의 거리로 클럽, 공연장, 상점 등 다양한 즐길 거리가 있습니다.\n",
      "\n",
      "이렇게 역사와 전통, 현대 문화를 모두 경험할 수 있는 매력적인 관광지들이 많은 서울에서 좋은 추억 만드시기 바랍니다.\n",
      "--------------------------------------------------\n",
      "\n",
      "Node: chatbottwo\n",
      "--------------------------------------------------\n",
      "assistant: 서울의 대표 관광명소 TOP 10 중에서 가장 유명한 세 곳은 다음과 같습니다:\n",
      "\n",
      "1. 경복궁\n",
      "2. 남산 서울타워  \n",
      "3. 인사동\n",
      "\n",
      "경복궁은 조선시대 왕궁으로 아름다운 궁궐 건축물과 정원을 자랑하며, 서울을 대표하는 역사 유적지입니다.\n",
      "\n",
      "남산 서울타워는 서울의 상징적인 곳으로, 전망대에서 서울 시내 전경을 내려다볼 수 있어 많은 관광객들이 찾습니다.\n",
      "\n",
      "인사동은 전통 문화가 살아 숨쉬는 거리로, 갤러리, 공방, 전통 체험 등을 즐길 수 있어 인기 관광지입니다.\n",
      "\n",
      "이 세 곳은 서울의 역사와 전통, 현대적인 모습을 대표하는 명소로 손꼽히며, 외국 관광객들에게도 가장 많이 알려져 있습니다.\n",
      "--------------------------------------------------\n",
      "\n"
     ]
    }
   ],
   "source": [
    "question = \"서울의 유명한 관광명소 TOP 10 추천해줘\"\n",
    "\n",
    "# Stream the graph execution using tuples\n",
    "for event in graph.stream({\"messages\": [(\"user\", question)]}):\n",
    "    # Get the node name and state\n",
    "    node_name = list(event.keys())[0]\n",
    "    state = list(event.values())[0]\n",
    "    \n",
    "    print(f\"Node: {node_name}\")\n",
    "    print(\"-\" * 50)\n",
    "    \n",
    "    # Display the last message from this node\n",
    "    if state[\"messages\"] and len(state[\"messages\"]) > 0:\n",
    "        last_message = state[\"messages\"][-1]\n",
    "        \n",
    "        # Handle different message formats\n",
    "        if hasattr(last_message, 'content'):\n",
    "            # It's a LangChain message object\n",
    "            role = last_message.__class__.__name__.replace('Message', '')\n",
    "            content = last_message.content\n",
    "        elif isinstance(last_message, tuple) and len(last_message) == 2:\n",
    "            # It's a tuple of (role, content)\n",
    "            role, content = last_message\n",
    "        else:\n",
    "            # Unknown format, just print the message\n",
    "            print(f\"Message: {last_message}\")\n",
    "            continue\n",
    "        \n",
    "        # Print the full content\n",
    "        print(f\"{role}: {content}\")\n",
    "    \n",
    "    print(\"-\" * 50)\n",
    "    print()  # Add an extra line for better readability\n"
   ]
  },
  {
   "cell_type": "code",
   "execution_count": null,
   "id": "8ce245bb-69d9-4cc2-9abb-44c2dff09ac5",
   "metadata": {},
   "outputs": [],
   "source": []
  },
  {
   "cell_type": "code",
   "execution_count": null,
   "id": "4a74e6c9-4026-49de-a6d7-ba5349ff2129",
   "metadata": {},
   "outputs": [],
   "source": []
  },
  {
   "cell_type": "code",
   "execution_count": null,
   "id": "b46ac67e-56af-4479-b9e7-da689a070787",
   "metadata": {},
   "outputs": [],
   "source": []
  }
 ],
 "metadata": {
  "kernelspec": {
   "display_name": "Python 3 (ipykernel)",
   "language": "python",
   "name": "python3"
  },
  "language_info": {
   "codemirror_mode": {
    "name": "ipython",
    "version": 3
   },
   "file_extension": ".py",
   "mimetype": "text/x-python",
   "name": "python",
   "nbconvert_exporter": "python",
   "pygments_lexer": "ipython3",
   "version": "3.12.9"
  }
 },
 "nbformat": 4,
 "nbformat_minor": 5
}
