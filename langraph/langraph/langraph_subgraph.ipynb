{
 "cells": [
  {
   "cell_type": "code",
   "execution_count": 3,
   "id": "ed5bbcaa-b455-4020-81d1-00d0b203f440",
   "metadata": {},
   "outputs": [],
   "source": [
    "# Standard library imports\n",
    "import os\n",
    "import json\n",
    "import sys\n",
    "import re\n",
    "import concurrent.futures\n",
    "from typing import List, Dict, Any, Tuple, TypedDict, Annotated, Optional\n",
    "\n",
    "# Third-party imports\n",
    "import boto3\n",
    "import fitz\n",
    "import requests\n",
    "from bs4 import BeautifulSoup\n",
    "from opensearchpy import OpenSearch, RequestsHttpConnection\n",
    "from pydantic import BaseModel, Field, ValidationError\n",
    "from IPython.display import Image\n",
    "\n",
    "# LangChain core imports\n",
    "from langchain_core.documents import Document\n",
    "from langchain_core.messages import HumanMessage, AIMessage, ToolMessage, SystemMessage\n",
    "from langchain_core.output_parsers import StrOutputParser\n",
    "from langchain_core.prompts import ChatPromptTemplate, PromptTemplate\n",
    "from langchain_core.runnables import RunnableParallel, RunnablePassthrough, RunnableLambda\n",
    "from langchain_core.runnables.graph import CurveStyle, MermaidDrawMethod, NodeStyles\n",
    "from langchain_core.tools import tool\n",
    "from langchain.schema import BaseRetriever, Document\n",
    "\n",
    "# LangGraph imports\n",
    "from langgraph.graph import StateGraph, add_messages, START, END\n",
    "from langgraph.prebuilt import ToolNode, tools_condition\n",
    "\n",
    "# LangChain AWS imports\n",
    "from langchain_aws import ChatBedrockConverse, BedrockEmbeddings\n",
    "\n",
    "# LangChain experimental imports\n",
    "from langchain_experimental.tools.python.tool import PythonAstREPLTool\n",
    "\n",
    "# LangChain community imports\n",
    "from langchain_community.tools.tavily_search import TavilySearchResults\n",
    "\n",
    "# Operator imports\n",
    "from operator import itemgetter\n"
   ]
  },
  {
   "cell_type": "code",
   "execution_count": 4,
   "id": "ce97c483-5c0c-41f4-be8f-e3155dde091c",
   "metadata": {},
   "outputs": [],
   "source": [
    "def visualize(graph):\n",
    "    display(\n",
    "    Image(\n",
    "        graph.get_graph().draw_mermaid_png(\n",
    "            draw_method=MermaidDrawMethod.API,\n",
    "        )\n",
    "    )\n",
    "    )"
   ]
  },
  {
   "cell_type": "code",
   "execution_count": 5,
   "id": "74e46cdf-e2dd-48c7-8a16-92da4ecdce3a",
   "metadata": {},
   "outputs": [],
   "source": [
    "bedrock_client = boto3.client(\n",
    "    service_name='bedrock-runtime',\n",
    "    region_name='us-east-1'  # replace with your region\n",
    ")\n",
    "llm = ChatBedrockConverse(\n",
    "    model_id=\"anthropic.claude-3-sonnet-20240229-v1:0\",\n",
    "    client=bedrock_client,\n",
    "    temperature=0.7,\n",
    "    max_tokens=2000\n",
    ")"
   ]
  },
  {
   "cell_type": "code",
   "execution_count": 6,
   "id": "daccada4-da06-4bc9-bc15-2e22fff01751",
   "metadata": {},
   "outputs": [],
   "source": [
    "class ChildState(TypedDict):\n",
    "    name: str  # 부모 그래프와 공유되는 상태 키\n",
    "    family_name: str\n",
    "\n",
    "\n",
    "# 서브그래프의 첫 번째 노드, family_name 키에 초기값 설정\n",
    "def subgraph_node_1(state: ChildState):\n",
    "    return {\"family_name\": \"Lee\"}\n",
    "\n",
    "\n",
    "# 서브그래프의 두 번째 노드, 서브그래프 전용 family_name 키와 공유 name 키를 결합하여 새로운 상태 생성\n",
    "def subgraph_node_2(state: ChildState):\n",
    "    # 서브그래프 내부에서만 사용 가능한 family_name 키와 공유 상태 키 name를 사용하여 업데이트 수행\n",
    "    return {\"name\": f'{state[\"name\"]} {state[\"family_name\"]}'}\n",
    "\n",
    "subgraph_builder = StateGraph(ChildState)\n",
    "subgraph_builder.add_node(subgraph_node_1)\n",
    "subgraph_builder.add_node(subgraph_node_2)\n",
    "subgraph_builder.add_edge(START, \"subgraph_node_1\")\n",
    "subgraph_builder.add_edge(\"subgraph_node_1\", \"subgraph_node_2\")\n",
    "subgraph = subgraph_builder.compile()\n"
   ]
  },
  {
   "cell_type": "code",
   "execution_count": 7,
   "id": "56d22c89-e01e-4f33-a9f3-1bdad653cde5",
   "metadata": {},
   "outputs": [
    {
     "data": {
      "image/png": "[encoded data removed]",
      "text/plain": [
       "<IPython.core.display.Image object>"
      ]
     },
     "metadata": {},
     "output_type": "display_data"
    }
   ],
   "source": [
    "visualize(subgraph)"
   ]
  },
  {
   "cell_type": "code",
   "execution_count": 8,
   "id": "268c3f4f-a5d8-499a-8df2-1acb89384009",
   "metadata": {},
   "outputs": [],
   "source": [
    "class ParentState(TypedDict):\n",
    "    name: str\n",
    "    company: str\n",
    "\n",
    "\n",
    "# 부모 그래프의 첫 번째 노드, name 키의 값을 수정하여 새로운 상태 생성\n",
    "def node_1(state: ParentState):\n",
    "    return {\"name\": f'My name is {state[\"name\"]}'}\n",
    "\n",
    "\n",
    "# 부모 그래프 구조 정의 및 서브그래프를 포함한 노드 간 연결 관계 설정\n",
    "builder = StateGraph(ParentState)\n",
    "builder.add_node(\"node_1\", node_1)\n",
    "# 컴파일된 서브그래프를 부모 그래프의 노드로 추가\n",
    "builder.add_node(\"node_2\", subgraph)\n",
    "builder.add_edge(START, \"node_1\")\n",
    "builder.add_edge(\"node_1\", \"node_2\")\n",
    "builder.add_edge(\"node_2\", END)\n",
    "graph = builder.compile()"
   ]
  },
  {
   "cell_type": "code",
   "execution_count": 10,
   "id": "c1f029cb-2245-428d-b182-7558d6d0686d",
   "metadata": {},
   "outputs": [
    {
     "data": {
      "image/png": "[encoded data removed]",
      "text/plain": [
       "<IPython.core.display.Image object>"
      ]
     },
     "metadata": {},
     "output_type": "display_data"
    }
   ],
   "source": [
    "visualize(graph)"
   ]
  },
  {
   "cell_type": "code",
   "execution_count": 11,
   "id": "f7e0ff24-e9de-4527-abcb-850707614b11",
   "metadata": {},
   "outputs": [
    {
     "name": "stdout",
     "output_type": "stream",
     "text": [
      "{'node_1': {'name': 'My name is Teddy'}}\n",
      "{'node_2': {'name': 'My name is Teddy Lee'}}\n"
     ]
    }
   ],
   "source": [
    "for chunk in graph.stream({\"name\": \"Teddy\"}):\n",
    "    print(chunk)\n"
   ]
  },
  {
   "cell_type": "code",
   "execution_count": 12,
   "id": "cdf54a9d-8cb5-4bcd-b59f-a32b279950b0",
   "metadata": {},
   "outputs": [
    {
     "name": "stdout",
     "output_type": "stream",
     "text": [
      "((), {'node_1': {'name': 'My name is Teddy'}})\n",
      "(('node_2:af21abbb-3fc4-139c-e7fd-eecefebf8137',), {'subgraph_node_1': {'family_name': 'Lee'}})\n",
      "(('node_2:af21abbb-3fc4-139c-e7fd-eecefebf8137',), {'subgraph_node_2': {'name': 'My name is Teddy Lee'}})\n",
      "((), {'node_2': {'name': 'My name is Teddy Lee'}})\n"
     ]
    }
   ],
   "source": [
    "for chunk in graph.stream({\"name\": \"Teddy\"}, subgraphs=True):\n",
    "    print(chunk)\n"
   ]
  },
  {
   "cell_type": "code",
   "execution_count": null,
   "id": "2f4b59be-efe9-4c1b-90d1-7180fb65092c",
   "metadata": {},
   "outputs": [],
   "source": []
  },
  {
   "cell_type": "code",
   "execution_count": 13,
   "id": "d8dd7da4-9a87-4656-86ed-8cf622a99602",
   "metadata": {},
   "outputs": [],
   "source": [
    "# 서브그래프의 상태 타입 정의 (부모 그래프와 키를 공유하지 않음)\n",
    "class ChildState(TypedDict):\n",
    "    # 부모 그래프와 공유되지 않는 키들\n",
    "    name: str\n",
    "\n",
    "\n",
    "# 서브그래프의 첫 번째 노드: name 키에 초기값 설정\n",
    "def subgraph_node_1(state: ChildState):\n",
    "    return {\"name\": \"Teddy \" + state[\"name\"]}\n",
    "\n",
    "\n",
    "# 서브그래프의 두 번째 노드: name 값 그대로 반환\n",
    "def subgraph_node_2(state: ChildState):\n",
    "    return {\"name\": f'My name is {state[\"name\"]}'}\n",
    "\n",
    "\n",
    "# 서브그래프 빌더 초기화 및 노드 연결 구성\n",
    "subgraph_builder = StateGraph(ChildState)\n",
    "subgraph_builder.add_node(subgraph_node_1)\n",
    "subgraph_builder.add_node(subgraph_node_2)\n",
    "subgraph_builder.add_edge(START, \"subgraph_node_1\")\n",
    "subgraph_builder.add_edge(\"subgraph_node_1\", \"subgraph_node_2\")\n",
    "subgraph = subgraph_builder.compile()\n",
    "\n",
    "\n",
    "# 부모 그래프의 상태 타입 정의\n",
    "class ParentState(TypedDict):\n",
    "    family_name: str\n",
    "    full_name: str\n",
    "\n",
    "\n",
    "# 부모 그래프의 첫 번째 노드: family_name 값 그대로 반환\n",
    "def node_1(state: ParentState):\n",
    "    return {\"family_name\": state[\"family_name\"]}\n",
    "\n",
    "\n",
    "# 부모 그래프의 두 번째 노드: 서브그래프와 상태 변환 및 결과 처리\n",
    "def node_2(state: ParentState):\n",
    "    # 부모 상태를 서브그래프 상태로 변환\n",
    "    response = subgraph.invoke({\"name\": state[\"family_name\"]})\n",
    "    # 서브그래프 응답을 부모 상태로 변환\n",
    "    return {\"full_name\": response[\"name\"]}\n",
    "\n",
    "\n",
    "# 부모 그래프 빌더 초기화 및 노드 연결 구성\n",
    "builder = StateGraph(ParentState)\n",
    "builder.add_node(\"node_1\", node_1)\n",
    "\n",
    "# 컴파일된 서브그래프 대신 서브그래프를 호출하는 node_2 함수 사용\n",
    "builder.add_node(\"node_2\", node_2)\n",
    "builder.add_edge(START, \"node_1\")\n",
    "builder.add_edge(\"node_1\", \"node_2\")\n",
    "builder.add_edge(\"node_2\", END)\n",
    "graph = builder.compile()\n"
   ]
  },
  {
   "cell_type": "code",
   "execution_count": 14,
   "id": "9d36a3e5-2f34-4415-a8bf-748db732d70b",
   "metadata": {},
   "outputs": [
    {
     "data": {
      "image/png": "[encoded data removed]",
      "text/plain": [
       "<IPython.core.display.Image object>"
      ]
     },
     "metadata": {},
     "output_type": "display_data"
    }
   ],
   "source": [
    "visualize(graph)"
   ]
  },
  {
   "cell_type": "code",
   "execution_count": 15,
   "id": "77195ada-1c03-4312-a7ab-039f380bb45c",
   "metadata": {},
   "outputs": [
    {
     "name": "stdout",
     "output_type": "stream",
     "text": [
      "((), {'node_1': {'family_name': 'Lee'}})\n",
      "(('node_2:3ea1f695-7d45-2a2f-cf2f-13f945de3a6d',), {'subgraph_node_1': {'name': 'Teddy Lee'}})\n",
      "(('node_2:3ea1f695-7d45-2a2f-cf2f-13f945de3a6d',), {'subgraph_node_2': {'name': 'My name is Teddy Lee'}})\n",
      "((), {'node_2': {'full_name': 'My name is Teddy Lee'}})\n"
     ]
    }
   ],
   "source": [
    "for chunk in graph.stream({\"family_name\": \"Lee\"}, subgraphs=True):\n",
    "    print(chunk)"
   ]
  },
  {
   "cell_type": "code",
   "execution_count": null,
   "id": "deec0076-cef2-4ba6-9ce7-aee3890a0e36",
   "metadata": {},
   "outputs": [],
   "source": []
  }
 ],
 "metadata": {
  "kernelspec": {
   "display_name": "Python 3 (ipykernel)",
   "language": "python",
   "name": "python3"
  },
  "language_info": {
   "codemirror_mode": {
    "name": "ipython",
    "version": 3
   },
   "file_extension": ".py",
   "mimetype": "text/x-python",
   "name": "python",
   "nbconvert_exporter": "python",
   "pygments_lexer": "ipython3",
   "version": "3.12.9"
  }
 },
 "nbformat": 4,
 "nbformat_minor": 5
}
