{
 "cells": [
  {
   "cell_type": "code",
   "execution_count": 1,
   "id": "f2caefb2-55f2-4316-9117-f00c2bf23947",
   "metadata": {},
   "outputs": [],
   "source": [
    "from langchain_aws import ChatBedrockConverse\n",
    "from langchain.schema import HumanMessage, SystemMessage\n",
    "import boto3\n",
    "from langchain_core.output_parsers import StrOutputParser\n",
    "from langchain_core.prompts import ChatPromptTemplate\n",
    "from opensearchpy import OpenSearch, RequestsHttpConnection\n",
    "import os\n",
    "import boto3\n",
    "import json\n",
    "import sys\n",
    "from langchain.schema import BaseRetriever, Document\n",
    "from typing import List, Optional, Dict, Tuple\n",
    "from langchain.prompts.prompt import PromptTemplate\n",
    "import uuid\n",
    "from datetime import datetime\n",
    "from botocore.exceptions import ClientError\n",
    "from operator import itemgetter\n",
    "from langchain_core.runnables import RunnableLambda\n",
    "from boto3.dynamodb.conditions import Key\n",
    "from pydantic import BaseModel, Field\n",
    "from langchain_core.output_parsers import JsonOutputParser\n",
    "from langchain_core.runnables import RunnableParallel, RunnablePassthrough"
   ]
  },
  {
   "cell_type": "code",
   "execution_count": 2,
   "id": "471e05ac-2103-4025-a9fd-65ddc5e3eb1a",
   "metadata": {},
   "outputs": [],
   "source": [
    "#DynamoDB를 cpu메모리 대신 사용"
   ]
  },
  {
   "cell_type": "code",
   "execution_count": 3,
   "id": "4c40cc43-7e52-4c0a-a2f1-401d8c1e6eab",
   "metadata": {},
   "outputs": [],
   "source": [
    "#DynamoDB에 메세지를 저장하는 함수\n",
    "def insert_chat_message(session_id, message_content, timestamp=None):\n",
    "    \"\"\"\n",
    "    Insert a chat message into the DynamoDB table with a timestamp-prefixed message_id.\n",
    "    \n",
    "    Args:\n",
    "        session_id (str): The session identifier\n",
    "        message_content (str): The content of the message\n",
    "        role (str): The role of the message sender (e.g., 'user', 'assistant')\n",
    "        timestamp (str, optional): Message timestamp. Defaults to current time if None.\n",
    "    \n",
    "    Returns:\n",
    "        dict: The response from DynamoDB\n",
    "    \"\"\"\n",
    "    # Initialize DynamoDB client\n",
    "    dynamodb = boto3.resource('dynamodb', region_name='us-east-1')\n",
    "    table = dynamodb.Table('ChatMessageHistory')\n",
    "    \n",
    "    # Use current time if timestamp not provided\n",
    "    if timestamp is None:\n",
    "        now = datetime.utcnow()\n",
    "        timestamp = now.isoformat()\n",
    "    else:\n",
    "        # If timestamp is provided as string, parse it to datetime\n",
    "        now = datetime.fromisoformat(timestamp)\n",
    "    \n",
    "    # Create a timestamp prefix for message_id in sortable format\n",
    "    # Format: YYYYMMDD-HHMMSS-microseconds-uuid\n",
    "    timestamp_prefix = now.strftime(\"%Y%m%d-%H%M%S-%f\")\n",
    "    \n",
    "    # Generate a unique message ID with timestamp prefix\n",
    "    message_id = f\"{timestamp_prefix}-{str(uuid.uuid4())[:8]}\"\n",
    "    \n",
    "    # Prepare item to insert\n",
    "    item = {\n",
    "        'session_id': session_id,\n",
    "        'message_id': message_id,\n",
    "        'content': message_content,\n",
    "        'timestamp': timestamp\n",
    "    }\n",
    "    \n",
    "    try:\n",
    "        # Insert the item into the table\n",
    "        response = table.put_item(Item=item)\n",
    "        print(f\"Message inserted successfully: {message_id}\")\n",
    "        return response\n",
    "    except ClientError as e:\n",
    "        print(f\"Error inserting message: {e.response['Error']['Message']}\")\n",
    "        raise\n"
   ]
  },
  {
   "cell_type": "code",
   "execution_count": 4,
   "id": "acf25a60-0df1-4f6f-a940-9dea690bd8a4",
   "metadata": {},
   "outputs": [],
   "source": [
    "#DynamoDB에 메세지를 지우는 함수\n",
    "def delete_all_session_messages(session_id):\n",
    "    \"\"\"\n",
    "    Delete all messages for a specific session.\n",
    "    \n",
    "    Args:\n",
    "        session_id (str): The session identifier\n",
    "    \n",
    "    Returns:\n",
    "        dict: Summary of deletion operation\n",
    "    \"\"\"\n",
    "    # Initialize DynamoDB client\n",
    "    dynamodb = boto3.resource('dynamodb', region_name='us-east-1')\n",
    "    table = dynamodb.Table('ChatMessageHistory')\n",
    "    \n",
    "    try:\n",
    "        # First, query to get all messages for the session\n",
    "        response = table.query(\n",
    "            KeyConditionExpression=Key('session_id').eq(session_id)\n",
    "        )\n",
    "        \n",
    "        items = response['Items']\n",
    "        \n",
    "        # Handle pagination if there are more results\n",
    "        while 'LastEvaluatedKey' in response:\n",
    "            response = table.query(\n",
    "                KeyConditionExpression=Key('session_id').eq(session_id),\n",
    "                ExclusiveStartKey=response['LastEvaluatedKey']\n",
    "            )\n",
    "            items.extend(response['Items'])\n",
    "        \n",
    "        # If no items found, return early\n",
    "        if not items:\n",
    "            print(f\"No messages found for session {session_id}\")\n",
    "            return {\"deleted_count\": 0}\n",
    "        \n",
    "        # Delete each item\n",
    "        deleted_count = 0\n",
    "        for item in items:\n",
    "            table.delete_item(\n",
    "                Key={\n",
    "                    'session_id': session_id,\n",
    "                    'message_id': item['message_id']\n",
    "                }\n",
    "            )\n",
    "            deleted_count += 1\n",
    "        \n",
    "        print(f\"Deleted {deleted_count} messages for session {session_id}\")\n",
    "        return {\"deleted_count\": deleted_count}\n",
    "        \n",
    "    except ClientError as e:\n",
    "        print(f\"Error deleting messages: {e.response['Error']['Message']}\")\n",
    "        raise\n"
   ]
  },
  {
   "cell_type": "code",
   "execution_count": 5,
   "id": "aa261fe9-83a3-43ce-bc8a-a1101a11487a",
   "metadata": {},
   "outputs": [],
   "source": [
    "#DynamoDB에 메세지를 가져오는 함수\n",
    "def get_chat_messages(session_id, ascending=True):\n",
    "    \"\"\"\n",
    "    Retrieve chat messages for a session, sorted by message_id.\n",
    "    \n",
    "    Args:\n",
    "        session_id (str): The session identifier\n",
    "        ascending (bool): Sort order - True for ascending (oldest first), False for descending (newest first)\n",
    "    \n",
    "    Returns:\n",
    "        list: List of message items\n",
    "    \"\"\"\n",
    "    # Initialize DynamoDB client\n",
    "    dynamodb = boto3.resource('dynamodb', region_name='us-east-1')\n",
    "    table = dynamodb.Table('ChatMessageHistory')\n",
    "    \n",
    "    messages = []\n",
    "    \n",
    "    try:\n",
    "        # Query messages for the session, sorted by message_id\n",
    "        response = table.query(\n",
    "            KeyConditionExpression=Key('session_id').eq(session_id),\n",
    "            ScanIndexForward=ascending  # True for ascending, False for descending\n",
    "        )\n",
    "        \n",
    "        # Add results to our messages list\n",
    "        messages.extend(response['Items'])\n",
    "        \n",
    "        # Handle pagination if there are more results\n",
    "        while 'LastEvaluatedKey' in response:\n",
    "            response = table.query(\n",
    "                KeyConditionExpression=Key('session_id').eq(session_id),\n",
    "                ScanIndexForward=ascending,  # Maintain the same sort order\n",
    "                ExclusiveStartKey=response['LastEvaluatedKey']\n",
    "            )\n",
    "            messages.extend(response['Items'])\n",
    "        \n",
    "        print(f\"Found {len(messages)} messages for session {session_id}\")\n",
    "        return messages\n",
    "        \n",
    "    except ClientError as e:\n",
    "        print(f\"Error retrieving messages: {e.response['Error']['Message']}\")\n",
    "        return []"
   ]
  },
  {
   "cell_type": "code",
   "execution_count": 6,
   "id": "d0ae1e47-a66f-4df9-b4f4-22f6eaaf4919",
   "metadata": {},
   "outputs": [],
   "source": [
    "bedrock_client = boto3.client(\n",
    "    service_name='bedrock-runtime',\n",
    "    region_name='us-east-1'  # replace with your region\n",
    ")\n",
    "llm = ChatBedrockConverse(\n",
    "    model_id=\"anthropic.claude-3-sonnet-20240229-v1:0\",\n",
    "    client=bedrock_client,\n",
    "    temperature=0.7,\n",
    "    max_tokens=2000\n",
    ")"
   ]
  },
  {
   "cell_type": "code",
   "execution_count": null,
   "id": "6661728a-535c-4334-88bc-c8ea1c8f226b",
   "metadata": {},
   "outputs": [],
   "source": []
  },
  {
   "cell_type": "code",
   "execution_count": 7,
   "id": "d02e9724-3e54-443c-a32f-7e160f439c2c",
   "metadata": {},
   "outputs": [
    {
     "name": "stdout",
     "output_type": "stream",
     "text": [
      "Deleted 1 messages for session bnk-1\n"
     ]
    },
    {
     "data": {
      "text/plain": [
       "{'deleted_count': 1}"
      ]
     },
     "execution_count": 7,
     "metadata": {},
     "output_type": "execute_result"
    }
   ],
   "source": [
    "delete_all_session_messages(\"bnk-1\")"
   ]
  },
  {
   "cell_type": "code",
   "execution_count": 8,
   "id": "c6026586-b2b1-490b-858d-eded75c2dfc9",
   "metadata": {},
   "outputs": [
    {
     "name": "stdout",
     "output_type": "stream",
     "text": [
      "Found 0 messages for session bnk-1\n"
     ]
    },
    {
     "data": {
      "text/plain": [
       "[]"
      ]
     },
     "execution_count": 8,
     "metadata": {},
     "output_type": "execute_result"
    }
   ],
   "source": [
    "get_chat_messages(\"bnk-1\")"
   ]
  },
  {
   "cell_type": "code",
   "execution_count": 9,
   "id": "de5a22a5-2cee-4dfe-b6fc-318bf27c84d3",
   "metadata": {},
   "outputs": [],
   "source": [
    "template_dynamo = \"\"\"The following is a friendly conversation between a human and an AI. \n",
    "The AI is talkative and provides lots of specific details from its context. \n",
    "\n",
    "Relevant Information:\n",
    "\n",
    "{chat_history}\n",
    "\n",
    "Conversation:\n",
    "Human: {question}\n",
    "AI:\"\"\"\n",
    "prompt_dynamo  = PromptTemplate(\n",
    "input_variables=[\"chat_history\", \"question\"], template=template_dynamo)\n"
   ]
  },
  {
   "cell_type": "code",
   "execution_count": 10,
   "id": "1211dc53-538e-459d-9d21-e7c40772e6a9",
   "metadata": {},
   "outputs": [],
   "source": [
    "chain_dynamo = (\n",
    "    {\n",
    "        \"seesion_id\": itemgetter(\"seesion_id\") ,\n",
    "        \"chat_history\": itemgetter(\"seesion_id\") | RunnableLambda(get_chat_messages),\n",
    "        \"question\": itemgetter(\"question\"),\n",
    "    }\n",
    "    | prompt_dynamo\n",
    "    | llm\n",
    "    | StrOutputParser()\n",
    ")"
   ]
  },
  {
   "cell_type": "code",
   "execution_count": null,
   "id": "6203f923-4ba7-4cea-a7eb-172a5f646753",
   "metadata": {},
   "outputs": [
    {
     "name": "stdout",
     "output_type": "stream",
     "text": [
      "Found 0 messages for session bnk-1\n"
     ]
    }
   ],
   "source": [
    "chain_dynamo.invoke({\"seesion_id\" : \"bnk-1\", \"question\" : \"상사병은 무엇인가요?\"})"
   ]
  },
  {
   "cell_type": "code",
   "execution_count": null,
   "id": "00aff70d-8f67-45f1-a4f1-a35563f93e01",
   "metadata": {},
   "outputs": [],
   "source": []
  },
  {
   "cell_type": "code",
   "execution_count": null,
   "id": "8f14ad1d-0f45-4170-ba88-5c0125adfb40",
   "metadata": {},
   "outputs": [],
   "source": [
    "insert_chat_message(\"bnk-1\", \"상사병은 한사람을 몹시 그리워하고 보고시퍼서 생기는 마음의 병이라고 나는생각해\")"
   ]
  },
  {
   "cell_type": "code",
   "execution_count": null,
   "id": "a8ff04a0-8fa7-4bbc-a3d2-c666f64a749c",
   "metadata": {},
   "outputs": [],
   "source": [
    "get_chat_messages(\"bnk-1\")"
   ]
  },
  {
   "cell_type": "code",
   "execution_count": null,
   "id": "9c2f624d-021c-4c55-a4a1-d85545cb57d1",
   "metadata": {},
   "outputs": [],
   "source": [
    "chain_dynamo.invoke({\"seesion_id\" : \"bnk-1\", \"question\" : \"상사병은 무엇인가요?\"})"
   ]
  },
  {
   "cell_type": "code",
   "execution_count": null,
   "id": "655e1f5c-fe01-463a-81ee-c1f39645391e",
   "metadata": {},
   "outputs": [],
   "source": []
  }
 ],
 "metadata": {
  "kernelspec": {
   "display_name": "Python 3 (ipykernel)",
   "language": "python",
   "name": "python3"
  },
  "language_info": {
   "codemirror_mode": {
    "name": "ipython",
    "version": 3
   },
   "file_extension": ".py",
   "mimetype": "text/x-python",
   "name": "python",
   "nbconvert_exporter": "python",
   "pygments_lexer": "ipython3",
   "version": "3.12.9"
  }
 },
 "nbformat": 4,
 "nbformat_minor": 5
}
