{
 "cells": [
  {
   "cell_type": "code",
   "execution_count": 3,
   "id": "41b30f8e-6597-408f-b795-e80544305f47",
   "metadata": {},
   "outputs": [],
   "source": [
    "from langchain_aws import ChatBedrockConverse\n",
    "from langchain.schema import HumanMessage, SystemMessage\n",
    "import boto3\n",
    "from langchain_core.output_parsers import StrOutputParser\n",
    "from langchain_core.prompts import ChatPromptTemplate\n",
    "from opensearchpy import OpenSearch, RequestsHttpConnection\n",
    "import os\n",
    "import boto3\n",
    "import json\n",
    "import sys\n",
    "from langchain.schema import BaseRetriever, Document\n",
    "from typing import List, Optional, Dict, Tuple"
   ]
  },
  {
   "cell_type": "code",
   "execution_count": 4,
   "id": "0c679ea2-59d3-4bdb-8848-4a5069d300d0",
   "metadata": {},
   "outputs": [],
   "source": [
    "# Basic authentication with master username and password\n",
    "opensearch_client = OpenSearch(\n",
    "    hosts = [{'host': 'opensearh_url', 'port': 443}],\n",
    "    http_auth = ('user', 'password'),  # Replace with your master credentials\n",
    "    use_ssl = True,\n",
    "    verify_certs = True,\n",
    "    connection_class = RequestsHttpConnection\n",
    ")"
   ]
  },
  {
   "cell_type": "code",
   "execution_count": 5,
   "id": "c80949fc-a777-4077-8240-ca6c8cace111",
   "metadata": {},
   "outputs": [
    {
     "name": "stdout",
     "output_type": "stream",
     "text": [
      "Connection failed: ConnectionError(HTTPSConnectionPool(host='opensearh_url', port=443): Max retries exceeded with url: / (Caused by NameResolutionError(\"<urllib3.connection.HTTPSConnection object at 0x7f29ed2b6d20>: Failed to resolve 'opensearh_url' ([Errno -2] Name or service not known)\"))) caused by: ConnectionError(HTTPSConnectionPool(host='opensearh_url', port=443): Max retries exceeded with url: / (Caused by NameResolutionError(\"<urllib3.connection.HTTPSConnection object at 0x7f29ed2b6d20>: Failed to resolve 'opensearh_url' ([Errno -2] Name or service not known)\")))\n"
     ]
    }
   ],
   "source": [
    "try:\n",
    "    response = opensearch_client.info()\n",
    "    print(\"Successfully connected to OpenSearch\")\n",
    "    print(response)\n",
    "except Exception as e:\n",
    "    print(f\"Connection failed: {e}\")"
   ]
  },
  {
   "cell_type": "code",
   "execution_count": null,
   "id": "0fac108a-eb0f-4292-b91a-3cbe9ade69e3",
   "metadata": {},
   "outputs": [],
   "source": []
  }
 ],
 "metadata": {
  "kernelspec": {
   "display_name": "Python 3 (ipykernel)",
   "language": "python",
   "name": "python3"
  },
  "language_info": {
   "codemirror_mode": {
    "name": "ipython",
    "version": 3
   },
   "file_extension": ".py",
   "mimetype": "text/x-python",
   "name": "python",
   "nbconvert_exporter": "python",
   "pygments_lexer": "ipython3",
   "version": "3.12.9"
  }
 },
 "nbformat": 4,
 "nbformat_minor": 5
}
