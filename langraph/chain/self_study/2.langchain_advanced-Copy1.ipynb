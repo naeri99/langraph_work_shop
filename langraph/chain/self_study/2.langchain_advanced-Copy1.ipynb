{
 "cells": [
  {
   "cell_type": "code",
   "execution_count": 1,
   "id": "0a72e6b7-5da6-433c-9386-f1e66b264802",
   "metadata": {},
   "outputs": [],
   "source": [
    "from langchain_aws import ChatBedrockConverse\n",
    "from langchain.schema import HumanMessage, SystemMessage\n",
    "import boto3\n",
    "from langchain_core.output_parsers import StrOutputParser\n",
    "from langchain_core.prompts import ChatPromptTemplate\n",
    "from opensearchpy import OpenSearch, RequestsHttpConnection\n",
    "import os\n",
    "import boto3\n",
    "import json\n",
    "import sys\n",
    "from langchain.schema import BaseRetriever, Document\n",
    "from typing import List, Optional, Dict, Tuple\n",
    "from langchain.prompts.prompt import PromptTemplate\n",
    "import uuid\n",
    "from datetime import datetime\n",
    "from botocore.exceptions import ClientError\n",
    "from operator import itemgetter\n",
    "from langchain_core.runnables import RunnableLambda\n",
    "from boto3.dynamodb.conditions import Key\n",
    "from pydantic import BaseModel, Field\n",
    "from langchain_core.output_parsers import JsonOutputParser\n",
    "from langchain_core.runnables import RunnableParallel, RunnablePassthrough\n"
   ]
  },
  {
   "cell_type": "code",
   "execution_count": 2,
   "id": "62f6f1a3-29b7-4f98-9e72-75695972b25e",
   "metadata": {},
   "outputs": [
    {
     "name": "stdout",
     "output_type": "stream",
     "text": [
      "langchain advanced\n"
     ]
    }
   ],
   "source": [
    "print(\"langchain advanced\")"
   ]
  },
  {
   "cell_type": "code",
   "execution_count": 3,
   "id": "6bf5f251-00c4-451c-8a50-4b9a44f53c32",
   "metadata": {},
   "outputs": [],
   "source": [
    "#bedrock client 설정\n",
    "bedrock_client = boto3.client(\n",
    "    service_name='bedrock-runtime',\n",
    "    region_name='us-east-1'  # replace with your region\n",
    ")"
   ]
  },
  {
   "cell_type": "code",
   "execution_count": 4,
   "id": "8d998ccb-3382-4464-817e-f0e3f3325115",
   "metadata": {},
   "outputs": [],
   "source": [
    "#llm\n",
    "llm = ChatBedrockConverse(\n",
    "    model_id=\"anthropic.claude-3-sonnet-20240229-v1:0\",\n",
    "    client=bedrock_client,\n",
    "    temperature=0.7,\n",
    "    max_tokens=2000\n",
    ")"
   ]
  },
  {
   "cell_type": "code",
   "execution_count": 50,
   "id": "b986993b-4f48-4c3d-8065-6c18ea54f0f7",
   "metadata": {},
   "outputs": [],
   "source": [
    "async def extract_stream(chain, input_json):\n",
    "    collected_text = []\n",
    "    async for event in chain.astream_events(input_json):\n",
    "        if event[\"event\"] == \"on_chat_model_stream\":\n",
    "            chunk = event[\"data\"][\"chunk\"]\n",
    "            if chunk.content:\n",
    "                for content_item in chunk.content:\n",
    "                    if text := content_item.get('text'):\n",
    "                        collected_text.append(text)\n",
    "                        print(text, end=\"\", flush=True)\n",
    "    return \"\".join(collected_text)\n"
   ]
  },
  {
   "cell_type": "code",
   "execution_count": 5,
   "id": "1f1d0980-a6f9-46bb-8677-8e2e37b7ea71",
   "metadata": {},
   "outputs": [],
   "source": [
    "#input { json 포맷 }  -> prompt(text로 변환) -> llm(bedrock) -> output(string타입, json타입)\n",
    "#여기서 input { json 포맷 }을 활용하는 방법에 대해 이해해보자 ( 여행에 관한 정보를 얻는 llm를 만든다고 가정한다 )"
   ]
  },
  {
   "cell_type": "code",
   "execution_count": 6,
   "id": "8b7d5bfd-2a0a-404a-be72-d9fe502f0dce",
   "metadata": {},
   "outputs": [
    {
     "data": {
      "text/plain": [
       "'태국의 수도는 방콕(Bangkok)입니다.\\n\\n방콕은 태국 중부에 위치한 대도시로, 약 800년 전부터 이 지역에 도시가 형성되기 시작했습니다. 현재 인구는 약 800만 명 정도로 태국 최대 도시입니다.\\n\\n주요 명소로는 왕궁과 사원들이 유명합니다.\\n- 왕궁(그랜드 팰리스) - 태국 왕실의 궁전\\n- 왓포(Wat Pho) - 거대한 황금 불상이 있는 사원\\n- 왓아런(Wat Arun) - 석조 사원으로 \"새벽의 사원\"이라고도 불림\\n\\n또한 활기찬 시장과 고대 운하, 현대적인 쇼핑몰 등 볼거리가 많습니다. 치앙mai 강을 중심으로 수상 시장도 유명합니다. 태국 전통 문화와 현대 문화가 공존하는 활기찬 도시입니다.'"
      ]
     },
     "execution_count": 6,
     "metadata": {},
     "output_type": "execute_result"
    }
   ],
   "source": [
    "prompt_capital = ChatPromptTemplate.from_messages([\n",
    "    (\"system\", \"You are a helpful assistant.\"),\n",
    "    (\"human\", \"{country}의 수도에 대해 알려줘\")\n",
    "])\n",
    "\n",
    "capital_chain = prompt_capital | llm |  StrOutputParser()\n",
    "\n",
    "\n",
    "capital_chain.invoke({\"country\" : \"태국\"})"
   ]
  },
  {
   "cell_type": "code",
   "execution_count": 7,
   "id": "0fa09181-e295-46c0-b935-4f1d8c7a978f",
   "metadata": {},
   "outputs": [
    {
     "data": {
      "text/plain": [
       "'태국은 아름다운 문화유산과 다양한 전통을 가지고 있는 나라입니다. 태국 문화의 주요 특징 몇 가지를 소개해드리겠습니다.\\n\\n1. 불교 문화\\n태국은 불교 국가로, 태국인의 95% 이상이 불교를 믿고 있습니다. 태국 문화 전반에 불교 사상과 가치관이 스며들어 있습니다.\\n\\n2. 왕실 문화\\n태국에는 오랜 역사를 가진 왕실이 있으며, 국민들은 왕실을 존경하고 있습니다. 왕실 의식과 행사는 태국 문화의 중요한 부분입니다.\\n\\n3. 전통 공예\\n태국에는 독특한 전통 공예품들이 있습니다. 실크 직조, 목각, 은세공, 도자기 등 수준 높은 공예 기술이 발달해 있습니다.\\n\\n4. 전통 무용\\n태국 전통 무용인 크론무용은 화려하고 우아한 동작으로 유명합니다. 왕실 의식이나 축제 때 공연됩니다.\\n\\n5. 태국 요리\\n태국 요리는 세계적으로 유명하며, 향신료를 많이 사용하고 맵고 자극적인 맛이 특징입니다. 패드타이, 톰얌꿍 등이 대표적입니다.\\n\\n이외에도 태국에는 다양한 축제, 건축물, 예술 등 풍부한 문화유산이 있습니다. 전통과 현대가 공존하는 매력적인 문화를 가지고 있습니다.'"
      ]
     },
     "execution_count": 7,
     "metadata": {},
     "output_type": "execute_result"
    }
   ],
   "source": [
    "prompt_culture = ChatPromptTemplate.from_messages([\n",
    "    (\"system\", \"You are a helpful assistant.\"),\n",
    "    (\"human\", \"{country}의 문화에 대해 알려줘\")\n",
    "])\n",
    "\n",
    "culture_chain = prompt_culture | llm |  StrOutputParser()\n",
    "\n",
    "\n",
    "culture_chain.invoke({\"country\" : \"태국\"})\n"
   ]
  },
  {
   "cell_type": "code",
   "execution_count": 8,
   "id": "6ec83e7b-8da2-47d8-b1ad-fe3711d96c60",
   "metadata": {},
   "outputs": [
    {
     "data": {
      "text/plain": [
       "'태국은 열대 몬순 기후를 가지고 있어 연중 고온다습한 날씨가 지속됩니다. 구체적인 날씨 특징은 다음과 같습니다:\\n\\n1. 기온\\n- 연평균 기온은 약 27-28°C 정도입니다.\\n- 최저 기온은 12-16°C, 최고 기온은 33-35°C 정도입니다.\\n- 4월-5월이 가장 더운 시기이고, 12월-1월이 가장 서늘한 시기입니다.\\n\\n2. 강수량\\n- 연평균 강수량은 약 1,200-1,600mm 정도입니다. \\n- 5월-10월이 우기로 많은 비가 내립니다.\\n- 11월-4월이 건기로 비교적 건조합니다.\\n\\n3. 몬순\\n- 5월-10월은 남서 몬순, 11월-2월은 북동 몬순의 영향을 받습니다.\\n- 몬순 기간에는 폭우와 열대성 저기압의 영향을 받기도 합니다.\\n\\n4. 습도\\n- 연중 높은 습도를 보이며, 특히 우기에는 80% 이상의 높은 습도가 유지됩니다.\\n\\n태국은 열대 기후의 영향으로 연중 덥고 습한 날씨가 지속되지만, 지역과 계절에 따라 다소 차이가 있습니다.'"
      ]
     },
     "execution_count": 8,
     "metadata": {},
     "output_type": "execute_result"
    }
   ],
   "source": [
    "prompt_climate = ChatPromptTemplate.from_messages([\n",
    "    (\"system\", \"You are a helpful assistant.\"),\n",
    "    (\"human\", \"{country}의 날씨에 대해 알려줘\")\n",
    "])\n",
    "\n",
    "climate_chain = prompt_climate | llm |  StrOutputParser()\n",
    "\n",
    "\n",
    "climate_chain.invoke({\"country\" : \"태국\"})"
   ]
  },
  {
   "cell_type": "code",
   "execution_count": 9,
   "id": "bb6a9dfc-845c-4d01-9044-b023a26c3ffe",
   "metadata": {},
   "outputs": [
    {
     "data": {
      "text/plain": [
       "\"태국은 아름다운 자연경관과 유서깊은 문화유적으로 유명한 관광지입니다. 주요 관광명소는 다음과 같습니다:\\n\\n1. 방콕 - 왓포 사원, 왕궁, 카오산로드 등\\n\\n2. 아유타야 - 유네스코 세계문화유산인 아유타야 유적지\\n\\n3. 치앙마이 - 도이수텝 사원, 밤부 야시장, 동굴사원 등 \\n\\n4. 푸켓 - 아름다운 해변과 열대 리조트\\n\\n5. 파타야 - 해변과 나이트라이프가 유명\\n\\n6. 코사무이 - 에메랄드 빛 바다와 아름다운 해변\\n\\n7. 피피섬 - 영화 '비치'의 촬영지로 유명한 섬\\n\\n8. 방콕 인근 amphawa 부나콘 등 운하마을\\n\\n태국에는 불교문화 유적지, 아름다운 해변과 섬, 활기찬 도시와 마을 등 다양한 관광자원이 있습니다. 현지 음식과 마사지도 태국 여행의 즐거움입니다.\""
      ]
     },
     "execution_count": 9,
     "metadata": {},
     "output_type": "execute_result"
    }
   ],
   "source": [
    "prompt_location = ChatPromptTemplate.from_messages([\n",
    "    (\"system\", \"You are a helpful assistant.\"),\n",
    "    (\"human\", \"{country}의 유명한 관광 명소에 대해 알려줘\")\n",
    "])\n",
    "\n",
    "climate_location = prompt_location | llm |  StrOutputParser()\n",
    "\n",
    "\n",
    "climate_location.invoke({\"country\" : \"태국\"})"
   ]
  },
  {
   "cell_type": "code",
   "execution_count": 10,
   "id": "1bf17255-dada-4b0c-8d98-948dfe03ab06",
   "metadata": {},
   "outputs": [],
   "source": [
    "#여행에 관한 정보를 얻는 llm를 만든다고 가정한다 위의 네가지 정보를 모두 포함하여 전체적인 형태의 여행 정보를 얻고 싶다고 가정 할때 어떻게 langchain에 활용할수 있을까?\n",
    "#결국 llm에서 결과가 나오면 string임으로 이 string을 json안에 assgin가능하다"
   ]
  },
  {
   "cell_type": "code",
   "execution_count": 11,
   "id": "4458a208-d5d2-4ebd-880c-1fdbcd70d675",
   "metadata": {},
   "outputs": [],
   "source": [
    "# input에 {\"country\": \"태국\"}이라고 두고 itemgetter(\"country\")를 통해 변수를 가져온뒤 각각 llm의 결과를 얻고 sting으로 json에 포함시킨다면? \n",
    "# llm을 통과한 결과값들이 새로운 input(json타입)을 형성할수 있지 않을까?\n",
    "new_input = {\n",
    "                \"capital\" :  itemgetter(\"country\") | capital_chain,\n",
    "                \"culture\" :  itemgetter(\"country\") | culture_chain,\n",
    "                \"climate\" :  itemgetter(\"country\") | climate_chain,\n",
    "                \"location\":  itemgetter(\"country\") | climate_chain\n",
    "            }"
   ]
  },
  {
   "cell_type": "code",
   "execution_count": 12,
   "id": "88bff6a8-7103-4a10-a973-3b4daf516538",
   "metadata": {},
   "outputs": [],
   "source": [
    "# new_input의 capital, culture, climate, location가  template_total의 capital, culture, climate, location 변수와 연결된다\n",
    "template_total = \"\"\"The following is a friendly conversation between a human and an AI. \n",
    "The AI is talkative and provides lots of specific details from its context. \n",
    "\n",
    "capitial :  {capital}\n",
    "culture :   {culture}\n",
    "climate :   {climate}\n",
    "location :  {location}\n",
    "\n",
    "이 정보를 바탕으로 여행 가기 가장 좋은 계절을 알려주세요\n",
    "\"\"\"\n",
    "prompt_total  = PromptTemplate(input_variables=[\"capital\", \"culture\", \"climate\", \"location\"],\n",
    "                                 template=template_total)"
   ]
  },
  {
   "cell_type": "code",
   "execution_count": 13,
   "id": "73a0e2c4-08da-4002-8754-b6568c458e1a",
   "metadata": {},
   "outputs": [],
   "source": [
    "travel_chain = new_input | prompt_total | llm | StrOutputParser()"
   ]
  },
  {
   "cell_type": "code",
   "execution_count": 14,
   "id": "f2aeafdb-0ca8-4dff-a07c-a3c8bb996452",
   "metadata": {},
   "outputs": [
    {
     "data": {
      "text/plain": [
       "'태국을 여행하기에 가장 좋은 시기는 건기인 11월에서 4월 사이가 될 것 같습니다. 이 시기의 장점은 다음과 같습니다:\\n\\n1. 온화한 기온\\n건기 동안 태국의 기온은 연중 가장 서늘한 편입니다. 특히 12월부터 2월 사이가 가장 선선해서 밤낮으로 지나치게 덥지 않습니다.\\n\\n2. 건조한 날씨\\n이 시기에는 북동무역풍의 영향으로 상대적으로 건조한 날씨가 유지됩니다. 우기에 비해 습도도 낮아 더위를 견디기 쉽습니다.\\n\\n3. 적은 강수량\\n우기인 5월에서 10월에 비해 강수량이 적어 관광하기에 좋습니다. 홍수 등의 자연재해 위험도 낮습니다.\\n\\n4. 축제 즐기기 좋음\\n송크란(태국 새해) 축제가 4월에 열리는데, 건기 날씨 덕분에 축제를 더욱 즐길 수 있습니다.\\n\\n다만 건기 중에서도 3~4월은 가장 더운 시기이므로 피하는 것이 좋겠습니다. 전반적으로 11월에서 2월 사이가 태국 여행에 가장 적절한 시기가 될 것 같습니다.'"
      ]
     },
     "execution_count": 14,
     "metadata": {},
     "output_type": "execute_result"
    }
   ],
   "source": [
    "travel_chain.invoke({\"country\" : \"태국\"})"
   ]
  },
  {
   "cell_type": "code",
   "execution_count": null,
   "id": "fdc43efe-88aa-4757-8c93-0806abe1be97",
   "metadata": {},
   "outputs": [],
   "source": []
  },
  {
   "cell_type": "code",
   "execution_count": 16,
   "id": "4c6b3869-116c-4ee8-9ddd-f3ca12353a72",
   "metadata": {},
   "outputs": [],
   "source": [
    "#비슷한 방법으로 RunnableParallel도 존재한다 \n",
    "parallel_chain = RunnableParallel(\n",
    "                                  capital=capital_chain, \n",
    "                                  culture=culture_chain,\n",
    "                                  climate=climate_chain, \n",
    "                                  location = climate_location\n",
    "                                 )"
   ]
  },
  {
   "cell_type": "code",
   "execution_count": 17,
   "id": "7e5bd4a8-00cf-43b9-b459-16329ccbb76f",
   "metadata": {},
   "outputs": [],
   "source": [
    "travel_chain_parallel =  parallel_chain | prompt_total | llm | StrOutputParser()"
   ]
  },
  {
   "cell_type": "code",
   "execution_count": 18,
   "id": "40909edb-50b8-41d8-886b-647dfc5b55eb",
   "metadata": {},
   "outputs": [
    {
     "data": {
      "text/plain": [
       "'태국을 여행하기에 가장 좋은 시기는 일반적으로 건기인 11월부터 4월까지입니다. 이 시기의 장점은 다음과 같습니다:\\n\\n1. 맑고 건조한 날씨\\n- 이 기간 동안 태국 전역에 걸쳐 맑은 날씨가 지속되어 여행하기에 좋습니다. \\n- 소나기 등의 비가 거의 오지 않아 야외 활동을 즐기기 적합합니다.\\n\\n2. 선선한 기온\\n- 낮 기온은 30도 전후, 밤 기온은 20도 내외로 덥지 않고 여행하기에 쾌적합니다.\\n- 4월 중순이 가장 덥지만, 다른 달에 비해 그렇게 높지는 않습니다.\\n\\n3. 축제 시기\\n- 송크란(태국 새해) 축제가 4월에 열려 태국의 문화를 체험할 수 있습니다.\\n- 11월에는 로이크라통(등불축제)이 있어 아름다운 등불 행렬을 볼 수 있습니다.\\n\\n다만, 건기에는 관광객이 몰리는 성수기라 숙박료가 비싸고 관광지가 혼잡할 수 있습니다. 그래도 전반적으로 날씨와 행사 등을 고려하면 11월부터 4월 사이가 태국 여행에 가장 적합한 시기라고 할 수 있겠습니다.'"
      ]
     },
     "execution_count": 18,
     "metadata": {},
     "output_type": "execute_result"
    }
   ],
   "source": [
    "travel_chain_parallel.invoke({\"country\" : \"태국\"})"
   ]
  },
  {
   "cell_type": "code",
   "execution_count": null,
   "id": "fed6f5c0-06d8-484c-8ec3-7281fd8ea952",
   "metadata": {},
   "outputs": [],
   "source": []
  },
  {
   "cell_type": "code",
   "execution_count": null,
   "id": "30b6d00f-9f2c-4407-8492-ed4d904a5c8e",
   "metadata": {},
   "outputs": [],
   "source": []
  },
  {
   "cell_type": "code",
   "execution_count": 19,
   "id": "556f0506-6406-41f3-8d86-0a1a4c4516ad",
   "metadata": {},
   "outputs": [],
   "source": [
    "# llm의 outpu의 경우 StrOutputParser()를 활용해서 string으로 나오지만 llm.with_structured_output(obj)을 통해 json포맷으로 받을수 있다 \n",
    "# llm의 결과가 json포맷으로 오면 이를 활용하여 다른 langchain에 활용할수 있다"
   ]
  },
  {
   "cell_type": "code",
   "execution_count": 22,
   "id": "a835e2f4-4d80-4bd8-8229-c37cf7934565",
   "metadata": {},
   "outputs": [],
   "source": [
    "template_plan = \"\"\"The following is a friendly conversation between a human and an AI. \n",
    "The AI is talkative and provides lots of specific details from its context. \n",
    "\n",
    "capitial :  {capital}\n",
    "culture :   {culture}\n",
    "climate :   {climate}\n",
    "location :  {location}\n",
    "\n",
    "이 정보를 바탕으로 여행 계획을 세워주세요\n",
    "\"\"\"\n",
    "prompt_plan  = PromptTemplate(input_variables=[\"capital\", \"culture\", \"climate\", \"location\"],\n",
    "                                 template=template_plan)"
   ]
  },
  {
   "cell_type": "code",
   "execution_count": 23,
   "id": "ad9e7854-4e89-41be-9e9e-e59e38bba52c",
   "metadata": {},
   "outputs": [],
   "source": [
    "#llm의 결과값 포맷의 schema\n",
    "class Travel(BaseModel):\n",
    "    capital: str = Field(description=\"국가의 수도에 대한 설명\")\n",
    "    culture: str = Field(description=\"국가의 문화에 대한 설명\")\n",
    "    climate : str = Field(description=\"국가 기후에 대한 설명\")\n",
    "    location : str = Field(description=\"국가 관광명소에 대한 설명\")\n",
    "    plan: str = Field(description=\"여행계획\")\n"
   ]
  },
  {
   "cell_type": "code",
   "execution_count": 28,
   "id": "b5408f26-bcaa-4a7d-bede-dc78759c7b89",
   "metadata": {},
   "outputs": [],
   "source": [
    "one_chain = (\n",
    "    {\n",
    "                \"capital\" :  itemgetter(\"country\") | capital_chain,\n",
    "                \"culture\" :  itemgetter(\"country\") | culture_chain,\n",
    "                \"climate\" :  itemgetter(\"country\") | climate_chain,\n",
    "                \"location\":  itemgetter(\"country\") | climate_chain\n",
    "    }\n",
    "    | prompt_plan\n",
    "    | llm.with_structured_output(Travel)\n",
    ")\n",
    " "
   ]
  },
  {
   "cell_type": "code",
   "execution_count": 29,
   "id": "532d1389-23b8-4d19-a983-7a2eaac317be",
   "metadata": {},
   "outputs": [
    {
     "data": {
      "text/plain": [
       "Travel(capital='방콕은 태국의 수도이자 최대 도시입니다. 차오프라야 강가에 위치한 방콕은 운하도시로도 유명하며, 왕궁과 사원 등 역사유적지와 현대 고층빌딩들이 공존하는 활기찬 대도시입니다.', culture='태국은 불교 문화가 삶에 깊이 배여있으며, 왕실 문화, 무예, 음식, 축제 등 다양한 전통문화 유산을 간직하고 있습니다. 오랜 역사와 독특한 문화가 현대와 조화를 이루고 있습니다.', climate='태국은 열대 몬순 기후로 연중 고온다습한 날씨가 지속됩니다. 건기(11월~4월)와 우기(5월~10월)로 구분되며, 우기 때는 폭우와 홍수에 주의해야 합니다. 방콕 등 중부지역은 연중 더운 날씨이지만 우기 때 홍수 피해가 있습니다.', location='태국은 동남아시아 인도차이나 반도 중앙부에 위치한 나라입니다. 북부는 산악지대, 중부는 평원지대, 남부는 열대 해안지역으로 이루어져 있습니다. 주요 강은 차오프라야 강이며, 아열대 기후와 열대 기후가 공존합니다.', plan='태국 여행을 계획한다면 11월~2월 사이의 건기가 가장 좋겠습니다. 이 시기에는 폭우 염려 없이 왕궁, 사원 등 실외 관광지를 둘러볼 수 있습니다. 또한 송크란 축제(4월 중순)나 등불축제(11월 초) 기간에 여행하면 태국의 독특한 문화를 체험할 수 있습니다. 방콕뿐 아니라 치앙마이, 푸켓 등 주요 도시와 해변 휴양지를 여행코스에 포함하면 좋습니다.')"
      ]
     },
     "execution_count": 29,
     "metadata": {},
     "output_type": "execute_result"
    }
   ],
   "source": [
    "one_chain.invoke({\"country\" : \"태국\"})"
   ]
  },
  {
   "cell_type": "code",
   "execution_count": null,
   "id": "b92a4d31-2f88-478e-8cb6-db449f1db80c",
   "metadata": {},
   "outputs": [],
   "source": []
  },
  {
   "cell_type": "code",
   "execution_count": null,
   "id": "364ee106-2b19-4d56-b7e5-572aeb458e22",
   "metadata": {},
   "outputs": [],
   "source": []
  },
  {
   "cell_type": "code",
   "execution_count": null,
   "id": "98b6dcd0-6d0b-4898-8cfa-bce9c0739508",
   "metadata": {},
   "outputs": [],
   "source": []
  },
  {
   "cell_type": "code",
   "execution_count": 44,
   "id": "ed1e2e43-31d6-4701-afed-ecf2c91ba4de",
   "metadata": {},
   "outputs": [],
   "source": [
    "#data는 llm의 결과 값을 의미합니다  RunnableLambda함수를 활용하면 data와 llm결과를 연결 시켜줄수 있습니다\n",
    "def transform_keys(data):\n",
    "    \"\"\"Transform keys from history to chat_history\"\"\"\n",
    "    return {\n",
    "        \"capital\":  data.capital,\n",
    "        \"culture\":  data.culture,  \n",
    "        \"climate\":  data.climate, \n",
    "        \"location\": data.location, \n",
    "        \"plan\":     data.plan\n",
    "    }"
   ]
  },
  {
   "cell_type": "code",
   "execution_count": 45,
   "id": "021dbb94-ee2b-4607-980e-53d5ea269bff",
   "metadata": {},
   "outputs": [],
   "source": [
    "template_detail = \"\"\"The following is a friendly conversation between a human and an AI. \n",
    "The AI is talkative and provides lots of specific details from its context. \n",
    "\n",
    "capitial :  {capital}\n",
    "culture :   {culture}\n",
    "climate :   {climate}\n",
    "location :  {location}\n",
    "plan :      {plan}\n",
    "\n",
    "plan에 담겨있는 관광지 혹은 축제에 대한 정보를 좀더 상세하게 알려두세요 \n",
    "\"\"\"\n",
    "prompt_detail  = PromptTemplate(input_variables=[\"capital\", \"culture\", \"climate\", \"location\", \"plan\"],\n",
    "                                 template=template_detail)"
   ]
  },
  {
   "cell_type": "code",
   "execution_count": 46,
   "id": "7719a6e3-d6b6-4a81-9659-d3687a1467b1",
   "metadata": {},
   "outputs": [],
   "source": [
    "# RunnableLambda(transform_keys)는 llm과 prompt_detail의 데이터를 매핑 시켜주는 역할\n",
    "chain_and_chain = (\n",
    "    {\n",
    "                \"capital\" :  itemgetter(\"country\") | capital_chain,\n",
    "                \"culture\" :  itemgetter(\"country\") | culture_chain,\n",
    "                \"climate\" :  itemgetter(\"country\") | climate_chain,\n",
    "                \"location\":  itemgetter(\"country\") | climate_chain\n",
    "    }\n",
    "    | prompt_plan\n",
    "    | llm.with_structured_output(Travel)\n",
    "    | RunnableLambda(transform_keys)\n",
    "    | prompt_detail\n",
    "    | llm\n",
    "    | StrOutputParser()\n",
    ")\n"
   ]
  },
  {
   "cell_type": "code",
   "execution_count": 54,
   "id": "f656c446-a3b6-41d3-98fe-ba90606f2cd6",
   "metadata": {},
   "outputs": [
    {
     "data": {
      "text/plain": [
       "'물론입니다. 일본 여행 시 방문할 만한 주요 관광지와 축제에 대해 더 자세히 설명드리겠습니다.\\n\\n도쿄:\\n- 긴자 거리 - 유명 쇼핑가로 전통과 현대가 공존하는 분위기\\n- 아사쿠사 신사 - 도쿄에서 가장 오래된 불교 사원으로 호즈모ン 게이트가 유명\\n- 도쿄 스카이트리 - 세계에서 가장 높은 나무 구조물인 방송탑\\n\\n교토: \\n- 기온 전통가옥 지구 - 예로부터 귀족과 상류층이 거주했던 역사 지구\\n- 금각사 - 화려한 금박으로 꾸며진 세계문화유산 사원\\n- 아라시야마 - 협곡 사이 아름다운 대나무 숲이 있는 관광명소\\n\\n나라:\\n- 동대사 - 세계 최대 규모의 청동 부처상이 있는 사원  \\n- 나라 궁전 유적 - 8세기 헤이조쿄 시대 왕궁터 유적지\\n\\n히로시마:\\n- 원폭 돔 - 세계평화기념물로 지정된 피폭 유적\\n- 미요지마 - 일몰이 아름다운 에노시마 섬과 대교로 유명\\n\\n오키나와:  \\n- 시코쿠 무토 해변 - 에메랄드빛 바다와 백사장이 유명  \\n- 슈리성 - 옛 류큐왕국의 성곽 유적지\\n\\n축제:\\n- 삿포로 눈축제 (2월) - 거대한 눈조각품을 감상하는 겨울축제\\n- 기온 축제 (7월) - 전통의상 행렬, 불꽃놀이 등 교토 대표 축제\\n- 나라 덴리 축제 (7-8월) - 일본 3대 축제 중 하나로 야간 행렬 볼거리\\n\\n이렇게 도시와 지역별 대표 관광지와 주요 축제에 대해 보다 구체적으로 설명드렸습니다. 일본 여행 계획에 도움이 되길 바랍니다.'"
      ]
     },
     "execution_count": 54,
     "metadata": {},
     "output_type": "execute_result"
    }
   ],
   "source": [
    "chain_and_chain.invoke({\"country\" : \"일본\"})"
   ]
  },
  {
   "cell_type": "code",
   "execution_count": 52,
   "id": "9ab8e379-b1a0-4bb8-86da-80c8ae370177",
   "metadata": {},
   "outputs": [],
   "source": [
    "#사용했던 모든 데이터 출력\n",
    "# result=await extract_stream(chain_and_chain, {\"country\" : \"태국\"})"
   ]
  },
  {
   "cell_type": "code",
   "execution_count": null,
   "id": "f0d1b183-4117-4104-92d5-47add7875e4a",
   "metadata": {},
   "outputs": [],
   "source": []
  },
  {
   "cell_type": "code",
   "execution_count": null,
   "id": "bca10af4-d5f8-4927-886c-1b0b60310fa8",
   "metadata": {},
   "outputs": [],
   "source": []
  },
  {
   "cell_type": "code",
   "execution_count": null,
   "id": "8a7d49c0-57a3-472f-9967-8be44cf0b33d",
   "metadata": {},
   "outputs": [],
   "source": []
  },
  {
   "cell_type": "code",
   "execution_count": null,
   "id": "447988cb-e66a-4f82-a757-f88ec4ed2f56",
   "metadata": {},
   "outputs": [],
   "source": []
  },
  {
   "cell_type": "code",
   "execution_count": null,
   "id": "67229963-27d1-469b-b2f0-4827c805bc97",
   "metadata": {},
   "outputs": [],
   "source": []
  },
  {
   "cell_type": "code",
   "execution_count": null,
   "id": "14f48490-6c23-47c7-8dba-edc8d91546eb",
   "metadata": {},
   "outputs": [],
   "source": []
  },
  {
   "cell_type": "code",
   "execution_count": null,
   "id": "910f4731-b6b1-4908-8256-50032799180e",
   "metadata": {},
   "outputs": [],
   "source": []
  },
  {
   "cell_type": "code",
   "execution_count": null,
   "id": "623fad3f-b5fd-487b-88c3-ed11a76a0360",
   "metadata": {},
   "outputs": [],
   "source": []
  },
  {
   "cell_type": "code",
   "execution_count": null,
   "id": "686a36bf-032d-4cfc-bdfb-2da6d52de831",
   "metadata": {},
   "outputs": [],
   "source": []
  },
  {
   "cell_type": "code",
   "execution_count": null,
   "id": "90fb422a-2227-4ad4-9375-a7da53fc6b34",
   "metadata": {},
   "outputs": [],
   "source": []
  },
  {
   "cell_type": "code",
   "execution_count": null,
   "id": "3ed92966-877a-4fe8-b5b2-17e3a69ef899",
   "metadata": {},
   "outputs": [],
   "source": []
  },
  {
   "cell_type": "code",
   "execution_count": null,
   "id": "ccccdbb1-3838-467e-a19e-fd292519ffa7",
   "metadata": {},
   "outputs": [],
   "source": []
  },
  {
   "cell_type": "code",
   "execution_count": null,
   "id": "cf3d19a5-5af7-4005-8c08-bda8648e4143",
   "metadata": {},
   "outputs": [],
   "source": []
  },
  {
   "cell_type": "code",
   "execution_count": 3,
   "id": "94b82cda-fe95-410b-a19b-7154267448fb",
   "metadata": {},
   "outputs": [],
   "source": [
    "def get_chat_messages(session_id, ascending=True):\n",
    "    \"\"\"\n",
    "    Retrieve chat messages for a session, sorted by message_id.\n",
    "    \n",
    "    Args:\n",
    "        session_id (str): The session identifier\n",
    "        ascending (bool): Sort order - True for ascending (oldest first), False for descending (newest first)\n",
    "    \n",
    "    Returns:\n",
    "        list: List of message items\n",
    "    \"\"\"\n",
    "    # Initialize DynamoDB client\n",
    "    dynamodb = boto3.resource('dynamodb', region_name='us-east-1')\n",
    "    table = dynamodb.Table('ChatMessageHistory')\n",
    "    \n",
    "    messages = []\n",
    "    \n",
    "    try:\n",
    "        # Query messages for the session, sorted by message_id\n",
    "        response = table.query(\n",
    "            KeyConditionExpression=Key('session_id').eq(session_id),\n",
    "            ScanIndexForward=ascending  # True for ascending, False for descending\n",
    "        )\n",
    "        \n",
    "        # Add results to our messages list\n",
    "        messages.extend(response['Items'])\n",
    "        \n",
    "        # Handle pagination if there are more results\n",
    "        while 'LastEvaluatedKey' in response:\n",
    "            response = table.query(\n",
    "                KeyConditionExpression=Key('session_id').eq(session_id),\n",
    "                ScanIndexForward=ascending,  # Maintain the same sort order\n",
    "                ExclusiveStartKey=response['LastEvaluatedKey']\n",
    "            )\n",
    "            messages.extend(response['Items'])\n",
    "        \n",
    "        print(f\"Found {len(messages)} messages for session {session_id}\")\n",
    "        return messages\n",
    "        \n",
    "    except ClientError as e:\n",
    "        print(f\"Error retrieving messages: {e.response['Error']['Message']}\")\n",
    "        return []"
   ]
  },
  {
   "cell_type": "code",
   "execution_count": 4,
   "id": "fdc8708f-787f-420e-8736-e9adfd30d05c",
   "metadata": {},
   "outputs": [],
   "source": [
    "def insert_chat_message(session_id, message_content, timestamp=None):\n",
    "    \"\"\"\n",
    "    Insert a chat message into the DynamoDB table with a timestamp-prefixed message_id.\n",
    "    \n",
    "    Args:\n",
    "        session_id (str): The session identifier\n",
    "        message_content (str): The content of the message\n",
    "        role (str): The role of the message sender (e.g., 'user', 'assistant')\n",
    "        timestamp (str, optional): Message timestamp. Defaults to current time if None.\n",
    "    \n",
    "    Returns:\n",
    "        dict: The response from DynamoDB\n",
    "    \"\"\"\n",
    "    # Initialize DynamoDB client\n",
    "    dynamodb = boto3.resource('dynamodb', region_name='us-east-1')\n",
    "    table = dynamodb.Table('ChatMessageHistory')\n",
    "    \n",
    "    # Use current time if timestamp not provided\n",
    "    if timestamp is None:\n",
    "        now = datetime.utcnow()\n",
    "        timestamp = now.isoformat()\n",
    "    else:\n",
    "        # If timestamp is provided as string, parse it to datetime\n",
    "        now = datetime.fromisoformat(timestamp)\n",
    "    \n",
    "    # Create a timestamp prefix for message_id in sortable format\n",
    "    # Format: YYYYMMDD-HHMMSS-microseconds-uuid\n",
    "    timestamp_prefix = now.strftime(\"%Y%m%d-%H%M%S-%f\")\n",
    "    \n",
    "    # Generate a unique message ID with timestamp prefix\n",
    "    message_id = f\"{timestamp_prefix}-{str(uuid.uuid4())[:8]}\"\n",
    "    \n",
    "    # Prepare item to insert\n",
    "    item = {\n",
    "        'session_id': session_id,\n",
    "        'message_id': message_id,\n",
    "        'content': message_content,\n",
    "        'timestamp': timestamp\n",
    "    }\n",
    "    \n",
    "    try:\n",
    "        # Insert the item into the table\n",
    "        response = table.put_item(Item=item)\n",
    "        print(f\"Message inserted successfully: {message_id}\")\n",
    "        return response\n",
    "    except ClientError as e:\n",
    "        print(f\"Error inserting message: {e.response['Error']['Message']}\")\n",
    "        raise\n"
   ]
  },
  {
   "cell_type": "code",
   "execution_count": 5,
   "id": "ecdffe32-c64b-4ef4-bb71-0414060287f2",
   "metadata": {},
   "outputs": [],
   "source": [
    "def delete_all_session_messages(session_id):\n",
    "    \"\"\"\n",
    "    Delete all messages for a specific session.\n",
    "    \n",
    "    Args:\n",
    "        session_id (str): The session identifier\n",
    "    \n",
    "    Returns:\n",
    "        dict: Summary of deletion operation\n",
    "    \"\"\"\n",
    "    # Initialize DynamoDB client\n",
    "    dynamodb = boto3.resource('dynamodb', region_name='us-east-1')\n",
    "    table = dynamodb.Table('ChatMessageHistory')\n",
    "    \n",
    "    try:\n",
    "        # First, query to get all messages for the session\n",
    "        response = table.query(\n",
    "            KeyConditionExpression=Key('session_id').eq(session_id)\n",
    "        )\n",
    "        \n",
    "        items = response['Items']\n",
    "        \n",
    "        # Handle pagination if there are more results\n",
    "        while 'LastEvaluatedKey' in response:\n",
    "            response = table.query(\n",
    "                KeyConditionExpression=Key('session_id').eq(session_id),\n",
    "                ExclusiveStartKey=response['LastEvaluatedKey']\n",
    "            )\n",
    "            items.extend(response['Items'])\n",
    "        \n",
    "        # If no items found, return early\n",
    "        if not items:\n",
    "            print(f\"No messages found for session {session_id}\")\n",
    "            return {\"deleted_count\": 0}\n",
    "        \n",
    "        # Delete each item\n",
    "        deleted_count = 0\n",
    "        for item in items:\n",
    "            table.delete_item(\n",
    "                Key={\n",
    "                    'session_id': session_id,\n",
    "                    'message_id': item['message_id']\n",
    "                }\n",
    "            )\n",
    "            deleted_count += 1\n",
    "        \n",
    "        print(f\"Deleted {deleted_count} messages for session {session_id}\")\n",
    "        return {\"deleted_count\": deleted_count}\n",
    "        \n",
    "    except ClientError as e:\n",
    "        print(f\"Error deleting messages: {e.response['Error']['Message']}\")\n",
    "        raise\n"
   ]
  },
  {
   "cell_type": "code",
   "execution_count": 6,
   "id": "1c2c2144-66df-407c-a622-fea56efa7c0b",
   "metadata": {},
   "outputs": [],
   "source": [
    "bedrock_client = boto3.client(\n",
    "    service_name='bedrock-runtime',\n",
    "    region_name='us-east-1'  # replace with your region\n",
    ")"
   ]
  },
  {
   "cell_type": "code",
   "execution_count": 7,
   "id": "f6287d53-ca79-419c-accc-ac1395d26f60",
   "metadata": {},
   "outputs": [],
   "source": [
    "llm = ChatBedrockConverse(\n",
    "    model_id=\"anthropic.claude-3-sonnet-20240229-v1:0\",\n",
    "    client=bedrock_client,\n",
    "    temperature=0.7,\n",
    "    max_tokens=2000\n",
    ")"
   ]
  },
  {
   "cell_type": "code",
   "execution_count": 8,
   "id": "898ad737-b21d-4731-bf89-01a8bd047d32",
   "metadata": {},
   "outputs": [],
   "source": [
    "from langchain_core.runnables import RunnableParallel, RunnablePassthrough\n"
   ]
  },
  {
   "cell_type": "code",
   "execution_count": null,
   "id": "837ac437-d1d5-4eb3-87f9-5888c94806e1",
   "metadata": {},
   "outputs": [],
   "source": [
    "\n"
   ]
  },
  {
   "cell_type": "code",
   "execution_count": null,
   "id": "75e71ab5-fa67-4418-8f57-6686e07fc382",
   "metadata": {},
   "outputs": [],
   "source": []
  },
  {
   "cell_type": "code",
   "execution_count": 49,
   "id": "59d121d8-a72e-4a22-be38-c6767d0cc33d",
   "metadata": {},
   "outputs": [
    {
     "name": "stdout",
     "output_type": "stream",
     "text": [
      "Deleted 1 messages for session sung-1\n"
     ]
    },
    {
     "data": {
      "text/plain": [
       "{'deleted_count': 1}"
      ]
     },
     "execution_count": 49,
     "metadata": {},
     "output_type": "execute_result"
    }
   ],
   "source": [
    "delete_all_session_messages(\"sung-1\")"
   ]
  },
  {
   "cell_type": "code",
   "execution_count": 50,
   "id": "8f11a093-3b26-4796-8d75-90ca3438fd59",
   "metadata": {},
   "outputs": [
    {
     "name": "stdout",
     "output_type": "stream",
     "text": [
      "Message inserted successfully: 20250504-013041-364784-a67b7176\n"
     ]
    },
    {
     "name": "stderr",
     "output_type": "stream",
     "text": [
      "/tmp/ipykernel_233194/3586613951.py:20: DeprecationWarning: datetime.datetime.utcnow() is deprecated and scheduled for removal in a future version. Use timezone-aware objects to represent datetimes in UTC: datetime.datetime.now(datetime.UTC).\n",
      "  now = datetime.utcnow()\n"
     ]
    },
    {
     "data": {
      "text/plain": [
       "{'ResponseMetadata': {'RequestId': '4KKKENFN0TR25EK9JSNDP6P9F3VV4KQNSO5AEMVJF66Q9ASUAAJG',\n",
       "  'HTTPStatusCode': 200,\n",
       "  'HTTPHeaders': {'server': 'Server',\n",
       "   'date': 'Sun, 04 May 2025 01:30:41 GMT',\n",
       "   'content-type': 'application/x-amz-json-1.0',\n",
       "   'content-length': '2',\n",
       "   'connection': 'keep-alive',\n",
       "   'x-amzn-requestid': '4KKKENFN0TR25EK9JSNDP6P9F3VV4KQNSO5AEMVJF66Q9ASUAAJG',\n",
       "   'x-amz-crc32': '2745614147'},\n",
       "  'RetryAttempts': 0}}"
      ]
     },
     "execution_count": 50,
     "metadata": {},
     "output_type": "execute_result"
    }
   ],
   "source": [
    "insert_chat_message(\"sung-1\", \"브라질은 댄스클럽으로 유명합니다\")"
   ]
  },
  {
   "cell_type": "code",
   "execution_count": 51,
   "id": "0cf877c4-2b3a-4f4f-ae37-5e76157dcb33",
   "metadata": {},
   "outputs": [
    {
     "name": "stdout",
     "output_type": "stream",
     "text": [
      "Found 1 messages for session sung-1\n"
     ]
    },
    {
     "data": {
      "text/plain": [
       "[{'content': '브라질은 댄스클럽으로 유명합니다',\n",
       "  'message_id': '20250504-013041-364784-a67b7176',\n",
       "  'session_id': 'sung-1',\n",
       "  'timestamp': '2025-05-04T01:30:41.364784'}]"
      ]
     },
     "execution_count": 51,
     "metadata": {},
     "output_type": "execute_result"
    }
   ],
   "source": [
    "get_chat_messages(\"sung-1\")"
   ]
  },
  {
   "cell_type": "code",
   "execution_count": 12,
   "id": "e64f27ab-8d52-4850-a8ed-37fa8150bfd2",
   "metadata": {},
   "outputs": [],
   "source": [
    "template_general = \"\"\"The following is a friendly conversation between a human and an AI. \n",
    "The AI is talkative and provides lots of specific details from its context. \n",
    "\n",
    "Relevant Information:\n",
    "\n",
    "{chat_history}\n",
    "\n",
    "Conversation:\n",
    "Human: {question}\n",
    "AI:\"\"\"\n",
    "prompt_general  = PromptTemplate(\n",
    "input_variables=[\"chat_history\", \"question\"], template=template_general)\n"
   ]
  },
  {
   "cell_type": "code",
   "execution_count": 13,
   "id": "bbee7dc2-4a0d-40e0-924c-10c813a976fb",
   "metadata": {},
   "outputs": [],
   "source": [
    "template_strict = \"\"\"The following is a friendly conversation between a human and an AI. \n",
    "The AI is talkative and provides lots of specific details from its context. \n",
    "If the AI does not know the answer to a question, it truthfully says it does not know. \n",
    "The AI ONLY uses information contained in the \"Relevant Information\" section and does not hallucinate.\n",
    "\n",
    "Relevant Information:\n",
    "\n",
    "{chat_history}\n",
    "\n",
    "Conversation:\n",
    "Human: {question}\n",
    "AI:\"\"\"\n",
    "prompt_strict  = PromptTemplate(\n",
    "input_variables=[\"chat_history\", \"question\"], template=template_strict)\n"
   ]
  },
  {
   "cell_type": "code",
   "execution_count": 14,
   "id": "6f3abd86-9162-4ace-9dee-6106e8d9cc11",
   "metadata": {},
   "outputs": [],
   "source": [
    "chain = (\n",
    "    {\n",
    "        \"seesion_id\": itemgetter(\"seesion_id\") ,\n",
    "        \"chat_history\": itemgetter(\"seesion_id\") | RunnableLambda(get_chat_messages),\n",
    "        \"question\": itemgetter(\"question\"),\n",
    "    }\n",
    "    | prompt_general\n",
    "    | llm\n",
    "    | StrOutputParser()\n",
    ")\n"
   ]
  },
  {
   "cell_type": "code",
   "execution_count": 15,
   "id": "b7806b8a-ab48-4843-ba7e-27d661b67204",
   "metadata": {},
   "outputs": [
    {
     "name": "stdout",
     "output_type": "stream",
     "text": [
      "Found 1 messages for session sung-1\n"
     ]
    },
    {
     "data": {
      "text/plain": [
       "'지구 온난화는 현재 지구촌이 직면한 가장 큰 환경 문제 중 하나입니다. 주된 원인은 화석연료 연소, 산업 활동, 농업, 토지 이용 변화 등에 의해 배출되는 온실가스, 특히 이산화탄소입니다. 이러한 온실가스는 대기 중에서 태양에너지를 가둬두는 역할을 하여 지구 평균 기온을 상승시킵니다.\\n\\n지구 온난화로 인해 극지방의 빙하가 녹고 해수면이 상승하며, 이상 기후 현상과 같은 기후변화가 나타나고 있습니다. 이는 생태계 교란, 물 부족, 식량 불안정 등 여러 부작용을 초래하고 있죠. \\n\\n지구 온난화를 완화하기 위해서는 화석연료 사용을 줄이고 재생에너지 활용을 늘리는 등 온실가스 배출을 줄여야 합니다. 나아가 산림 보호, 친환경 농업, 지속가능한 생활 방식 등 다각도의 노력이 필요합니다. 개인과 기업, 정부가 협력하여 지구 온난화에 대처해 나가야 할 것입니다.'"
      ]
     },
     "execution_count": 15,
     "metadata": {},
     "output_type": "execute_result"
    }
   ],
   "source": [
    "chain.invoke({\"seesion_id\" : \"sung-1\", \"question\" : \"지구온난화에 대해설명해주세요 \"})"
   ]
  },
  {
   "cell_type": "code",
   "execution_count": null,
   "id": "e2b3f8f0-ef7d-4f93-ac20-b038e07128e3",
   "metadata": {},
   "outputs": [],
   "source": []
  },
  {
   "cell_type": "code",
   "execution_count": 16,
   "id": "2e1b496b-3475-4067-8856-4363379cbbb3",
   "metadata": {},
   "outputs": [],
   "source": [
    "chain_strict = (\n",
    "    {\n",
    "        \"seesion_id\": itemgetter(\"seesion_id\") ,\n",
    "        \"chat_history\": itemgetter(\"seesion_id\") | RunnableLambda(get_chat_messages),\n",
    "        \"question\": itemgetter(\"question\"),\n",
    "    }\n",
    "    | prompt_strict\n",
    "    | llm\n",
    "    | StrOutputParser()\n",
    ")"
   ]
  },
  {
   "cell_type": "code",
   "execution_count": 17,
   "id": "6bbca5d8-bdd5-49f4-b88e-6cc8e18a1c6c",
   "metadata": {},
   "outputs": [
    {
     "name": "stdout",
     "output_type": "stream",
     "text": [
      "Found 1 messages for session sung-1\n"
     ]
    },
    {
     "data": {
      "text/plain": [
       "'상사병은 직장에서 상사로부터 받는 스트레스나 부당한 대우로 인해 발생하는 정신적, 신체적 증상을 말합니다. 주요 증상으로는 우울증, 불면증, 소화기 질환 등이 있습니다. 상사의 갑질이나 부적절한 행동, 과도한 업무량 등이 원인이 될 수 있습니다. 상사병은 직장 내 인간관계와 근무환경 개선을 통해 예방하고 관리할 수 있습니다.'"
      ]
     },
     "execution_count": 17,
     "metadata": {},
     "output_type": "execute_result"
    }
   ],
   "source": [
    "chain_strict.invoke({\"seesion_id\" : \"sung-1\", \"question\" : \"상사병은 무엇인가요?\"})"
   ]
  },
  {
   "cell_type": "code",
   "execution_count": null,
   "id": "275df8ef-0c7d-4e9a-9e23-36664d504bf2",
   "metadata": {},
   "outputs": [],
   "source": []
  },
  {
   "cell_type": "code",
   "execution_count": null,
   "id": "f0883194-2f8f-4fa5-8eea-cd9d2df7b41e",
   "metadata": {},
   "outputs": [],
   "source": []
  },
  {
   "cell_type": "code",
   "execution_count": null,
   "id": "20b77f67-d5a3-4300-af69-8d60f369adeb",
   "metadata": {},
   "outputs": [],
   "source": []
  },
  {
   "cell_type": "code",
   "execution_count": null,
   "id": "9d6902d2-b823-4d52-b874-af07deb65867",
   "metadata": {},
   "outputs": [],
   "source": []
  },
  {
   "cell_type": "code",
   "execution_count": null,
   "id": "7e505612-d2f5-4f9d-b988-fac93162b9ea",
   "metadata": {},
   "outputs": [],
   "source": []
  },
  {
   "cell_type": "code",
   "execution_count": null,
   "id": "d107963c-3e0c-4a0a-9cfc-e80dc44f09dc",
   "metadata": {},
   "outputs": [],
   "source": []
  },
  {
   "cell_type": "code",
   "execution_count": null,
   "id": "164b6d80-15fb-40ab-86d2-544ae8c51ab5",
   "metadata": {},
   "outputs": [],
   "source": []
  },
  {
   "cell_type": "code",
   "execution_count": null,
   "id": "00b53876-5d4a-4924-a35f-b4a48dff4fb0",
   "metadata": {},
   "outputs": [],
   "source": []
  }
 ],
 "metadata": {
  "kernelspec": {
   "display_name": "Python 3 (ipykernel)",
   "language": "python",
   "name": "python3"
  },
  "language_info": {
   "codemirror_mode": {
    "name": "ipython",
    "version": 3
   },
   "file_extension": ".py",
   "mimetype": "text/x-python",
   "name": "python",
   "nbconvert_exporter": "python",
   "pygments_lexer": "ipython3",
   "version": "3.12.9"
  }
 },
 "nbformat": 4,
 "nbformat_minor": 5
}
