{
 "cells": [
  {
   "cell_type": "code",
   "execution_count": 1,
   "id": "a84a28da-4c65-436c-babe-adebf88c577f",
   "metadata": {},
   "outputs": [],
   "source": [
    "from langchain_aws import ChatBedrockConverse\n",
    "from langchain.schema import HumanMessage, SystemMessage\n",
    "import boto3\n",
    "from langchain_core.output_parsers import StrOutputParser\n",
    "from langchain_core.prompts import ChatPromptTemplate\n",
    "from opensearchpy import OpenSearch, RequestsHttpConnection\n",
    "import os\n",
    "import boto3\n",
    "import json\n",
    "import sys\n",
    "from langchain.schema import BaseRetriever, Document\n",
    "from typing import List, Optional, Dict, Tuple\n",
    "from langchain_core.documents import Document\n",
    "import fitz\n",
    "import concurrent.futures\n",
    "from langchain_aws import BedrockEmbeddings\n",
    "from langchain_core.runnables import RunnableParallel, RunnablePassthrough\n",
    "from langchain_core.prompts import ChatPromptTemplate\n",
    "from langchain.prompts.prompt import PromptTemplate\n",
    "from operator import itemgetter\n",
    "from langchain_core.runnables import RunnableLambda\n",
    "from pydantic import BaseModel, Field\n",
    "\n",
    "import re\n",
    "import requests\n",
    "from bs4 import BeautifulSoup\n",
    "from langchain.agents import tool\n",
    "\n"
   ]
  },
  {
   "cell_type": "code",
   "execution_count": 2,
   "id": "8de571f3-25c5-4c5c-b246-4668b4ad146c",
   "metadata": {},
   "outputs": [],
   "source": [
    "@tool\n",
    "def get_word_length(word: str) -> int:\n",
    "    \"\"\"Returns the length of a word.\"\"\"\n",
    "    return len(word)\n",
    "\n",
    "\n",
    "@tool\n",
    "def add_function(a: float, b: float) -> float:\n",
    "    \"\"\"Adds two numbers together.\"\"\"\n",
    "    return a + b\n",
    "    \n",
    "@tool\n",
    "def naver_news_crawl(news_url: str) -> str:\n",
    "    \"\"\"Crawls a 네이버 (naver.com) news article and returns the body content.\"\"\"\n",
    "    # HTTP GET 요청 보내기\n",
    "    response = requests.get(news_url)\n",
    "\n",
    "    # 요청이 성공했는지 확인\n",
    "    if response.status_code == 200:\n",
    "        # BeautifulSoup을 사용하여 HTML 파싱\n",
    "        soup = BeautifulSoup(response.text, \"html.parser\")\n",
    "\n",
    "        # 원하는 정보 추출\n",
    "        title = soup.find(\"h2\", id=\"title_area\").get_text()\n",
    "        content = soup.find(\"div\", id=\"contents\").get_text()\n",
    "        cleaned_title = re.sub(r\"\\n{2,}\", \"\\n\", title)\n",
    "        cleaned_content = re.sub(r\"\\n{2,}\", \"\\n\", content)\n",
    "    else:\n",
    "        print(f\"HTTP 요청 실패. 응답 코드: {response.status_code}\")\n",
    "\n",
    "    return f\"{cleaned_title}\\n{cleaned_content}\"\n",
    "\n",
    "\n",
    "tools = [get_word_length, add_function, naver_news_crawl]\n"
   ]
  },
  {
   "cell_type": "code",
   "execution_count": 3,
   "id": "e7f5934e-8fb3-4a8a-ae7b-9a4aac299726",
   "metadata": {},
   "outputs": [],
   "source": [
    "def execute_tool_calls(tool_call_results):\n",
    "    \"\"\"\n",
    "    도구 호출 결과를 실행하는 함수\n",
    "\n",
    "    :param tool_call_results: 도구 호출 결과 리스트\n",
    "    :param tools: 사용 가능한 도구 리스트\n",
    "    \"\"\"\n",
    "    # 도구 호출 결과 리스트를 순회합니다.\n",
    "    for tool_call_result in tool_call_results:\n",
    "        # 도구의 이름과 인자를 추출합니다.\n",
    "        tool_name = tool_call_result[\"type\"]  # 도구의 이름(함수명)\n",
    "        tool_args = tool_call_result[\"args\"]  # 도구에 전달되는 인자\n",
    "\n",
    "        # 도구 이름과 일치하는 도구를 찾아 실행합니다.\n",
    "        # next() 함수를 사용하여 일치하는 첫 번째 도구를 찾습니다.\n",
    "        matching_tool = next((tool for tool in tools if tool.name == tool_name), None)\n",
    "\n",
    "        if matching_tool:\n",
    "            # 일치하는 도구를 찾았다면 해당 도구를 실행합니다.\n",
    "            result = matching_tool.invoke(tool_args)\n",
    "            # 실행 결과를 출력합니다.\n",
    "            print(f\"[실행도구] {tool_name} [Argument] {tool_args}\\n[실행결과] {result}\")\n",
    "        else:\n",
    "            # 일치하는 도구를 찾지 못했다면 경고 메시지를 출력합니다.\n",
    "            print(f\"경고: {tool_name}에 해당하는 도구를 찾을 수 없습니다.\")"
   ]
  },
  {
   "cell_type": "code",
   "execution_count": 4,
   "id": "71424980-273d-4b33-b7d9-b7d086035512",
   "metadata": {},
   "outputs": [
    {
     "data": {
      "text/plain": [
       "[StructuredTool(name='get_word_length', description='Returns the length of a word.', args_schema=<class 'langchain_core.utils.pydantic.get_word_length'>, func=<function get_word_length at 0x7f499610e2a0>),\n",
       " StructuredTool(name='add_function', description='Adds two numbers together.', args_schema=<class 'langchain_core.utils.pydantic.add_function'>, func=<function add_function at 0x7f499610e200>),\n",
       " StructuredTool(name='naver_news_crawl', description='Crawls a 네이버 (naver.com) news article and returns the body content.', args_schema=<class 'langchain_core.utils.pydantic.naver_news_crawl'>, func=<function naver_news_crawl at 0x7f499610e340>)]"
      ]
     },
     "execution_count": 4,
     "metadata": {},
     "output_type": "execute_result"
    }
   ],
   "source": [
    "tools"
   ]
  },
  {
   "cell_type": "code",
   "execution_count": null,
   "id": "7f2ae700-6270-4f99-9cc6-36deb749c5a3",
   "metadata": {},
   "outputs": [],
   "source": []
  },
  {
   "cell_type": "code",
   "execution_count": 5,
   "id": "68e76fb9-6117-4152-b292-be45dd842a08",
   "metadata": {},
   "outputs": [],
   "source": [
    "bedrock_client = boto3.client(\n",
    "    service_name='bedrock-runtime',\n",
    "    region_name='us-east-1'  # replace with your region\n",
    ")\n",
    "chat = ChatBedrockConverse(\n",
    "    model_id=\"anthropic.claude-3-sonnet-20240229-v1:0\",\n",
    "    client=bedrock_client,\n",
    "    temperature=0.7,\n",
    "    max_tokens=2000\n",
    ")"
   ]
  },
  {
   "cell_type": "code",
   "execution_count": 6,
   "id": "f82a5c53-0c3f-4ce2-a5f9-154ffee32b91",
   "metadata": {},
   "outputs": [],
   "source": [
    "#tool과 연동\n",
    "llm_with_tools = chat.bind_tools(tools)\n"
   ]
  },
  {
   "cell_type": "code",
   "execution_count": 8,
   "id": "e5d6b30f-f561-4c37-a2ac-0942b1f05826",
   "metadata": {},
   "outputs": [
    {
     "data": {
      "text/plain": [
       "[{'name': 'get_word_length',\n",
       "  'args': {'word': 'AnyBank'},\n",
       "  'id': 'tooluse_eGkKhN9KSvC2hr-wl8oSnQ',\n",
       "  'type': 'tool_call'}]"
      ]
     },
     "execution_count": 8,
     "metadata": {},
     "output_type": "execute_result"
    }
   ],
   "source": [
    "#어떤 툴을 사용해야 하지는 llm이 json형태로 알려줌\n",
    "llm_with_tools.invoke(\"What is the length of the word 'AnyBank'?\").tool_calls\n"
   ]
  },
  {
   "cell_type": "code",
   "execution_count": null,
   "id": "e06d2d23-e4fc-4ee5-942a-146865d16dad",
   "metadata": {},
   "outputs": [],
   "source": []
  },
  {
   "cell_type": "code",
   "execution_count": null,
   "id": "9e9aa091-bbc7-4b42-8014-47516a82eb14",
   "metadata": {},
   "outputs": [],
   "source": []
  },
  {
   "cell_type": "code",
   "execution_count": null,
   "id": "a14de14a-755a-4dcd-84d4-c7367228d95d",
   "metadata": {},
   "outputs": [],
   "source": []
  },
  {
   "cell_type": "code",
   "execution_count": 17,
   "id": "b8b27da3-6cba-42b0-b359-b7d3237bbb4b",
   "metadata": {},
   "outputs": [
    {
     "data": {
      "text/plain": [
       "[StructuredTool(name='get_word_length', description='Returns the length of a word.', args_schema=<class 'langchain_core.utils.pydantic.get_word_length'>, func=<function get_word_length at 0x7f499610e2a0>),\n",
       " StructuredTool(name='add_function', description='Adds two numbers together.', args_schema=<class 'langchain_core.utils.pydantic.add_function'>, func=<function add_function at 0x7f499610e200>),\n",
       " StructuredTool(name='naver_news_crawl', description='Crawls a 네이버 (naver.com) news article and returns the body content.', args_schema=<class 'langchain_core.utils.pydantic.naver_news_crawl'>, func=<function naver_news_crawl at 0x7f499610e340>)]"
      ]
     },
     "execution_count": 17,
     "metadata": {},
     "output_type": "execute_result"
    }
   ],
   "source": [
    "tools"
   ]
  },
  {
   "cell_type": "code",
   "execution_count": 18,
   "id": "c83ee8a6-0f37-4950-9cf4-11088f5f5699",
   "metadata": {},
   "outputs": [],
   "source": [
    "from langchain_core.output_parsers.openai_tools import JsonOutputToolsParser\n"
   ]
  },
  {
   "cell_type": "code",
   "execution_count": 19,
   "id": "babbaac0-cc7f-4304-a8ba-75e772f91e45",
   "metadata": {},
   "outputs": [],
   "source": [
    "chain = llm_with_tools | JsonOutputToolsParser(tools=tools)\n",
    "\n",
    "# 실행 결과\n",
    "tool_call_results = chain.invoke(\"What is the length of the word 'AnyBank'?\")\n"
   ]
  },
  {
   "cell_type": "code",
   "execution_count": 20,
   "id": "9607637f-3fbd-4467-bf16-232e4c53798c",
   "metadata": {},
   "outputs": [
    {
     "data": {
      "text/plain": [
       "[{'args': {'word': 'AnyBank'}, 'type': 'get_word_length'}]"
      ]
     },
     "execution_count": 20,
     "metadata": {},
     "output_type": "execute_result"
    }
   ],
   "source": [
    "tool_call_results"
   ]
  },
  {
   "cell_type": "code",
   "execution_count": 21,
   "id": "6ce2dddc-59a9-43e7-baba-d349a4d5640d",
   "metadata": {},
   "outputs": [
    {
     "name": "stdout",
     "output_type": "stream",
     "text": [
      "[{'args': {'word': 'AnyBank'}, 'type': 'get_word_length'}]\n",
      "\n",
      "==========\n",
      "\n",
      "get_word_length\n",
      "{'word': 'AnyBank'}\n"
     ]
    }
   ],
   "source": [
    "print(tool_call_results, end=\"\\n\\n==========\\n\\n\")\n",
    "# 첫 번째 도구 호출 결과\n",
    "single_result = tool_call_results[0]\n",
    "# 도구 이름\n",
    "print(single_result[\"type\"])\n",
    "# 도구 인자\n",
    "print(single_result[\"args\"])"
   ]
  },
  {
   "cell_type": "code",
   "execution_count": 22,
   "id": "28b17ccb-78ca-446a-935f-82666c9e582a",
   "metadata": {},
   "outputs": [
    {
     "name": "stdout",
     "output_type": "stream",
     "text": [
      "[실행도구] get_word_length [Argument] {'word': 'AnyBank'}\n",
      "[실행결과] 7\n"
     ]
    }
   ],
   "source": [
    "execute_tool_calls(tool_call_results)\n"
   ]
  },
  {
   "cell_type": "code",
   "execution_count": null,
   "id": "27cdab04-5e5a-4def-9142-8a9ea267f289",
   "metadata": {},
   "outputs": [],
   "source": []
  },
  {
   "cell_type": "code",
   "execution_count": 26,
   "id": "d5fb895c-b9a3-4d20-9ecc-677bbf5aba1d",
   "metadata": {},
   "outputs": [],
   "source": [
    "\n",
    "from langchain_core.output_parsers.openai_tools import JsonOutputToolsParser\n",
    "\n",
    "# bind_tools + Parser + Execution\n",
    "chain = llm_with_tools | JsonOutputToolsParser(tools=tools) | execute_tool_calls"
   ]
  },
  {
   "cell_type": "code",
   "execution_count": 27,
   "id": "54506fff-c3c2-4e90-aaaa-a4652b1ecdf2",
   "metadata": {},
   "outputs": [
    {
     "name": "stdout",
     "output_type": "stream",
     "text": [
      "[실행도구] get_word_length [Argument] {'word': 'AnyBank'}\n",
      "[실행결과] 7\n"
     ]
    }
   ],
   "source": [
    "chain.invoke(\"What is the length of the word 'AnyBank'?\")\n"
   ]
  },
  {
   "cell_type": "code",
   "execution_count": 28,
   "id": "d23dc35d-55a0-421d-86f4-57b989495f28",
   "metadata": {},
   "outputs": [
    {
     "name": "stdout",
     "output_type": "stream",
     "text": [
      "[실행도구] add_function [Argument] {'a': 114.5, 'b': 121.2}\n",
      "[실행결과] 235.7\n"
     ]
    }
   ],
   "source": [
    "chain.invoke(\"114.5 + 121.2\")"
   ]
  },
  {
   "cell_type": "code",
   "execution_count": 29,
   "id": "8bee1bd5-f69d-483d-a87f-86bfb772ff6f",
   "metadata": {},
   "outputs": [
    {
     "name": "stdout",
     "output_type": "stream",
     "text": [
      "[실행도구] naver_news_crawl [Argument] {'news_url': 'https://n.news.naver.com/mnews/hotissue/article/092/0002347672?type=series&cid=2000065'}\n",
      "[실행결과] [미장브리핑] 9월 미국 CPI 주목…3분기 S&P500 실적 발표\n",
      "\n",
      "\t\t\t▲10일(현지시간) 미국 9월 소비자물가지수(CPI) 발표 예정. 고용 지표가 양호하게 나온 가운데 물가 지표 주목. 9월 미국 비농업고용 25만4천명 증가해 시장 예상치 14만명 크게 상회. 이는 6개월 래 최대 규모로 지난 12개월 평균값 20만3천명 증가한 것보다도 높은 수치. 9월 실업률은 4.1%로 2개월 연속 하락했으며, 평균 시간당 임금은 전년 동월 대비 4% 증가해 5월 이후 최고 수준.▲시장에서 9월 헤드라인 CPI는 8월 전년 동월 대비 2.6% 로 5개월 연속 둔화하고 9월에는 2.3% 증가로 추가 하락 예상. 전월 대비도 8월 0.2% 둔화 예상. 근원 CPI는 지난 8월 3.2%와 비슷한 수준 관측.▲11일에는 미국 9월 제조업물가지수(PPI) 발표. 지난 6월 부터 8월까지 반등 추세 꺾여. 8월은 1.7% 증가.\n",
      "(사진=이미지투데이)▲11월 미국 연방준비제도(연준) 공개시장위원회(FOMC) 에서 0.50%p 인하 기대가 크케 후퇴한 가운데, 9일에는 FOMC 의사록 공개. 지난 9월 회의에서 빅컷(0.50%p) 단행한 배경과 인플레이션 전망에 대한 논의를 알 수 있을 것으로 보여.▲미국 스탠다드앤푸어스(S&P) 500 기업의 3분기 실적 발표 시작. 평균 이익증가율 추정치는 전년 동기 대비 4.6%로 5개분기 연속 플러스이나 증가폭은 둔화 예상. 11일부터 JP모건체이스, 웰스파고 등 대형은행들의 실적 발표.▲FTSE 러셀은 8일 정례 시장분류 결과를 발표. 한국은 2022년 관찰대상국 지정 이후 금번 시장접근성 등급(L1) 상향으로 세계국채지수(WGBI) 에 편입될 지 관심. 주식의 경우 지난 2009년부터 선진국 지수에 편입돼 있는 한국 증시에 대해 공매도 제한 등을 이유로 관찰 대상국으로 지정할지 관심. 지정되더라도 검토 기간이 있어 즉각 제외되지는 않음.\n",
      "손희연 기자(kunst@zdnet.co.kr)\n",
      "기자 프로필\n",
      "지디넷코리아\n",
      "지디넷코리아\n",
      "손희연 기자\n",
      "손희연 기자\n",
      "구독\n",
      "구독중\n",
      "구독자 0\n",
      "응원수\n",
      "0\n",
      "디지털이 접목되는 금융·식음료업계를 취재합니다 \n",
      "SKT 유심 정보유출 불안하다면…\"4천여 금융사 대출 한번에 차단\"\n",
      "5월 연휴에 금융거래 중단됩니다\n",
      "지디넷코리아의 구독 많은 기자를 구독해보세요!\n",
      "닫기\n",
      "Copyright ⓒ ZDNet Korea. All rights reserved. 무단 전재 및 재배포 금지.\n",
      " \n",
      "이 기사는 언론사에서 IT 섹션으로 분류했습니다.\n",
      "기사 섹션 분류 안내\n",
      "기사의 섹션 정보는 해당 언론사의 분류를 따르고 있습니다. 언론사는 개별 기사를 2개 이상 섹션으로 중복 분류할 수 있습니다.\n",
      "닫기\n",
      "구독\n",
      "메인에서 바로 보는 언론사 편집 뉴스 지금 바로 구독해보세요!\n",
      "구독중\n",
      "메인에서 바로 보는 언론사 편집 뉴스 지금 바로 확인해보세요!\n",
      "지디넷코리아 '홈페이지'\n",
      "QR 코드를 클릭하면 크게 볼 수 있어요.\n",
      "QR을 촬영해보세요.\n",
      "지디넷코리아 '홈페이지'\n",
      "닫기\n",
      "네이버 채널 구독하기\n",
      "지디넷코리아\n",
      "지디넷코리아\n",
      "\t\t\t주요뉴스해당 언론사에서 선정하며 언론사 페이지(아웃링크)로 이동해 볼 수 있습니다.\n",
      "KB금융, 광주 1인 여성 자영업자에 월 100만원 지원\n",
      "아파트만? 이제 빌라 주담대도 갈아타자\n",
      "카카오뱅크, 6일 새벽 금융거래 일시 중단\n",
      "우리은행 올해만 세 번째 금융사고…\"허위서류로 55억 대출\"\n",
      "이 기사를 추천합니다\n",
      "기사 추천은 24시간 내 50회까지 참여할 수 있습니다.\n",
      "닫기\n",
      "쏠쏠정보\n",
      "0\n",
      "흥미진진\n",
      "0\n",
      "공감백배\n",
      "0\n",
      "분석탁월\n",
      "0\n",
      "후속강추\n",
      "0\n",
      " \n",
      "모두에게 보여주고 싶은 기사라면?beta\n",
      "이 기사를 추천합니다 버튼을 눌러주세요.  집계 기간 동안 추천을 많이 받은 기사는 네이버 자동 기사배열 영역에 추천 요소로 활용됩니다.\n",
      "레이어 닫기\n",
      " \n",
      "지디넷코리아 언론사가 직접 선정한 이슈\n",
      "\t\t\t\n",
      "이슈\n",
      "트럼프 2.0시대\n",
      "트럼프 \"외국영화 100% 관세...미국 안보 위협\"\n",
      "이슈\n",
      "AI 핫트렌드\n",
      "美·中선 추론이 대세인데…전 세계 세 번째 LLM 개발국 韓 현 주소는?\n",
      "이슈\n",
      "반도체 전쟁\n",
      "빅테크, AI 인프라에 공격적 투자…삼성·SK도 서버용 메모리 집중\n",
      "이슈\n",
      "고려아연 경영권 분쟁\n",
      "검찰, NH투자증권 직원 압수수색…고려아연 경영권 분쟁 관련\n",
      "이전\n",
      "다음\n",
      "지디넷코리아 언론사홈 바로가기\n",
      " \n",
      "기자 구독 후 기사보기\n",
      "구독 없이 계속 보기\n",
      "\n"
     ]
    }
   ],
   "source": [
    "chain.invoke(\n",
    "    \"뉴스 기사 내용을 크롤링해줘: https://n.news.naver.com/mnews/hotissue/article/092/0002347672?type=series&cid=2000065\"\n",
    ")\n"
   ]
  },
  {
   "cell_type": "code",
   "execution_count": null,
   "id": "b5971a5e-8e4e-431d-ab84-c7c9cf6a5043",
   "metadata": {},
   "outputs": [],
   "source": []
  },
  {
   "cell_type": "code",
   "execution_count": null,
   "id": "1ab2b012-0ac1-4e5a-9639-a82dde46e72a",
   "metadata": {},
   "outputs": [],
   "source": []
  },
  {
   "cell_type": "code",
   "execution_count": 34,
   "id": "43e99c6c-802b-49bd-a366-694ea904fccd",
   "metadata": {},
   "outputs": [],
   "source": [
    "#AgentExecutor 및 create_tool_calling_agent 사용\n",
    "from langchain_core.prompts import ChatPromptTemplate, MessagesPlaceholder\n",
    "\n",
    "# Agent 프롬프트 생성\n",
    "prompt = ChatPromptTemplate.from_messages(\n",
    "    [\n",
    "        (\n",
    "            \"system\",\n",
    "            \"You are very powerful assistant, but don't know current events\",\n",
    "        ),\n",
    "        (\"user\", \"{input}\"),\n",
    "        MessagesPlaceholder(variable_name=\"agent_scratchpad\"),\n",
    "    ]\n",
    ")"
   ]
  },
  {
   "cell_type": "code",
   "execution_count": 35,
   "id": "d913a248-05ec-4e32-8167-2c55cb189d47",
   "metadata": {},
   "outputs": [],
   "source": [
    "from langchain.agents import create_tool_calling_agent\n",
    "from langchain.agents import AgentExecutor"
   ]
  },
  {
   "cell_type": "code",
   "execution_count": 36,
   "id": "4b225724-3117-4e12-b921-28b0c56ac5ea",
   "metadata": {},
   "outputs": [],
   "source": [
    "tools = [get_word_length, add_function, naver_news_crawl]\n"
   ]
  },
  {
   "cell_type": "code",
   "execution_count": 37,
   "id": "e29a4a05-67cf-4f52-b0e3-7829812584a3",
   "metadata": {},
   "outputs": [],
   "source": [
    "agent = create_tool_calling_agent(chat, tools, prompt)\n"
   ]
  },
  {
   "cell_type": "code",
   "execution_count": 38,
   "id": "9e5eff47-1f38-43c7-8a10-344be630c399",
   "metadata": {},
   "outputs": [],
   "source": [
    "agent_executor = AgentExecutor(\n",
    "    agent=agent,\n",
    "    tools=tools,\n",
    "    verbose=True,\n",
    "    handle_parsing_errors=True,\n",
    ")\n"
   ]
  },
  {
   "cell_type": "code",
   "execution_count": 39,
   "id": "665c5c21-a20d-41d5-b7f4-0f5095285bef",
   "metadata": {},
   "outputs": [
    {
     "name": "stdout",
     "output_type": "stream",
     "text": [
      "\n",
      "\n",
      "\u001b[1m> Entering new AgentExecutor chain...\u001b[0m\n",
      "\u001b[32;1m\u001b[1;3m\n",
      "Invoking: `get_word_length` with `{'word': 'AnyBank'}`\n",
      "responded: [{'type': 'text', 'text': 'To get the length of the word \"AnyBank\", we can use the `get_word_length` tool:', 'index': 0}, {'type': 'tool_use', 'name': 'get_word_length', 'id': 'tooluse_4COGpsckREuxz3LrvQ7oug', 'index': 1, 'input': '{\"word\": \"AnyBank\"}'}]\n",
      "\n",
      "\u001b[32;1m\u001b[1;3m[{'type': 'text', 'text': '\\n\\nThe word \"AnyBank\" has 7 letters.', 'index': 0}]\u001b[0m\n",
      "\n",
      "\u001b[1m> Finished chain.\u001b[0m\n"
     ]
    },
    {
     "data": {
      "text/plain": [
       "{'input': 'How many letters in the word `AnyBank`?',\n",
       " 'output': [{'type': 'text',\n",
       "   'text': '\\n\\nThe word \"AnyBank\" has 7 letters.',\n",
       "   'index': 0}]}"
      ]
     },
     "execution_count": 39,
     "metadata": {},
     "output_type": "execute_result"
    }
   ],
   "source": [
    "agent_executor.invoke({\"input\": \"How many letters in the word `AnyBank`?\"})"
   ]
  },
  {
   "cell_type": "code",
   "execution_count": 41,
   "id": "dfe5cd69-2ce5-456a-bd62-1335937e34a1",
   "metadata": {},
   "outputs": [
    {
     "name": "stdout",
     "output_type": "stream",
     "text": [
      "\n",
      "\n",
      "\u001b[1m> Entering new AgentExecutor chain...\u001b[0m\n",
      "\u001b[32;1m\u001b[1;3m\n",
      "Invoking: `naver_news_crawl` with `{'news_url': 'https://n.news.naver.com/mnews/hotissue/article/092/0002347672?type=series&cid=2000065'}`\n",
      "responded: [{'type': 'tool_use', 'name': 'naver_news_crawl', 'id': 'tooluse_izAuIZqiTtSgUUDDiSXfrg', 'index': 0, 'input': '{\"news_url\": \"https://n.news.naver.com/mnews/hotissue/article/092/0002347672?type=series&cid=2000065\"}'}]\n",
      "\n",
      "\u001b[38;5;200m\u001b[1;3m[미장브리핑] 9월 미국 CPI 주목…3분기 S&P500 실적 발표\n",
      "\n",
      "\t\t\t▲10일(현지시간) 미국 9월 소비자물가지수(CPI) 발표 예정. 고용 지표가 양호하게 나온 가운데 물가 지표 주목. 9월 미국 비농업고용 25만4천명 증가해 시장 예상치 14만명 크게 상회. 이는 6개월 래 최대 규모로 지난 12개월 평균값 20만3천명 증가한 것보다도 높은 수치. 9월 실업률은 4.1%로 2개월 연속 하락했으며, 평균 시간당 임금은 전년 동월 대비 4% 증가해 5월 이후 최고 수준.▲시장에서 9월 헤드라인 CPI는 8월 전년 동월 대비 2.6% 로 5개월 연속 둔화하고 9월에는 2.3% 증가로 추가 하락 예상. 전월 대비도 8월 0.2% 둔화 예상. 근원 CPI는 지난 8월 3.2%와 비슷한 수준 관측.▲11일에는 미국 9월 제조업물가지수(PPI) 발표. 지난 6월 부터 8월까지 반등 추세 꺾여. 8월은 1.7% 증가.\n",
      "(사진=이미지투데이)▲11월 미국 연방준비제도(연준) 공개시장위원회(FOMC) 에서 0.50%p 인하 기대가 크케 후퇴한 가운데, 9일에는 FOMC 의사록 공개. 지난 9월 회의에서 빅컷(0.50%p) 단행한 배경과 인플레이션 전망에 대한 논의를 알 수 있을 것으로 보여.▲미국 스탠다드앤푸어스(S&P) 500 기업의 3분기 실적 발표 시작. 평균 이익증가율 추정치는 전년 동기 대비 4.6%로 5개분기 연속 플러스이나 증가폭은 둔화 예상. 11일부터 JP모건체이스, 웰스파고 등 대형은행들의 실적 발표.▲FTSE 러셀은 8일 정례 시장분류 결과를 발표. 한국은 2022년 관찰대상국 지정 이후 금번 시장접근성 등급(L1) 상향으로 세계국채지수(WGBI) 에 편입될 지 관심. 주식의 경우 지난 2009년부터 선진국 지수에 편입돼 있는 한국 증시에 대해 공매도 제한 등을 이유로 관찰 대상국으로 지정할지 관심. 지정되더라도 검토 기간이 있어 즉각 제외되지는 않음.\n",
      "손희연 기자(kunst@zdnet.co.kr)\n",
      "기자 프로필\n",
      "지디넷코리아\n",
      "지디넷코리아\n",
      "손희연 기자\n",
      "손희연 기자\n",
      "구독\n",
      "구독중\n",
      "구독자 0\n",
      "응원수\n",
      "0\n",
      "디지털이 접목되는 금융·식음료업계를 취재합니다 \n",
      "SKT 유심 정보유출 불안하다면…\"4천여 금융사 대출 한번에 차단\"\n",
      "5월 연휴에 금융거래 중단됩니다\n",
      "지디넷코리아의 구독 많은 기자를 구독해보세요!\n",
      "닫기\n",
      "Copyright ⓒ ZDNet Korea. All rights reserved. 무단 전재 및 재배포 금지.\n",
      " \n",
      "이 기사는 언론사에서 IT 섹션으로 분류했습니다.\n",
      "기사 섹션 분류 안내\n",
      "기사의 섹션 정보는 해당 언론사의 분류를 따르고 있습니다. 언론사는 개별 기사를 2개 이상 섹션으로 중복 분류할 수 있습니다.\n",
      "닫기\n",
      "구독\n",
      "메인에서 바로 보는 언론사 편집 뉴스 지금 바로 구독해보세요!\n",
      "구독중\n",
      "메인에서 바로 보는 언론사 편집 뉴스 지금 바로 확인해보세요!\n",
      "지디넷코리아 '홈페이지'\n",
      "QR 코드를 클릭하면 크게 볼 수 있어요.\n",
      "QR을 촬영해보세요.\n",
      "지디넷코리아 '홈페이지'\n",
      "닫기\n",
      "네이버 채널 구독하기\n",
      "지디넷코리아\n",
      "지디넷코리아\n",
      "\t\t\t주요뉴스해당 언론사에서 선정하며 언론사 페이지(아웃링크)로 이동해 볼 수 있습니다.\n",
      "KB금융, 광주 1인 여성 자영업자에 월 100만원 지원\n",
      "아파트만? 이제 빌라 주담대도 갈아타자\n",
      "카카오뱅크, 6일 새벽 금융거래 일시 중단\n",
      "우리은행 올해만 세 번째 금융사고…\"허위서류로 55억 대출\"\n",
      "이 기사를 추천합니다\n",
      "기사 추천은 24시간 내 50회까지 참여할 수 있습니다.\n",
      "닫기\n",
      "쏠쏠정보\n",
      "0\n",
      "흥미진진\n",
      "0\n",
      "공감백배\n",
      "0\n",
      "분석탁월\n",
      "0\n",
      "후속강추\n",
      "0\n",
      " \n",
      "모두에게 보여주고 싶은 기사라면?beta\n",
      "이 기사를 추천합니다 버튼을 눌러주세요.  집계 기간 동안 추천을 많이 받은 기사는 네이버 자동 기사배열 영역에 추천 요소로 활용됩니다.\n",
      "레이어 닫기\n",
      " \n",
      "지디넷코리아 언론사가 직접 선정한 이슈\n",
      "\t\t\t\n",
      "이슈\n",
      "트럼프 2.0시대\n",
      "트럼프 \"외국영화 100% 관세...미국 안보 위협\"\n",
      "이슈\n",
      "AI 핫트렌드\n",
      "美·中선 추론이 대세인데…전 세계 세 번째 LLM 개발국 韓 현 주소는?\n",
      "이슈\n",
      "반도체 전쟁\n",
      "빅테크, AI 인프라에 공격적 투자…삼성·SK도 서버용 메모리 집중\n",
      "이슈\n",
      "고려아연 경영권 분쟁\n",
      "검찰, NH투자증권 직원 압수수색…고려아연 경영권 분쟁 관련\n",
      "이전\n",
      "다음\n",
      "지디넷코리아 언론사홈 바로가기\n",
      " \n",
      "기자 구독 후 기사보기\n",
      "구독 없이 계속 보기\n",
      "\u001b[32;1m\u001b[1;3m[{'type': 'text', 'text': '\\n\\n이 기사는 9월 미국 CPI와 3분기 S&P 500 기업 실적 발표를 주요 내용으로 다루고 있습니다. \\n\\n주요 요약:\\n\\n- 9월 미국 CPI 발표를 앞두고 물가 지표에 주목. 전월보다 추가 하락 전망\\n\\n- 미국 연준의 11월 FOMC에서 0.5%p 인상 기대가 낮아짐\\n\\n- S&P 500 기업들의 3분기 실적 발표 시작. 평균 이익 증가율은 전년 동기 대비 4.6%로 증가폭 둔화 예상\\n\\n- 한국 증시의 FTSE 러셀 지수 편입 여부에 관심\\n\\n- 기타 금융/경제 관련 주요 이슈들도 간략히 소개', 'index': 0}]\u001b[0m\n",
      "\n",
      "\u001b[1m> Finished chain.\u001b[0m\n",
      "[{'type': 'text', 'text': '\\n\\n이 기사는 9월 미국 CPI와 3분기 S&P 500 기업 실적 발표를 주요 내용으로 다루고 있습니다. \\n\\n주요 요약:\\n\\n- 9월 미국 CPI 발표를 앞두고 물가 지표에 주목. 전월보다 추가 하락 전망\\n\\n- 미국 연준의 11월 FOMC에서 0.5%p 인상 기대가 낮아짐\\n\\n- S&P 500 기업들의 3분기 실적 발표 시작. 평균 이익 증가율은 전년 동기 대비 4.6%로 증가폭 둔화 예상\\n\\n- 한국 증시의 FTSE 러셀 지수 편입 여부에 관심\\n\\n- 기타 금융/경제 관련 주요 이슈들도 간략히 소개', 'index': 0}]\n"
     ]
    }
   ],
   "source": [
    "result = agent_executor.invoke(\n",
    "    {\n",
    "        \"input\": \"뉴스 기사를 요약해 줘: https://n.news.naver.com/mnews/hotissue/article/092/0002347672?type=series&cid=2000065\"\n",
    "    }\n",
    ")\n",
    "print(result[\"output\"])\n"
   ]
  },
  {
   "cell_type": "code",
   "execution_count": null,
   "id": "b673a959-6017-438b-b939-3b3fca0f43eb",
   "metadata": {},
   "outputs": [],
   "source": []
  }
 ],
 "metadata": {
  "kernelspec": {
   "display_name": "Python 3 (ipykernel)",
   "language": "python",
   "name": "python3"
  },
  "language_info": {
   "codemirror_mode": {
    "name": "ipython",
    "version": 3
   },
   "file_extension": ".py",
   "mimetype": "text/x-python",
   "name": "python",
   "nbconvert_exporter": "python",
   "pygments_lexer": "ipython3",
   "version": "3.12.9"
  }
 },
 "nbformat": 4,
 "nbformat_minor": 5
}
