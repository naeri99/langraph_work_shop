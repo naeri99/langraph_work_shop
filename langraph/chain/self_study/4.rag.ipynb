{
 "cells": [
  {
   "cell_type": "code",
   "execution_count": 1,
   "id": "0a72e6b7-5da6-433c-9386-f1e66b264802",
   "metadata": {},
   "outputs": [],
   "source": [
    "from langchain_aws import ChatBedrockConverse\n",
    "from langchain.schema import HumanMessage, SystemMessage\n",
    "import boto3\n",
    "from langchain_core.output_parsers import StrOutputParser\n",
    "from langchain_core.prompts import ChatPromptTemplate\n",
    "from opensearchpy import OpenSearch, RequestsHttpConnection\n",
    "import os\n",
    "import boto3\n",
    "import json\n",
    "import sys\n",
    "from langchain.schema import BaseRetriever, Document\n",
    "from typing import List, Optional, Dict, Tuple\n",
    "from langchain.prompts.prompt import PromptTemplate\n",
    "import uuid\n",
    "from datetime import datetime\n",
    "from botocore.exceptions import ClientError\n",
    "from operator import itemgetter\n",
    "from langchain_core.runnables import RunnableLambda\n",
    "from boto3.dynamodb.conditions import Key\n",
    "from pydantic import BaseModel, Field\n",
    "from langchain_core.output_parsers import JsonOutputParser\n",
    "from langchain_core.runnables import RunnableParallel, RunnablePassthrough\n",
    "from langchain_text_splitters import RecursiveCharacterTextSplitter\n",
    "from langchain_community.document_loaders import PyMuPDFLoader\n",
    "from langchain_community.vectorstores import FAISS\n",
    "from langchain_core.output_parsers import StrOutputParser\n",
    "from langchain_core.runnables import RunnablePassthrough\n",
    "from langchain_core.prompts import PromptTemplate\n",
    "from langchain_aws import BedrockEmbeddings\n",
    "\n"
   ]
  },
  {
   "cell_type": "code",
   "execution_count": 2,
   "id": "62f6f1a3-29b7-4f98-9e72-75695972b25e",
   "metadata": {},
   "outputs": [
    {
     "name": "stdout",
     "output_type": "stream",
     "text": [
      "rag\n"
     ]
    }
   ],
   "source": [
    "print(\"rag\")"
   ]
  },
  {
   "cell_type": "code",
   "execution_count": 3,
   "id": "6bf5f251-00c4-451c-8a50-4b9a44f53c32",
   "metadata": {},
   "outputs": [],
   "source": [
    "#bedrock client 설정\n",
    "bedrock_client = boto3.client(\n",
    "    service_name='bedrock-runtime',\n",
    "    region_name='us-east-1'  # replace with your region\n",
    ")"
   ]
  },
  {
   "cell_type": "code",
   "execution_count": 4,
   "id": "569f9d4c-0556-43f6-a3d6-883d5d74d121",
   "metadata": {},
   "outputs": [],
   "source": [
    "#embedding\n",
    "bedrock_embeddings = BedrockEmbeddings(\n",
    "    model_id=\"amazon.titan-embed-text-v2:0\",  # You can choose other models like \"cohere.embed-english-v3\"\n",
    "    region_name=\"us-east-1\",  # Change to your AWS region\n",
    "    client=bedrock_client  # Optional: provide your own boto3 client\n",
    ")\n"
   ]
  },
  {
   "cell_type": "code",
   "execution_count": 5,
   "id": "8d998ccb-3382-4464-817e-f0e3f3325115",
   "metadata": {},
   "outputs": [],
   "source": [
    "#llm\n",
    "llm = ChatBedrockConverse(\n",
    "    model_id=\"anthropic.claude-3-sonnet-20240229-v1:0\",\n",
    "    client=bedrock_client,\n",
    "    temperature=0.7,\n",
    "    max_tokens=2000\n",
    ")"
   ]
  },
  {
   "cell_type": "code",
   "execution_count": 6,
   "id": "f0d1b183-4117-4104-92d5-47add7875e4a",
   "metadata": {},
   "outputs": [
    {
     "name": "stdout",
     "output_type": "stream",
     "text": [
      "문서의 페이지수: 5\n"
     ]
    }
   ],
   "source": [
    "loader = PyMuPDFLoader(\"/home/jovyan/langtest/langraph_work_shop/data/webzinepdf_6362.pdf\")\n",
    "docs = loader.load()\n",
    "print(f\"문서의 페이지수: {len(docs)}\")"
   ]
  },
  {
   "cell_type": "code",
   "execution_count": 7,
   "id": "bca10af4-d5f8-4927-886c-1b0b60310fa8",
   "metadata": {},
   "outputs": [
    {
     "name": "stdout",
     "output_type": "stream",
     "text": [
      "2024-14호│2024. 06. 25 ~ 07. 08\n",
      "2\n",
      "\t\n",
      "・디지털 기반의 서비스가 점차 복잡해지고 다양화되면서 사이버 공격은 매년 증가하고 있으\n",
      "며, 특히 코로나 팬데믹을 겪은 2020년 이후 급격하게 증가한 디지털 활용으로 인해 사이버 \n",
      "공격이 크게 증가\n",
      "     <그림 1> 데이터 침해가 발생한 산업별 비중\n",
      "        <그림 2> 사이버보안 사고 현황\n",
      "자료: \u0007Kroll, 2024. 2. 7, Data breach outlook: \n",
      "Finance surpasses healthcare as most \n",
      "breached industry in 2023\n",
      "자료: IMF\n",
      "\t\n",
      "□금융 부문의 사이버보안 위험 사례가 증가하고 있는 가운데, 데이터 유출 및 시스템 공격, 피싱 등 \n",
      "다양한 형태의 사이버보안 위협 문제가 나타남\n",
      "\t\n",
      "— 금융기관은 다른 부문에 비해 대규모의 민감한 데이터를 보유하고 있어 해커들의 주요 표적이 \n",
      "됨3)\n",
      "\t\n",
      "・대규모 유출 사례로서 2019년 First American Financial의 8억 8,500만명의 고객 정보가 \n",
      "유출된 사건이 있고, Equifax에서도 2017년 1억 6,000만명 이상의 민감한 정보가 유출됨\n",
      "\t\n",
      "・2024년 들어서도 푸르덴셜 보험이 사이버 공격을 당하면서 250만명의 고객이 피해를 입었고 \n",
      "LoanDepot에서도 1,600만명의 고객 데이터가 노출되는 등 계속적으로 중요한 정보에 대한 \n",
      "데이터 침해 사고가 이어지고 있음\n",
      "\t\n",
      "— 분산 서비스 거부 공격인 디도스(DDoS)는 대량의 악성 트래픽을 순간적으로 일으켜 서버를 마\n",
      "비시키면서 사용자들의 접근 및 사용을 방해하는 것으로 금융권에서 빈번하게 발생\n",
      "\t\n",
      "・2023년 전체 DDos공격의 35%가 금융 부문을 표적으로 삼으며 피해가 발생했으며 EMEA \n",
      "(유럽, 중동 및 아프리카) 지역에서 금융 부문에 대한 DDos 공격이 66%, 북미에서는 28%를 \n",
      "차지4)\n",
      "3)  \u0007Financial Times, 2024. 1. 16, Cyber attacks reveal fragility of financial markets.\n",
      "4)  \u0007FS-ISAC, 2024. 3, DDoS: Here to Stay.\n"
     ]
    }
   ],
   "source": [
    "print(docs[1].page_content)\n"
   ]
  },
  {
   "cell_type": "code",
   "execution_count": null,
   "id": "8a7d49c0-57a3-472f-9967-8be44cf0b33d",
   "metadata": {},
   "outputs": [],
   "source": []
  },
  {
   "cell_type": "code",
   "execution_count": 8,
   "id": "447988cb-e66a-4f82-a757-f88ec4ed2f56",
   "metadata": {},
   "outputs": [
    {
     "name": "stdout",
     "output_type": "stream",
     "text": [
      "분할된 청크의수: 17\n"
     ]
    }
   ],
   "source": [
    "text_splitter = RecursiveCharacterTextSplitter(chunk_size=500, chunk_overlap=50)\n",
    "split_documents = text_splitter.split_documents(docs)\n",
    "print(f\"분할된 청크의수: {len(split_documents)}\")"
   ]
  },
  {
   "cell_type": "code",
   "execution_count": 9,
   "id": "67229963-27d1-469b-b2f0-4827c805bc97",
   "metadata": {},
   "outputs": [],
   "source": [
    "vectorstore = FAISS.from_documents(documents=split_documents, embedding=bedrock_embeddings)\n"
   ]
  },
  {
   "cell_type": "code",
   "execution_count": 10,
   "id": "14f48490-6c23-47c7-8dba-edc8d91546eb",
   "metadata": {},
   "outputs": [
    {
     "name": "stdout",
     "output_type": "stream",
     "text": [
      "하여 사이버보안 위협에 효과적으로 대응해야 함\n",
      "\t\n",
      "・IMF는 금융 부문의 사이버 위험 노출로 인한 손실은 심각한 시장 혼란이 발생할 수 있다고 \n",
      "경고했고 특히 금융 부문은 민감한 데이터가 관련되어 있기 때문에 사이버 공격에 취약하다\n",
      "는 것을 강조\n",
      "\t\n",
      "・금융 부문의 보안 사고는 금융 시스템에 대한 신뢰를 약화시키고, 중요한 서비스를 방해하거\n",
      "나, 다른 기관에 파급효과를 일으킬 경우 금융 및 경제 안정성을 위협하며, 금전적인 손실뿐 \n",
      "아니라 평판 훼손과 같은 간접적인 손실도 상당히 높게 발생할 수 있음\n",
      "\t\n",
      "— 금융기관도 사이버보안 전략 강화를 위한 적극적인 노력으로 보안 기술의 도입 및 직원 교육 등 \n",
      "자체적인 보안 역량을 갖추는 것이 중요9)\n",
      "\t\n",
      "・보안 모델 수립과 실시간 모니터링을 통한 침입감지 시스템, 데이터 암호화, 보안 교육 및 인식 \n",
      "제고, 백업 및 복구 계획 등을 고려\n",
      "종안을 발표하여 정교해진 사이버 공격에 대비한 사이버보안 프로그램의 개선과 감독을 강화\n",
      "\t\n",
      "・유럽의 경우 데이터 보호 규정(GDPR), EU 사이버보안법, 네트워크 및 정보시스템 지침\n",
      "(Network and Information Systems: NIS) 등을 통해 사이버보안을 강화하고 고객의 데이\n",
      "터 보호 및 금융시스템 안정성 유지를 위한 지침 제시\n",
      "\t\n",
      "・일본에서도 FSA는 금융기관 시스템에 대한 FISC(Financial Industry Information \n",
      "Systems) 보안 가이드라인을 개정하여 사이버보안을 더욱 강화할 것을 밝힘6)\n",
      "\t\n",
      "— 국가 차원의 규제 및 가이드라인뿐 아니라 금융기관 자체에서도 사이버보안 위협을 방지하기 \n",
      "위해 보안 전략을 강화하며 대응\n",
      "\t\n",
      "・바클레이스는 고객정보보호와 거래 안전성 강화를 위해 사이버보안 및 회복성을 최우선 순\n",
      "위로 삼고 사이버보안 전략을 수립\n",
      "5)  \u0007IBM, 2024. 3. 17, What is phishing?\n",
      "하고 복잡해진 기술로 인해 사이버보안 위험은 더욱 증가하는 상황\n",
      "\t\n",
      "□금융기관은 민감한 정보 보호 및 금융시스템의 안정성, 그리고 금융 손실 예방 등을 위해 중요\n",
      "한 과제로서 지속적인 사이버보안 인프라 구축 노력이 필요\n",
      "\t\n",
      "□국내에서도 규정 마련과 함께 금융기관의 사이버보안 강화 노력이 계속되고 있는 가운데, 급변\n",
      "하는 상황에 적합한 유연한 대응 능력이 중요\n",
      "금융기관의 사이버보안 위험과 과제  \n",
      "ZOOM\n",
      "-IN\n",
      "자본시장포커스\n",
      "KOREA CAPITAL MARKET INSTITUTE\n",
      "자본시장포커스\n",
      "5\n",
      "\t\n",
      "・사이버보안 환경을 주기적으로 평가하고 제3자 서비스 제공업체를 포함하여 상호 연결성과 \n",
      "집중으로 인한 잠재적인 체계적 위험을 식별\n",
      "\t\n",
      "□국내에서도 규정 마련과 함께 금융기관의 사이버보안 강화 노력이 계속되고 있는 가운데, 급변하는 \n",
      "상황에 적합한 유연한 대응 능력이 중요\n",
      "\t\n",
      "— 국내 금융기관도 사이버보안 위협의 대상이 되고 있어 금융기관의 사이버보안 위험을 인식하고 \n",
      "규제가 마련되어 있으며, 금융기관 차원의 노력도 진행\n",
      "\t\n",
      "・국내 금융기관도 몇 년 동안 DDos, 랜섬웨어 공격을 받은 전례가 있고, 증권사의 개인정보를 \n",
      "유출하거나 국내 은행의 해외지점이 금전적인 피해를 입는 등 끊임없이 사이버 공격이 시도됨\n",
      "\t\n",
      "・국내에서는 사이버보안 위협에 대비하기 위해 대표적으로 전자금융거래법, 전자금융감독규\n",
      "정, 개인정보보호법 등의 법률이 마련되어 있음 \n",
      "\t\n",
      "— 금융당국은 사이버보안 위협에 선제적으로 대응이 필요함을 강조하며 고도화되는 사이버 위협\n"
     ]
    }
   ],
   "source": [
    "for doc in vectorstore.similarity_search(\"보안\"):\n",
    "    print(doc.page_content)"
   ]
  },
  {
   "cell_type": "code",
   "execution_count": 11,
   "id": "910f4731-b6b1-4908-8256-50032799180e",
   "metadata": {},
   "outputs": [],
   "source": [
    "retriever = vectorstore.as_retriever(\n",
    "    search_type=\"similarity\",  # Options: \"similarity\", \"mmr\", or \"similarity_score_threshold\"\n",
    "    search_kwargs={\n",
    "        \"k\": 20  # Return top 5 most relevant documents\n",
    "\n",
    "    }\n",
    ")\n"
   ]
  },
  {
   "cell_type": "code",
   "execution_count": 12,
   "id": "623fad3f-b5fd-487b-88c3-ed11a76a0360",
   "metadata": {},
   "outputs": [],
   "source": [
    "prompt = PromptTemplate.from_template(\n",
    "    \"\"\"You are an assistant for question-answering tasks. \n",
    "Use the following pieces of retrieved context to answer the question. \n",
    "If you don't know the answer, just say that you don't know. \n",
    "Answer in Korean.\n",
    "\n",
    "#Context: \n",
    "{context}\n",
    "\n",
    "#Question:\n",
    "{question}\n",
    "\n",
    "#Answer:\"\"\"\n",
    ")\n"
   ]
  },
  {
   "cell_type": "code",
   "execution_count": 13,
   "id": "686a36bf-032d-4cfc-bdfb-2da6d52de831",
   "metadata": {},
   "outputs": [],
   "source": [
    "security_chain = (\n",
    "    {\"context\": retriever, \"question\": RunnablePassthrough()}\n",
    "    | prompt\n",
    "    | llm\n",
    "    | StrOutputParser()\n",
    ")\n"
   ]
  },
  {
   "cell_type": "code",
   "execution_count": 14,
   "id": "90fb422a-2227-4ad4-9375-a7da53fc6b34",
   "metadata": {},
   "outputs": [
    {
     "name": "stdout",
     "output_type": "stream",
     "text": [
      "국내에서는 고객 데이터 보호와 관련하여 개인정보보호법, 전자금융거래법, 전자금융감독규정 등의 법률이 마련되어 있습니다. 해당 법률은 금융기관의 고객 정보 유출 방지와 안전한 관리를 위한 규정을 포함하고 있습니다.\n"
     ]
    }
   ],
   "source": [
    "question = \"고객데이터 관련 규정을 알려줘\"\n",
    "response = security_chain.invoke(question)\n",
    "print(response)\n"
   ]
  },
  {
   "cell_type": "code",
   "execution_count": null,
   "id": "3ed92966-877a-4fe8-b5b2-17e3a69ef899",
   "metadata": {},
   "outputs": [],
   "source": []
  },
  {
   "cell_type": "code",
   "execution_count": 15,
   "id": "ccccdbb1-3838-467e-a19e-fd292519ffa7",
   "metadata": {},
   "outputs": [],
   "source": [
    "import boto3\n",
    "import json\n",
    "\n",
    "bedrock_agent_reranker = boto3.client('bedrock-agent-runtime', region_name=\"us-west-2\")\n",
    "\n",
    "modelId = \"cohere.rerank-v3-5:0\"\n",
    "model_package_arn = f\"arn:aws:bedrock:us-west-2::foundation-model/{modelId}\"\n"
   ]
  },
  {
   "cell_type": "code",
   "execution_count": 16,
   "id": "c62de190-d836-44b6-b914-c7333a48a656",
   "metadata": {},
   "outputs": [],
   "source": [
    "def rerank_text(text_query, text_sources, num_results, model_package_arn):\n",
    "    response = bedrock_agent_reranker.rerank(\n",
    "        queries=[\n",
    "            {\n",
    "                \"type\": \"TEXT\",\n",
    "                \"textQuery\": {\n",
    "                    \"text\": text_query\n",
    "                }\n",
    "            }\n",
    "        ],\n",
    "        sources=text_sources,\n",
    "        rerankingConfiguration={\n",
    "            \"type\": \"BEDROCK_RERANKING_MODEL\",\n",
    "            \"bedrockRerankingConfiguration\": {\n",
    "                \"numberOfResults\": num_results,\n",
    "                \"modelConfiguration\": {\n",
    "                    \"modelArn\": model_package_arn,\n",
    "                }\n",
    "            }\n",
    "        }\n",
    "    )\n",
    "    return response['results']"
   ]
  },
  {
   "cell_type": "code",
   "execution_count": 17,
   "id": "4e13c9a5-6657-4d2f-a2ac-632acb003ef6",
   "metadata": {},
   "outputs": [],
   "source": [
    "def reranker(query):\n",
    "    text_sources = []\n",
    "    retrieved_docs = retriever.get_relevant_documents(query)\n",
    "    for i, doc in enumerate(retrieved_docs):\n",
    "        text_sources.append({\n",
    "            \"type\": \"INLINE\",\n",
    "            \"inlineDocumentSource\": {\n",
    "                \"type\": \"TEXT\",\n",
    "                \"textDocument\": {\n",
    "                    \"text\": doc.page_content,\n",
    "                }\n",
    "            }\n",
    "        })\n",
    "    response = rerank_text(query, text_sources, 5, model_package_arn)\n",
    "    final_response = []\n",
    "    for textid in response:\n",
    "        final_response.append(text_sources[textid[\"index\"]])\n",
    "    return final_response"
   ]
  },
  {
   "cell_type": "code",
   "execution_count": 18,
   "id": "d6586710-a275-4374-92d7-87991999695a",
   "metadata": {},
   "outputs": [
    {
     "name": "stderr",
     "output_type": "stream",
     "text": [
      "/tmp/ipykernel_6437/4189009193.py:3: LangChainDeprecationWarning: The method `BaseRetriever.get_relevant_documents` was deprecated in langchain-core 0.1.46 and will be removed in 1.0. Use :meth:`~invoke` instead.\n",
      "  retrieved_docs = retriever.get_relevant_documents(query)\n"
     ]
    },
    {
     "data": {
      "text/plain": [
       "[{'type': 'INLINE',\n",
       "  'inlineDocumentSource': {'type': 'TEXT',\n",
       "   'textDocument': {'text': '종안을 발표하여 정교해진 사이버 공격에 대비한 사이버보안 프로그램의 개선과 감독을 강화\\n\\t\\n・유럽의 경우 데이터 보호 규정(GDPR), EU 사이버보안법, 네트워크 및 정보시스템 지침\\n(Network and Information Systems: NIS) 등을 통해 사이버보안을 강화하고 고객의 데이\\n터 보호 및 금융시스템 안정성 유지를 위한 지침 제시\\n\\t\\n・일본에서도 FSA는 금융기관 시스템에 대한 FISC(Financial Industry Information \\nSystems) 보안 가이드라인을 개정하여 사이버보안을 더욱 강화할 것을 밝힘6)\\n\\t\\n— 국가 차원의 규제 및 가이드라인뿐 아니라 금융기관 자체에서도 사이버보안 위협을 방지하기 \\n위해 보안 전략을 강화하며 대응\\n\\t\\n・바클레이스는 고객정보보호와 거래 안전성 강화를 위해 사이버보안 및 회복성을 최우선 순\\n위로 삼고 사이버보안 전략을 수립\\n5)\\u2002 \\x07IBM, 2024. 3. 17, What is phishing?'}}},\n",
       " {'type': 'INLINE',\n",
       "  'inlineDocumentSource': {'type': 'TEXT',\n",
       "   'textDocument': {'text': '2024-14호│2024. 06. 25 ~ 07. 08\\n2\\n\\t\\n・디지털 기반의 서비스가 점차 복잡해지고 다양화되면서 사이버 공격은 매년 증가하고 있으\\n며, 특히 코로나 팬데믹을 겪은 2020년 이후 급격하게 증가한 디지털 활용으로 인해 사이버 \\n공격이 크게 증가\\n     <그림 1> 데이터 침해가 발생한 산업별 비중\\n        <그림 2> 사이버보안 사고 현황\\n자료: \\x07Kroll, 2024. 2. 7, Data breach outlook: \\nFinance surpasses healthcare as most \\nbreached industry in 2023\\n자료: IMF\\n\\t\\n□금융 부문의 사이버보안 위험 사례가 증가하고 있는 가운데, 데이터 유출 및 시스템 공격, 피싱 등 \\n다양한 형태의 사이버보안 위협 문제가 나타남\\n\\t\\n— 금융기관은 다른 부문에 비해 대규모의 민감한 데이터를 보유하고 있어 해커들의 주요 표적이 \\n됨3)'}}},\n",
       " {'type': 'INLINE',\n",
       "  'inlineDocumentSource': {'type': 'TEXT',\n",
       "   'textDocument': {'text': '하고 복잡해진 기술로 인해 사이버보안 위험은 더욱 증가하는 상황\\n\\t\\n□금융기관은 민감한 정보 보호 및 금융시스템의 안정성, 그리고 금융 손실 예방 등을 위해 중요\\n한 과제로서 지속적인 사이버보안 인프라 구축 노력이 필요\\n\\t\\n□국내에서도 규정 마련과 함께 금융기관의 사이버보안 강화 노력이 계속되고 있는 가운데, 급변\\n하는 상황에 적합한 유연한 대응 능력이 중요\\n금융기관의 사이버보안 위험과 과제  \\nZOOM\\n-IN\\n자본시장포커스\\nKOREA CAPITAL MARKET INSTITUTE'}}},\n",
       " {'type': 'INLINE',\n",
       "  'inlineDocumentSource': {'type': 'TEXT',\n",
       "   'textDocument': {'text': '하여 사이버보안 위협에 효과적으로 대응해야 함\\n\\t\\n・IMF는 금융 부문의 사이버 위험 노출로 인한 손실은 심각한 시장 혼란이 발생할 수 있다고 \\n경고했고 특히 금융 부문은 민감한 데이터가 관련되어 있기 때문에 사이버 공격에 취약하다\\n는 것을 강조\\n\\t\\n・금융 부문의 보안 사고는 금융 시스템에 대한 신뢰를 약화시키고, 중요한 서비스를 방해하거\\n나, 다른 기관에 파급효과를 일으킬 경우 금융 및 경제 안정성을 위협하며, 금전적인 손실뿐 \\n아니라 평판 훼손과 같은 간접적인 손실도 상당히 높게 발생할 수 있음\\n\\t\\n— 금융기관도 사이버보안 전략 강화를 위한 적극적인 노력으로 보안 기술의 도입 및 직원 교육 등 \\n자체적인 보안 역량을 갖추는 것이 중요9)\\n\\t\\n・보안 모델 수립과 실시간 모니터링을 통한 침입감지 시스템, 데이터 암호화, 보안 교육 및 인식 \\n제고, 백업 및 복구 계획 등을 고려'}}},\n",
       " {'type': 'INLINE',\n",
       "  'inlineDocumentSource': {'type': 'TEXT',\n",
       "   'textDocument': {'text': '문자 메시지 또는 전화를 통해 직원을 속여 민감한 정보를 공개하는 사례도 발견\\n\\t\\n・모건스탠리의 한 직원은 35만명의 개인정보를 유출했고, Capital One에서는 내부 클라우드 \\n보안 설정 오류로 인해 사이버보안 사고가 발생\\n\\t\\n・피싱은 이메일이나 휴대폰 문자 메시지 등을 통해 이루어지며, 2023년 평균 피싱 공격으로 인\\n한 손실은 476만 달러의 규모5)\\n\\t\\n□이와 같은 사이버보안 위험에 대비하여 규제 마련 및 금융기관의 사이버보안 강화 전략으로 대응하\\n고 있으나 더욱 정교하고 복잡해진 기술로 인해 사이버보안 위험은 더욱 증가하는 상황\\n\\t\\n— 점차 증가하는 금융기관의 사이버보안 위협에 대해 해외 각국에서는 규제를 마련하여 대응\\n\\t\\n・미국 SEC는 상장기업이 사이버 공격을 받은 경우 4일 이내에 공개하도록 요구함으로써 투자\\n자 보호를 강화했고, 뉴욕주는 지난해 11월 금융기관 사이버보안규정(NYCRR part 500) 최'}}}]"
      ]
     },
     "execution_count": 18,
     "metadata": {},
     "output_type": "execute_result"
    }
   ],
   "source": [
    "reranker(\"데이터 보호\")"
   ]
  },
  {
   "cell_type": "code",
   "execution_count": null,
   "id": "20b77f67-d5a3-4300-af69-8d60f369adeb",
   "metadata": {},
   "outputs": [],
   "source": []
  },
  {
   "cell_type": "code",
   "execution_count": 19,
   "id": "9d6902d2-b823-4d52-b874-af07deb65867",
   "metadata": {},
   "outputs": [],
   "source": [
    "security_chain_reranker = (\n",
    "    {\"context\": itemgetter(\"question\") | RunnableLambda(reranker) , \n",
    "     \"question\": itemgetter(\"question\")}\n",
    "    | prompt\n",
    "    | llm\n",
    "    | StrOutputParser()\n",
    ")\n"
   ]
  },
  {
   "cell_type": "code",
   "execution_count": 20,
   "id": "7e505612-d2f5-4f9d-b988-fac93162b9ea",
   "metadata": {},
   "outputs": [
    {
     "name": "stdout",
     "output_type": "stream",
     "text": [
      "고객 데이터 보호와 관련된 규정으로는 유럽연합의 데이터 보호 규정(GDPR)이 있습니다. GDPR은 고객의 데이터 보호 및 금융시스템의 안정성 유지를 위한 지침을 제시하고 있습니다. 또한 유럽에서는 EU 사이버보안법, 네트워크 및 정보시스템 지침(NIS) 등을 통해 사이버보안을 강화하고 고객 데이터를 보호하고 있습니다.\n"
     ]
    }
   ],
   "source": [
    "question = \"고객데이터 관련 규정을 알려줘\"\n",
    "response = security_chain_reranker.invoke({\"question\": question})\n",
    "print(response)"
   ]
  },
  {
   "cell_type": "code",
   "execution_count": null,
   "id": "d107963c-3e0c-4a0a-9cfc-e80dc44f09dc",
   "metadata": {},
   "outputs": [],
   "source": []
  },
  {
   "cell_type": "code",
   "execution_count": null,
   "id": "164b6d80-15fb-40ab-86d2-544ae8c51ab5",
   "metadata": {},
   "outputs": [],
   "source": []
  },
  {
   "cell_type": "code",
   "execution_count": null,
   "id": "00b53876-5d4a-4924-a35f-b4a48dff4fb0",
   "metadata": {},
   "outputs": [],
   "source": []
  }
 ],
 "metadata": {
  "kernelspec": {
   "display_name": "Python 3 (ipykernel)",
   "language": "python",
   "name": "python3"
  },
  "language_info": {
   "codemirror_mode": {
    "name": "ipython",
    "version": 3
   },
   "file_extension": ".py",
   "mimetype": "text/x-python",
   "name": "python",
   "nbconvert_exporter": "python",
   "pygments_lexer": "ipython3",
   "version": "3.12.9"
  }
 },
 "nbformat": 4,
 "nbformat_minor": 5
}
