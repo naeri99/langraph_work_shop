{
 "cells": [
  {
   "cell_type": "code",
   "execution_count": 18,
   "id": "fe02eee6-d7c4-4380-aca5-ee002b20f231",
   "metadata": {},
   "outputs": [],
   "source": [
    "from langchain_aws import ChatBedrockConverse\n",
    "from langchain.schema import HumanMessage, SystemMessage\n",
    "import boto3\n",
    "from langchain_core.output_parsers import StrOutputParser\n",
    "from langchain_core.prompts import ChatPromptTemplate\n",
    "from opensearchpy import OpenSearch, RequestsHttpConnection\n",
    "import os\n",
    "import boto3\n",
    "import json\n",
    "import sys\n",
    "from langchain.schema import BaseRetriever, Document\n",
    "from typing import List, Optional, Dict, Tuple\n",
    "from langchain.prompts.prompt import PromptTemplate\n",
    "import uuid\n",
    "from datetime import datetime\n",
    "from botocore.exceptions import ClientError"
   ]
  },
  {
   "cell_type": "code",
   "execution_count": 19,
   "id": "11a6823c-14ef-495f-a119-ccba88d74e4d",
   "metadata": {},
   "outputs": [],
   "source": [
    "bedrock_client = boto3.client(\n",
    "    service_name='bedrock-runtime',\n",
    "    region_name='us-east-1'  # replace with your region\n",
    ")"
   ]
  },
  {
   "cell_type": "code",
   "execution_count": 20,
   "id": "2a787e86-dabb-462d-a153-b78de4f15e2c",
   "metadata": {},
   "outputs": [],
   "source": [
    "# Another way to initialize with streaming\n",
    "chat = ChatBedrockConverse(\n",
    "    model_id=\"anthropic.claude-3-sonnet-20240229-v1:0\",\n",
    "    client=bedrock_client,\n",
    "    temperature=0.7,\n",
    "    max_tokens=2000\n",
    ")\n"
   ]
  },
  {
   "cell_type": "code",
   "execution_count": 21,
   "id": "15d713d0-7309-4f94-974b-a8c3b6261854",
   "metadata": {},
   "outputs": [],
   "source": [
    "from langchain.memory import ConversationBufferMemory\n"
   ]
  },
  {
   "cell_type": "code",
   "execution_count": 22,
   "id": "0f326548-45f4-48ee-a5dd-ba2291adc6a0",
   "metadata": {},
   "outputs": [
    {
     "data": {
      "text/plain": [
       "ConversationBufferMemory(chat_memory=InMemoryChatMessageHistory(messages=[]))"
      ]
     },
     "execution_count": 22,
     "metadata": {},
     "output_type": "execute_result"
    }
   ],
   "source": [
    "#cpu의 메모리를 활용해서 conversation memory 사용. 추후 llm과 연동할수 있다\n",
    "memory = ConversationBufferMemory()\n",
    "memory\n"
   ]
  },
  {
   "cell_type": "code",
   "execution_count": 23,
   "id": "bb4a8eff-cd86-417b-b598-58d38f4b2cb3",
   "metadata": {},
   "outputs": [],
   "source": [
    "memory.save_context(\n",
    "    inputs={\n",
    "        \"human\": \"안녕하세요, 비대면으로 은행 계좌를 원하는데 도와주실수 있나요?\"\n",
    "    },\n",
    "    outputs={\n",
    "        \"ai\": \"안녕하세요! 계좌 개설을 원하신다니 기쁩니다. 먼저, 본인 인증을 위해 신분증을 준비해 주시겠어요?\"\n",
    "    },\n",
    ")"
   ]
  },
  {
   "cell_type": "code",
   "execution_count": 24,
   "id": "18b24cca-974b-4c64-9e84-04eb0a8509f2",
   "metadata": {},
   "outputs": [
    {
     "name": "stdout",
     "output_type": "stream",
     "text": [
      "Human: 안녕하세요, 비대면으로 은행 계좌를 원하는데 도와주실수 있나요?\n",
      "AI: 안녕하세요! 계좌 개설을 원하신다니 기쁩니다. 먼저, 본인 인증을 위해 신분증을 준비해 주시겠어요?\n"
     ]
    }
   ],
   "source": [
    "print(memory.load_memory_variables({})[\"history\"])\n"
   ]
  },
  {
   "cell_type": "code",
   "execution_count": 25,
   "id": "2d4c3a67-2c13-4273-9062-61c7f9cba464",
   "metadata": {},
   "outputs": [],
   "source": [
    "memory = ConversationBufferMemory(return_messages=True)\n",
    "\n",
    "memory.save_context(\n",
    "    inputs={\n",
    "        \"human\": \"안녕하세요, 비대면으로 은행 계좌를 개설하고 싶습니다. 어떻게 시작해야 하나요?\"\n",
    "    },\n",
    "    outputs={\n",
    "        \"ai\": \"안녕하세요! 계좌 개설을 원하신다니 기쁩니다. 먼저, 본인 인증을 위해 신분증을 준비해 주시겠어요?\"\n",
    "    },\n",
    ")\n",
    "\n",
    "memory.save_context(\n",
    "    inputs={\"human\": \"네, 신분증을 준비했습니다. 이제 무엇을 해야 하나요?\"},\n",
    "    outputs={\n",
    "        \"ai\": \"감사합니다. 신분증 앞뒤를 명확하게 촬영하여 업로드해 주세요. 이후 본인 인증 절차를 진행하겠습니다.\"\n",
    "    },\n",
    ")\n",
    "\n",
    "memory.save_context(\n",
    "    inputs={\"human\": \"사진을 업로드했습니다. 본인 인증은 어떻게 진행되나요?\"},\n",
    "    outputs={\n",
    "        \"ai\": \"업로드해 주신 사진을 확인했습니다. 이제 휴대폰을 통한 본인 인증을 진행해 주세요. 문자로 발송된 인증번호를 입력해 주시면 됩니다.\"\n",
    "    },\n",
    ")"
   ]
  },
  {
   "cell_type": "code",
   "execution_count": 26,
   "id": "c5af7fed-e02f-4467-9d27-186159d15ece",
   "metadata": {},
   "outputs": [
    {
     "name": "stdout",
     "output_type": "stream",
     "text": [
      "[HumanMessage(content='안녕하세요, 비대면으로 은행 계좌를 개설하고 싶습니다. 어떻게 시작해야 하나요?', additional_kwargs={}, response_metadata={}), AIMessage(content='안녕하세요! 계좌 개설을 원하신다니 기쁩니다. 먼저, 본인 인증을 위해 신분증을 준비해 주시겠어요?', additional_kwargs={}, response_metadata={}), HumanMessage(content='네, 신분증을 준비했습니다. 이제 무엇을 해야 하나요?', additional_kwargs={}, response_metadata={}), AIMessage(content='감사합니다. 신분증 앞뒤를 명확하게 촬영하여 업로드해 주세요. 이후 본인 인증 절차를 진행하겠습니다.', additional_kwargs={}, response_metadata={}), HumanMessage(content='사진을 업로드했습니다. 본인 인증은 어떻게 진행되나요?', additional_kwargs={}, response_metadata={}), AIMessage(content='업로드해 주신 사진을 확인했습니다. 이제 휴대폰을 통한 본인 인증을 진행해 주세요. 문자로 발송된 인증번호를 입력해 주시면 됩니다.', additional_kwargs={}, response_metadata={})]\n"
     ]
    }
   ],
   "source": [
    "print(memory.load_memory_variables({})[\"history\"])\n"
   ]
  },
  {
   "cell_type": "code",
   "execution_count": 27,
   "id": "b3ce7944-c7f1-4390-a6d4-64223c2701d8",
   "metadata": {},
   "outputs": [],
   "source": [
    "from langchain.chains import ConversationChain\n",
    "\n",
    "\n",
    "# ConversationChain을 생성합니다.\n",
    "conversation = ConversationChain(\n",
    "    # ConversationBufferMemory를 사용합니다.\n",
    "    llm=chat,\n",
    "    memory=ConversationBufferMemory(),\n",
    ")\n"
   ]
  },
  {
   "cell_type": "code",
   "execution_count": 28,
   "id": "5feedeab-8027-4846-9304-e94f7f5ec18d",
   "metadata": {},
   "outputs": [
    {
     "name": "stdout",
     "output_type": "stream",
     "text": [
      "안녕하세요. 비대면으로 은행 계좌를 개설하는 방법에 대해 알려드리겠습니다.\n",
      "\n",
      "1. 해당 은행의 모바일 애플리케이션이나 인터넷 뱅킹 사이트에 접속하세요.\n",
      "\n",
      "2. 신규 계좌 개설 메뉴를 찾아 절차를 진행하면 됩니다.\n",
      "\n",
      "3. 개인정보 입력, 본인 인증, 약관 동의 등의 과정을 거치게 됩니다.\n",
      "\n",
      "4. 본인 확인을 위해 영상통화나 휴대폰 인증 등의 절차가 있을 수 있습니다.\n",
      "\n",
      "5. 계좌 개설이 완료되면 계좌번호와 관련 정보를 받게 됩니다.\n",
      "\n",
      "전체적인 절차는 은행마다 조금씩 다를 수 있지만 대부분 모바일이나 인터넷을 통해 비대면으로 가능합니다. 문의사항이 더 있다면 말씀해주시기 바랍니다.\n"
     ]
    }
   ],
   "source": [
    "response = conversation.predict(\n",
    "    input=\"안녕하세요, 비대면으로 은행 계좌를 개설하고 싶습니다. 어떻게 시작해야 하나요?\"\n",
    ")\n",
    "print(response)\n"
   ]
  },
  {
   "cell_type": "code",
   "execution_count": 29,
   "id": "b7de4103-3139-43f8-afb2-766c53843d48",
   "metadata": {},
   "outputs": [
    {
     "name": "stdout",
     "output_type": "stream",
     "text": [
      "물론입니다. 비대면으로 은행 계좌를 개설하는 절차를 불렛 포인트로 정리하면 다음과 같습니다:\n",
      "\n",
      "• 해당 은행의 모바일 앱이나 인터넷뱅킹 사이트 접속\n",
      "• 신규 계좌 개설 메뉴 찾아 절차 진행\n",
      "• 개인정보 입력, 본인 인증, 약관 동의 등의 과정 거침\n",
      "• 본인 확인을 위해 영상통화나 휴대폰 인증 절차 있을 수 있음\n",
      "• 계좌 개설 완료 후 계좌번호와 관련 정보 수령\n",
      "\n",
      "은행마다 세부 절차가 조금씩 다를 수 있지만, 대부분 모바일이나 인터넷을 통해 비대면으로 계좌 개설이 가능합니다.\n"
     ]
    }
   ],
   "source": [
    "response = conversation.predict(\n",
    "    input=\"이전 답변을 불렛포인트 형식으로 정리하여 알려주세요.\"\n",
    ")\n",
    "print(response)\n"
   ]
  },
  {
   "cell_type": "code",
   "execution_count": 30,
   "id": "ac4adef8-a7eb-46d1-8e3e-dfd0cb34c6a1",
   "metadata": {},
   "outputs": [
    {
     "name": "stdout",
     "output_type": "stream",
     "text": [
      "Human: 안녕하세요, 비대면으로 은행 계좌를 개설하고 싶습니다. 어떻게 시작해야 하나요?\n",
      "AI: 안녕하세요. 비대면으로 은행 계좌를 개설하는 방법에 대해 알려드리겠습니다.\n",
      "\n",
      "1. 해당 은행의 모바일 애플리케이션이나 인터넷 뱅킹 사이트에 접속하세요.\n",
      "\n",
      "2. 신규 계좌 개설 메뉴를 찾아 절차를 진행하면 됩니다.\n",
      "\n",
      "3. 개인정보 입력, 본인 인증, 약관 동의 등의 과정을 거치게 됩니다.\n",
      "\n",
      "4. 본인 확인을 위해 영상통화나 휴대폰 인증 등의 절차가 있을 수 있습니다.\n",
      "\n",
      "5. 계좌 개설이 완료되면 계좌번호와 관련 정보를 받게 됩니다.\n",
      "\n",
      "전체적인 절차는 은행마다 조금씩 다를 수 있지만 대부분 모바일이나 인터넷을 통해 비대면으로 가능합니다. 문의사항이 더 있다면 말씀해주시기 바랍니다.\n",
      "Human: 이전 답변을 불렛포인트 형식으로 정리하여 알려주세요.\n",
      "AI: 물론입니다. 비대면으로 은행 계좌를 개설하는 절차를 불렛 포인트로 정리하면 다음과 같습니다:\n",
      "\n",
      "• 해당 은행의 모바일 앱이나 인터넷뱅킹 사이트 접속\n",
      "• 신규 계좌 개설 메뉴 찾아 절차 진행\n",
      "• 개인정보 입력, 본인 인증, 약관 동의 등의 과정 거침\n",
      "• 본인 확인을 위해 영상통화나 휴대폰 인증 절차 있을 수 있음\n",
      "• 계좌 개설 완료 후 계좌번호와 관련 정보 수령\n",
      "\n",
      "은행마다 세부 절차가 조금씩 다를 수 있지만, 대부분 모바일이나 인터넷을 통해 비대면으로 계좌 개설이 가능합니다.\n"
     ]
    }
   ],
   "source": [
    "print(conversation.memory.buffer)\n",
    "\n"
   ]
  },
  {
   "cell_type": "code",
   "execution_count": 31,
   "id": "1b32946c-e6a2-45e0-a9a3-73846b020943",
   "metadata": {},
   "outputs": [],
   "source": [
    "conversation.memory.clear()\n",
    "\n"
   ]
  },
  {
   "cell_type": "code",
   "execution_count": null,
   "id": "5a9a6fd5-6677-4db0-bf82-61891f0b1454",
   "metadata": {},
   "outputs": [],
   "source": []
  },
  {
   "cell_type": "code",
   "execution_count": null,
   "id": "70ac79d7-9b58-49d9-a661-d0ce57030727",
   "metadata": {},
   "outputs": [],
   "source": []
  },
  {
   "cell_type": "code",
   "execution_count": null,
   "id": "482df097-0a2a-42d0-9427-4861628c9e92",
   "metadata": {},
   "outputs": [],
   "source": []
  },
  {
   "cell_type": "code",
   "execution_count": null,
   "id": "40a5faee-31f7-4367-8fe5-74d138551827",
   "metadata": {},
   "outputs": [],
   "source": []
  },
  {
   "cell_type": "code",
   "execution_count": null,
   "id": "97042fbf-8aab-438c-a2b9-02311b65f966",
   "metadata": {},
   "outputs": [],
   "source": []
  },
  {
   "cell_type": "code",
   "execution_count": null,
   "id": "f9ec00d5-6c6c-4130-9f79-22addd3a8e7d",
   "metadata": {},
   "outputs": [],
   "source": []
  }
 ],
 "metadata": {
  "kernelspec": {
   "display_name": "Python 3 (ipykernel)",
   "language": "python",
   "name": "python3"
  },
  "language_info": {
   "codemirror_mode": {
    "name": "ipython",
    "version": 3
   },
   "file_extension": ".py",
   "mimetype": "text/x-python",
   "name": "python",
   "nbconvert_exporter": "python",
   "pygments_lexer": "ipython3",
   "version": "3.12.9"
  }
 },
 "nbformat": 4,
 "nbformat_minor": 5
}
