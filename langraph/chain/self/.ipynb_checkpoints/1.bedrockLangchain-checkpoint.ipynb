{
 "cells": [
  {
   "cell_type": "code",
   "execution_count": 1,
   "id": "41b30f8e-6597-408f-b795-e80544305f47",
   "metadata": {},
   "outputs": [],
   "source": [
    "from langchain_aws import ChatBedrockConverse\n",
    "from langchain.schema import HumanMessage, SystemMessage\n",
    "import boto3\n",
    "from langchain_core.output_parsers import StrOutputParser\n",
    "from langchain_core.prompts import ChatPromptTemplate\n",
    "from opensearchpy import OpenSearch, RequestsHttpConnection\n",
    "import os\n",
    "import boto3\n",
    "import json\n",
    "import sys\n",
    "from langchain.schema import BaseRetriever, Document\n",
    "from typing import List, Optional, Dict, Tuple\n",
    "from langchain.prompts.prompt import PromptTemplate\n"
   ]
  },
  {
   "cell_type": "code",
   "execution_count": 2,
   "id": "28bafcf5-1ccd-4d41-9b4d-dc723a1bd5e5",
   "metadata": {},
   "outputs": [],
   "source": [
    "async def extract_text(chain):\n",
    "    collected_text = []\n",
    "    async for event in chain.astream_events({\"topic\": \"parrot\"}):\n",
    "        if event[\"event\"] == \"on_chat_model_stream\":\n",
    "            chunk = event[\"data\"][\"chunk\"]\n",
    "            if chunk.content:\n",
    "                for content_item in chunk.content:\n",
    "                    if text := content_item.get('text'):\n",
    "                        collected_text.append(text)\n",
    "                        print(text, end=\"\", flush=True)\n",
    "    return \"\".join(collected_text)\n",
    "\n"
   ]
  },
  {
   "cell_type": "code",
   "execution_count": 3,
   "id": "ebb36b38-16ab-4df1-bbfd-39f0d477669b",
   "metadata": {},
   "outputs": [],
   "source": [
    "#bedrock client 설정\n",
    "bedrock_client = boto3.client(\n",
    "    service_name='bedrock-runtime',\n",
    "    region_name='us-east-1'  # replace with your region\n",
    ")"
   ]
  },
  {
   "cell_type": "code",
   "execution_count": 4,
   "id": "1420ed61-4035-443e-9a39-5fd3eb94f6d5",
   "metadata": {},
   "outputs": [],
   "source": [
    "# langchain과 bedrock client 연결하여 langchain interface안에서 bedrock api 호출 가능하게함\n",
    "llm = ChatBedrockConverse(\n",
    "    model_id=\"anthropic.claude-3-sonnet-20240229-v1:0\",\n",
    "    client=bedrock_client,\n",
    "    temperature=0.7,\n",
    "    max_tokens=2000\n",
    ")\n",
    "\n",
    "prompt = ChatPromptTemplate.from_messages([\n",
    "    (\"system\", \"You are a helpful assistant.\"),\n",
    "    (\"human\", \"태양의 온도에 대해 말해줘\")\n",
    "])\n",
    "\n",
    "chain = prompt | llm | StrOutputParser()"
   ]
  },
  {
   "cell_type": "code",
   "execution_count": 5,
   "id": "3dc95b18-0537-4983-98b0-57244311e624",
   "metadata": {},
   "outputs": [
    {
     "name": "stdout",
     "output_type": "stream",
     "text": [
      "태양의 온도는 매우 높습니다. 태양 중심부의 온도는 약 1,500만도 정도로 추정됩니다. 이는 지구 표면 온도의 약 300배에 달하는 엄청난 고온입니다. \n",
      "\n",
      "양 표면인 광구 온도는 약 5,800K(kelvin, 절대온도 단위) 정도로 알려져 있습니다. 이는 섭씨 약 5,500도에 해당합니다.\n",
      "\n",
      "양의 고온은 핵융합 반응에 의해 발생합니다. 태양 중심부에서는 수소 원자핵들이 엄청난 중력과 압력에 의해 융합되면서 헬륨으로 바뀌고, 이 과정에서 막대한 에너지가 방출됩니다. 이 에너지가 열과 빛의 형태로 방출되어 태양의 고온을 유지하게 됩니다.\n",
      "\n",
      "양의 이런 고온 덕분에 지구에 생명체가 살 수 있는 적정 온도를 유지할 수 있습니다. 태양은 지구의 생명 활동에 필수적인 에너지원입니다."
     ]
    }
   ],
   "source": [
    "full_text = await extract_text(chain)"
   ]
  },
  {
   "cell_type": "code",
   "execution_count": null,
   "id": "db2f6c6c-d14b-4ee9-89c1-01f88eb51198",
   "metadata": {},
   "outputs": [],
   "source": []
  },
  {
   "cell_type": "code",
   "execution_count": null,
   "id": "8cc7f3aa-9c3d-4fd1-9230-faba28a3fad4",
   "metadata": {},
   "outputs": [],
   "source": []
  },
  {
   "cell_type": "code",
   "execution_count": null,
   "id": "eb541f50-f93b-436e-91ec-3ae3b981c98b",
   "metadata": {},
   "outputs": [],
   "source": []
  },
  {
   "cell_type": "code",
   "execution_count": 12,
   "id": "0ed41f89-80bb-4c06-a49d-8777d97ce451",
   "metadata": {},
   "outputs": [
    {
     "name": "stdout",
     "output_type": "stream",
     "text": [
      "langchain 방삭\n"
     ]
    }
   ],
   "source": [
    "print(\"langchain 방삭\") \n"
   ]
  },
  {
   "cell_type": "code",
   "execution_count": 15,
   "id": "2935633d-b489-43df-8fb5-c55ca35423da",
   "metadata": {},
   "outputs": [],
   "source": [
    "#input { json 포맷 }\n",
    "input_format = {\n",
    "    \"relevant_information\" : \"상사병은 상사로 인한 스트레스가 쌓인 병을 뜻한다\", \n",
    "    \"question\" : \"상사병은 무엇인가요?\"\n",
    "    \n",
    "}"
   ]
  },
  {
   "cell_type": "code",
   "execution_count": 16,
   "id": "d130f152-8c32-44a9-a91c-86dac0dbaec0",
   "metadata": {},
   "outputs": [],
   "source": [
    "#prompt(text로 변환) input의 json형식에서 relevant_information와 question 정보를 담아서 prompt로 보내면 prompt의 relevant_information과 question 와 연결된다\n",
    "template_general = \"\"\"The following is a friendly conversation between a human and an AI. \n",
    "The AI is talkative and provides lots of specific details from its context. \n",
    "\n",
    "Relevant Information:\n",
    "{relevant_information}\n",
    "\n",
    "Conversation:\n",
    "Human: {question}\n",
    "AI:\"\"\"\n",
    "\n",
    "prompt_general  = PromptTemplate( input_variables=[\"relevant_information\", \"question\"], template=template_general)"
   ]
  },
  {
   "cell_type": "code",
   "execution_count": 17,
   "id": "942fc21e-a3e8-49f6-9e29-a42b4efafb55",
   "metadata": {},
   "outputs": [
    {
     "data": {
      "text/plain": [
       "ChatBedrockConverse(client=<botocore.client.BedrockRuntime object at 0x7f6c7f274500>, model_id='anthropic.claude-3-sonnet-20240229-v1:0', max_tokens=2000, temperature=0.7, provider='anthropic', supports_tool_choice_values=('auto', 'any', 'tool'))"
      ]
     },
     "execution_count": 17,
     "metadata": {},
     "output_type": "execute_result"
    }
   ],
   "source": [
    "#위에 bedrock과 langchain interface를 연동한 object\n",
    "llm"
   ]
  },
  {
   "cell_type": "code",
   "execution_count": 18,
   "id": "2a48710b-ebbb-4f43-90a2-1863cf49921c",
   "metadata": {},
   "outputs": [],
   "source": [
    "#llm의 결과를 string으로 변환해서 보내주는 parser\n",
    "parser = StrOutputParser()\n"
   ]
  },
  {
   "cell_type": "code",
   "execution_count": 19,
   "id": "3786d978-e26f-4501-9606-2988127e9818",
   "metadata": {},
   "outputs": [],
   "source": [
    "#langchain문법을 통해 연결한다  input { json 포맷 }  -> prompt(text로 변환) -> llm(bedrock) -> output(string타입, json타입)\n",
    "langchain = prompt_general | llm | parser"
   ]
  },
  {
   "cell_type": "code",
   "execution_count": 20,
   "id": "9ae4d1ec-be26-41c3-b7c3-dd57a0cd0ed1",
   "metadata": {},
   "outputs": [
    {
     "data": {
      "text/plain": [
       "'상사병은 직장 내에서 상사로부터 받는 스트레스나 갈등으로 인해 발생하는 심리적, 신체적 증상을 일컫는 말입니다. 주요 증상으로는 불면증, 두통, 소화기 장애, 우울증 등이 있습니다. 상사의 부당한 지시나 인격 모독, 괴롭힘 등으로 인해 발생할 수 있습니다.\\n\\n상사병을 예방하기 위해서는 상사와 원활한 의사소통을 하고, 업무 스트레스를 적절히 해소할 수 있는 방법을 찾는 것이 중요합니다. 회사 차원에서도 상사 교육, 고충 처리 제도 등을 통해 직원들의 스트레스를 관리해 줄 필요가 있죠.\\n\\n상사병이 지속되면 결국 직장을 그만둬야 하는 상황이 올 수 있으므로, 초기에 대처하는 것이 중요합니다. 상사와의 관계 개선이 어렵다면 인사 부서나 고충 상담실 등을 적극 활용하는 것도 하나의 방법입니다.'"
      ]
     },
     "execution_count": 20,
     "metadata": {},
     "output_type": "execute_result"
    }
   ],
   "source": [
    "langchain.invoke(input_format)"
   ]
  },
  {
   "cell_type": "code",
   "execution_count": null,
   "id": "a74e0296-a426-43e5-ac9c-a9a1537a6af1",
   "metadata": {},
   "outputs": [],
   "source": []
  },
  {
   "cell_type": "code",
   "execution_count": null,
   "id": "16480d97-11a8-4053-a7ac-6811834bc61d",
   "metadata": {},
   "outputs": [],
   "source": []
  },
  {
   "cell_type": "code",
   "execution_count": null,
   "id": "0fac108a-eb0f-4292-b91a-3cbe9ade69e3",
   "metadata": {},
   "outputs": [],
   "source": []
  }
 ],
 "metadata": {
  "kernelspec": {
   "display_name": "Python 3 (ipykernel)",
   "language": "python",
   "name": "python3"
  },
  "language_info": {
   "codemirror_mode": {
    "name": "ipython",
    "version": 3
   },
   "file_extension": ".py",
   "mimetype": "text/x-python",
   "name": "python",
   "nbconvert_exporter": "python",
   "pygments_lexer": "ipython3",
   "version": "3.12.9"
  }
 },
 "nbformat": 4,
 "nbformat_minor": 5
}
